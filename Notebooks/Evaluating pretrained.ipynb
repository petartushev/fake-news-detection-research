{
 "cells": [
  {
   "cell_type": "code",
   "execution_count": 1,
   "id": "fa98f852",
   "metadata": {},
   "outputs": [],
   "source": [
    "import os\n",
    "import numpy as np\n",
    "import pandas as pd\n",
    "# import pickle\n",
    "\n",
    "import tensorflow as tf\n",
    "# from tensorflow.keras.models import Model\n",
    "# from tensorflow.keras.layers import Input, Dense, Flatten\n",
    "from transformers import DistilBertTokenizerFast, TFDistilBertForSequenceClassification, TFBertForSequenceClassification, BertTokenizerFast, TFBertModel\n",
    "\n",
    "from sklearn.metrics import classification_report, accuracy_score"
   ]
  },
  {
   "cell_type": "markdown",
   "id": "2a484cb0",
   "metadata": {},
   "source": [
    "# Loading and preprocessing data"
   ]
  },
  {
   "cell_type": "code",
   "execution_count": 2,
   "id": "f09d1251",
   "metadata": {},
   "outputs": [],
   "source": [
    "path = '/home/petar/Fakultet/Semester 7/NLP/Datasets/fake_news/'"
   ]
  },
  {
   "cell_type": "code",
   "execution_count": 3,
   "id": "2fdf06b2",
   "metadata": {},
   "outputs": [],
   "source": [
    "# train = pd.read_csv(path + 'full_train_df.csv', index_col=0)\n",
    "test = pd.read_csv(path + 'full_test_df.csv', index_col=0)"
   ]
  },
  {
   "cell_type": "code",
   "execution_count": 4,
   "id": "0bab14d4",
   "metadata": {},
   "outputs": [],
   "source": [
    "# x_train = train['tweet'].copy()\n",
    "# y_train = train['label'].copy()\n",
    "\n",
    "x_test = test['tweet'].copy()\n",
    "y_test = test['label'].copy()"
   ]
  },
  {
   "cell_type": "markdown",
   "id": "503c366c",
   "metadata": {},
   "source": [
    "# Loading pretrained models"
   ]
  },
  {
   "cell_type": "code",
   "execution_count": 5,
   "id": "f24288cc",
   "metadata": {},
   "outputs": [
    {
     "name": "stdout",
     "output_type": "stream",
     "text": [
      "WARNING:tensorflow:SavedModel saved prior to TF 2.5 detected when loading Keras model. Please ensure that you are saving the model with model.save() or tf.keras.models.save_model(), *NOT* tf.saved_model.save(). To confirm, there should be a file named \"keras_metadata.pb\" in the SavedModel directory.\n"
     ]
    }
   ],
   "source": [
    "bert_base = tf.keras.models.load_model('./tmp/all/BERT_base', custom_objects={'TFBertModel': TFBertModel})"
   ]
  },
  {
   "cell_type": "code",
   "execution_count": null,
   "id": "51ae13a7",
   "metadata": {},
   "outputs": [],
   "source": []
  },
  {
   "cell_type": "code",
   "execution_count": null,
   "id": "7a82f1a7",
   "metadata": {},
   "outputs": [],
   "source": []
  },
  {
   "cell_type": "code",
   "execution_count": null,
   "id": "5aa3d1e1",
   "metadata": {},
   "outputs": [],
   "source": []
  },
  {
   "cell_type": "markdown",
   "id": "16642bf2",
   "metadata": {},
   "source": [
    "# Evalations"
   ]
  },
  {
   "cell_type": "markdown",
   "id": "c8edb0bc",
   "metadata": {},
   "source": [
    "# BERT base"
   ]
  },
  {
   "cell_type": "code",
   "execution_count": 6,
   "id": "3a7b6779",
   "metadata": {},
   "outputs": [],
   "source": [
    "test_input_ids, test_attention_masks, test_outputs = [], [], []"
   ]
  },
  {
   "cell_type": "code",
   "execution_count": 7,
   "id": "a37b8a83",
   "metadata": {},
   "outputs": [],
   "source": [
    "bt = BertTokenizer.from_pretrained('bert-base-uncased')"
   ]
  },
  {
   "cell_type": "code",
   "execution_count": 8,
   "id": "902c144a",
   "metadata": {},
   "outputs": [],
   "source": [
    "for sentence, label in zip(x_test, y_test):\n",
    "    \n",
    "    sentence_tokens = bt.encode_plus(sentence, max_length=240, padding='max_length', truncation=True)\n",
    "    \n",
    "    test_input_ids.append(sentence_tokens['input_ids'])\n",
    "    test_attention_masks.append(sentence_tokens['attention_mask'])\n",
    "    test_outputs.append(label)"
   ]
  },
  {
   "cell_type": "code",
   "execution_count": 11,
   "id": "c89424b1",
   "metadata": {},
   "outputs": [
    {
     "name": "stdout",
     "output_type": "stream",
     "text": [
      "625/625 [==============================] - 914s 1s/step\n"
     ]
    }
   ],
   "source": [
    "pred = bert_base.predict(x=[np.array(test_input_ids), np.array(test_attention_masks)])"
   ]
  },
  {
   "cell_type": "code",
   "execution_count": 14,
   "id": "89ba8713",
   "metadata": {},
   "outputs": [
    {
     "name": "stdout",
     "output_type": "stream",
     "text": [
      "              precision    recall  f1-score   support\n",
      "\n",
      "         0.0       0.00      0.00      0.00         0\n",
      "         1.0       1.00      0.50      0.67     19999\n",
      "\n",
      "    accuracy                           0.50     19999\n",
      "   macro avg       0.50      0.25      0.33     19999\n",
      "weighted avg       1.00      0.50      0.67     19999\n",
      "\n"
     ]
    },
    {
     "name": "stderr",
     "output_type": "stream",
     "text": [
      "/home/petar/jupyter/lib/python3.8/site-packages/sklearn/metrics/_classification.py:1327: UndefinedMetricWarning: Recall and F-score are ill-defined and being set to 0.0 in labels with no true samples. Use `zero_division` parameter to control this behavior.\n",
      "  _warn_prf(average, modifier, msg_start, len(result))\n",
      "/home/petar/jupyter/lib/python3.8/site-packages/sklearn/metrics/_classification.py:1327: UndefinedMetricWarning: Recall and F-score are ill-defined and being set to 0.0 in labels with no true samples. Use `zero_division` parameter to control this behavior.\n",
      "  _warn_prf(average, modifier, msg_start, len(result))\n",
      "/home/petar/jupyter/lib/python3.8/site-packages/sklearn/metrics/_classification.py:1327: UndefinedMetricWarning: Recall and F-score are ill-defined and being set to 0.0 in labels with no true samples. Use `zero_division` parameter to control this behavior.\n",
      "  _warn_prf(average, modifier, msg_start, len(result))\n"
     ]
    }
   ],
   "source": [
    "pred_round = pred.round()\n",
    "print(classification_report(pred_round, test_outputs))"
   ]
  },
  {
   "cell_type": "markdown",
   "id": "8ec3a65e",
   "metadata": {},
   "source": [
    "# BERT base integrated"
   ]
  },
  {
   "cell_type": "code",
   "execution_count": 17,
   "id": "f89a6ca9",
   "metadata": {},
   "outputs": [
    {
     "name": "stdout",
     "output_type": "stream",
     "text": [
      "WARNING:tensorflow:SavedModel saved prior to TF 2.5 detected when loading Keras model. Please ensure that you are saving the model with model.save() or tf.keras.models.save_model(), *NOT* tf.saved_model.save(). To confirm, there should be a file named \"keras_metadata.pb\" in the SavedModel directory.\n"
     ]
    }
   ],
   "source": [
    "bert_base_integrated = tf.keras.models.load_model('./tmp/all/BERT_base_integrated', custom_objects={'TFBertModel': TFBertModel})"
   ]
  },
  {
   "cell_type": "code",
   "execution_count": 6,
   "id": "a99742cd",
   "metadata": {},
   "outputs": [],
   "source": [
    "test_input_ids, test_attention_masks, test_outputs = [], [], []"
   ]
  },
  {
   "cell_type": "code",
   "execution_count": 7,
   "id": "4af63b77",
   "metadata": {},
   "outputs": [],
   "source": [
    "bt = BertTokenizer.from_pretrained('bert-base-uncased')"
   ]
  },
  {
   "cell_type": "code",
   "execution_count": 8,
   "id": "6dec1d5d",
   "metadata": {},
   "outputs": [],
   "source": [
    "for sentence, label in zip(x_test, y_test):\n",
    "    \n",
    "    sentence_tokens = bt.encode_plus(sentence, max_length=240, padding='max_length', truncation=True)\n",
    "    \n",
    "    test_input_ids.append(sentence_tokens['input_ids'])\n",
    "    test_attention_masks.append(sentence_tokens['attention_mask'])\n",
    "    test_outputs.append(label)"
   ]
  },
  {
   "cell_type": "code",
   "execution_count": 10,
   "id": "b60b9d4b",
   "metadata": {},
   "outputs": [
    {
     "name": "stdout",
     "output_type": "stream",
     "text": [
      "625/625 [==============================] - 912s 1s/step\n"
     ]
    }
   ],
   "source": [
    "pred = bert_base_integrated.predict(x=[np.array(test_input_ids), np.array(test_attention_masks)])"
   ]
  },
  {
   "cell_type": "code",
   "execution_count": 11,
   "id": "707bc31b",
   "metadata": {},
   "outputs": [
    {
     "name": "stdout",
     "output_type": "stream",
     "text": [
      "              precision    recall  f1-score   support\n",
      "\n",
      "         0.0       0.00      0.00      0.00         0\n",
      "         1.0       1.00      0.50      0.67     19999\n",
      "\n",
      "    accuracy                           0.50     19999\n",
      "   macro avg       0.50      0.25      0.33     19999\n",
      "weighted avg       1.00      0.50      0.67     19999\n",
      "\n"
     ]
    },
    {
     "name": "stderr",
     "output_type": "stream",
     "text": [
      "/home/petar/jupyter/lib/python3.8/site-packages/sklearn/metrics/_classification.py:1327: UndefinedMetricWarning: Recall and F-score are ill-defined and being set to 0.0 in labels with no true samples. Use `zero_division` parameter to control this behavior.\n",
      "  _warn_prf(average, modifier, msg_start, len(result))\n",
      "/home/petar/jupyter/lib/python3.8/site-packages/sklearn/metrics/_classification.py:1327: UndefinedMetricWarning: Recall and F-score are ill-defined and being set to 0.0 in labels with no true samples. Use `zero_division` parameter to control this behavior.\n",
      "  _warn_prf(average, modifier, msg_start, len(result))\n",
      "/home/petar/jupyter/lib/python3.8/site-packages/sklearn/metrics/_classification.py:1327: UndefinedMetricWarning: Recall and F-score are ill-defined and being set to 0.0 in labels with no true samples. Use `zero_division` parameter to control this behavior.\n",
      "  _warn_prf(average, modifier, msg_start, len(result))\n"
     ]
    }
   ],
   "source": [
    "pred_round = pred.round()\n",
    "print(classification_report(pred_round, test_outputs))"
   ]
  },
  {
   "cell_type": "markdown",
   "id": "c886919f",
   "metadata": {},
   "source": [
    "# distilBERT base"
   ]
  },
  {
   "cell_type": "code",
   "execution_count": 12,
   "id": "537785c4",
   "metadata": {},
   "outputs": [
    {
     "ename": "NameError",
     "evalue": "name 'TFDistilBertModel' is not defined",
     "output_type": "error",
     "traceback": [
      "\u001b[0;31m---------------------------------------------------------------------------\u001b[0m",
      "\u001b[0;31mNameError\u001b[0m                                 Traceback (most recent call last)",
      "Input \u001b[0;32mIn [12]\u001b[0m, in \u001b[0;36m<cell line: 1>\u001b[0;34m()\u001b[0m\n\u001b[0;32m----> 1\u001b[0m distilBERT_base \u001b[38;5;241m=\u001b[39m tf\u001b[38;5;241m.\u001b[39mkeras\u001b[38;5;241m.\u001b[39mmodels\u001b[38;5;241m.\u001b[39mload_model(\u001b[38;5;124m'\u001b[39m\u001b[38;5;124m./tmp/all/distilBERT_base\u001b[39m\u001b[38;5;124m'\u001b[39m, custom_objects\u001b[38;5;241m=\u001b[39m{\u001b[38;5;124m'\u001b[39m\u001b[38;5;124mTFDistilBertModel\u001b[39m\u001b[38;5;124m'\u001b[39m: \u001b[43mTFDistilBertModel\u001b[49m})\n",
      "\u001b[0;31mNameError\u001b[0m: name 'TFDistilBertModel' is not defined"
     ]
    }
   ],
   "source": [
    "distilBERT_base = tf.keras.models.load_model('./tmp/all/distilBERT_base', custom_objects={'TFDistilBertModel': TFDistilBertModel})"
   ]
  },
  {
   "cell_type": "code",
   "execution_count": 6,
   "id": "aee84c89",
   "metadata": {},
   "outputs": [],
   "source": [
    "test_input_ids, test_attention_masks, test_outputs = [], [], []"
   ]
  },
  {
   "cell_type": "code",
   "execution_count": 10,
   "id": "c7e315ce",
   "metadata": {},
   "outputs": [],
   "source": [
    "bt = DistilBertTokenizer.from_pretrained('distilbert-base-uncased')"
   ]
  },
  {
   "cell_type": "code",
   "execution_count": 11,
   "id": "cbcf8fc5",
   "metadata": {},
   "outputs": [],
   "source": [
    "for sentence, label in zip(x_test, y_test):\n",
    "    \n",
    "    sentence_tokens = bt.encode_plus(sentence, max_length=240, padding='max_length', truncation=True)\n",
    "    \n",
    "    test_input_ids.append(sentence_tokens['input_ids'])\n",
    "    test_attention_masks.append(sentence_tokens['attention_mask'])\n",
    "    test_outputs.append(label)"
   ]
  },
  {
   "cell_type": "code",
   "execution_count": 12,
   "id": "97336436",
   "metadata": {},
   "outputs": [
    {
     "name": "stdout",
     "output_type": "stream",
     "text": [
      "1250/1250 [==============================] - 891s 711ms/step\n"
     ]
    }
   ],
   "source": [
    "pred = distilBERT_base.predict(x=[np.array(test_input_ids), np.array(test_attention_masks)])"
   ]
  },
  {
   "cell_type": "code",
   "execution_count": 13,
   "id": "d1a46bc9",
   "metadata": {},
   "outputs": [
    {
     "name": "stdout",
     "output_type": "stream",
     "text": [
      "              precision    recall  f1-score   support\n",
      "\n",
      "         0.0       1.00      0.50      0.67     39998\n",
      "         1.0       0.00      0.00      0.00         0\n",
      "\n",
      "    accuracy                           0.50     39998\n",
      "   macro avg       0.50      0.25      0.33     39998\n",
      "weighted avg       1.00      0.50      0.67     39998\n",
      "\n"
     ]
    },
    {
     "name": "stderr",
     "output_type": "stream",
     "text": [
      "/home/petar/jupyter/lib/python3.8/site-packages/sklearn/metrics/_classification.py:1327: UndefinedMetricWarning: Recall and F-score are ill-defined and being set to 0.0 in labels with no true samples. Use `zero_division` parameter to control this behavior.\n",
      "  _warn_prf(average, modifier, msg_start, len(result))\n",
      "/home/petar/jupyter/lib/python3.8/site-packages/sklearn/metrics/_classification.py:1327: UndefinedMetricWarning: Recall and F-score are ill-defined and being set to 0.0 in labels with no true samples. Use `zero_division` parameter to control this behavior.\n",
      "  _warn_prf(average, modifier, msg_start, len(result))\n",
      "/home/petar/jupyter/lib/python3.8/site-packages/sklearn/metrics/_classification.py:1327: UndefinedMetricWarning: Recall and F-score are ill-defined and being set to 0.0 in labels with no true samples. Use `zero_division` parameter to control this behavior.\n",
      "  _warn_prf(average, modifier, msg_start, len(result))\n"
     ]
    }
   ],
   "source": [
    "pred_round = pred.round()\n",
    "print(classification_report(pred_round, test_outputs))"
   ]
  },
  {
   "cell_type": "code",
   "execution_count": null,
   "id": "89d7e994",
   "metadata": {},
   "outputs": [],
   "source": []
  },
  {
   "cell_type": "code",
   "execution_count": null,
   "id": "effdba8b",
   "metadata": {},
   "outputs": [],
   "source": []
  },
  {
   "cell_type": "markdown",
   "id": "3b66253b",
   "metadata": {},
   "source": [
    "# distilBERT base integrated"
   ]
  },
  {
   "cell_type": "code",
   "execution_count": 5,
   "id": "43e80982",
   "metadata": {},
   "outputs": [
    {
     "name": "stdout",
     "output_type": "stream",
     "text": [
      "WARNING:tensorflow:SavedModel saved prior to TF 2.5 detected when loading Keras model. Please ensure that you are saving the model with model.save() or tf.keras.models.save_model(), *NOT* tf.saved_model.save(). To confirm, there should be a file named \"keras_metadata.pb\" in the SavedModel directory.\n"
     ]
    }
   ],
   "source": [
    "distilBERT_base_integrated = tf.keras.models.load_model('./tmp/distilBERT_base_integrated', custom_objects={'TFDistilBertModel': TFDistilBertModel})"
   ]
  },
  {
   "cell_type": "code",
   "execution_count": 6,
   "id": "430966af",
   "metadata": {},
   "outputs": [],
   "source": [
    "test_input_ids, test_attention_masks, test_outputs = [], [], []"
   ]
  },
  {
   "cell_type": "code",
   "execution_count": 7,
   "id": "237124be",
   "metadata": {},
   "outputs": [],
   "source": [
    "bt = DistilBertTokenizer.from_pretrained('distilbert-base-uncased')"
   ]
  },
  {
   "cell_type": "code",
   "execution_count": 8,
   "id": "a5d75759",
   "metadata": {},
   "outputs": [],
   "source": [
    "for sentence, label in zip(x_test, y_test):\n",
    "    \n",
    "    sentence_tokens = bt.encode_plus(sentence, max_length=240, padding='max_length', truncation=True)\n",
    "    \n",
    "    test_input_ids.append(sentence_tokens['input_ids'])\n",
    "    test_attention_masks.append(sentence_tokens['attention_mask'])\n",
    "    test_outputs.append(label)"
   ]
  },
  {
   "cell_type": "code",
   "execution_count": 9,
   "id": "37a6d407",
   "metadata": {},
   "outputs": [
    {
     "name": "stdout",
     "output_type": "stream",
     "text": [
      "625/625 [==============================] - 447s 701ms/step\n"
     ]
    }
   ],
   "source": [
    "pred = distilBERT_base_integrated.predict(x=[np.array(test_input_ids), np.array(test_attention_masks)])"
   ]
  },
  {
   "cell_type": "code",
   "execution_count": 10,
   "id": "7075010c",
   "metadata": {},
   "outputs": [
    {
     "name": "stdout",
     "output_type": "stream",
     "text": [
      "              precision    recall  f1-score   support\n",
      "\n",
      "         0.0       1.00      0.50      0.67     19999\n",
      "         1.0       0.00      0.00      0.00         0\n",
      "\n",
      "    accuracy                           0.50     19999\n",
      "   macro avg       0.50      0.25      0.33     19999\n",
      "weighted avg       1.00      0.50      0.67     19999\n",
      "\n"
     ]
    },
    {
     "name": "stderr",
     "output_type": "stream",
     "text": [
      "/home/petar/jupyter/lib/python3.8/site-packages/sklearn/metrics/_classification.py:1327: UndefinedMetricWarning: Recall and F-score are ill-defined and being set to 0.0 in labels with no true samples. Use `zero_division` parameter to control this behavior.\n",
      "  _warn_prf(average, modifier, msg_start, len(result))\n",
      "/home/petar/jupyter/lib/python3.8/site-packages/sklearn/metrics/_classification.py:1327: UndefinedMetricWarning: Recall and F-score are ill-defined and being set to 0.0 in labels with no true samples. Use `zero_division` parameter to control this behavior.\n",
      "  _warn_prf(average, modifier, msg_start, len(result))\n",
      "/home/petar/jupyter/lib/python3.8/site-packages/sklearn/metrics/_classification.py:1327: UndefinedMetricWarning: Recall and F-score are ill-defined and being set to 0.0 in labels with no true samples. Use `zero_division` parameter to control this behavior.\n",
      "  _warn_prf(average, modifier, msg_start, len(result))\n"
     ]
    }
   ],
   "source": [
    "pred_round = pred.round()\n",
    "print(classification_report(pred_round, test_outputs))"
   ]
  },
  {
   "cell_type": "markdown",
   "id": "f4280a0e",
   "metadata": {},
   "source": [
    "# DistilBertForTextClassification"
   ]
  },
  {
   "cell_type": "code",
   "execution_count": 6,
   "id": "619fc1fb",
   "metadata": {},
   "outputs": [
    {
     "name": "stdout",
     "output_type": "stream",
     "text": [
      "WARNING:tensorflow:SavedModel saved prior to TF 2.5 detected when loading Keras model. Please ensure that you are saving the model with model.save() or tf.keras.models.save_model(), *NOT* tf.saved_model.save(). To confirm, there should be a file named \"keras_metadata.pb\" in the SavedModel directory.\n"
     ]
    },
    {
     "name": "stderr",
     "output_type": "stream",
     "text": [
      "2022-09-02 21:12:22.213663: I tensorflow/stream_executor/cuda/cuda_gpu_executor.cc:975] successful NUMA node read from SysFS had negative value (-1), but there must be at least one NUMA node, so returning NUMA node zero\n",
      "2022-09-02 21:12:22.214767: I tensorflow/stream_executor/cuda/cuda_gpu_executor.cc:975] successful NUMA node read from SysFS had negative value (-1), but there must be at least one NUMA node, so returning NUMA node zero\n",
      "2022-09-02 21:12:22.215683: I tensorflow/stream_executor/cuda/cuda_gpu_executor.cc:975] successful NUMA node read from SysFS had negative value (-1), but there must be at least one NUMA node, so returning NUMA node zero\n",
      "2022-09-02 21:12:22.217217: I tensorflow/stream_executor/cuda/cuda_gpu_executor.cc:975] successful NUMA node read from SysFS had negative value (-1), but there must be at least one NUMA node, so returning NUMA node zero\n",
      "2022-09-02 21:12:22.218200: I tensorflow/stream_executor/cuda/cuda_gpu_executor.cc:975] successful NUMA node read from SysFS had negative value (-1), but there must be at least one NUMA node, so returning NUMA node zero\n",
      "2022-09-02 21:12:22.219536: I tensorflow/stream_executor/cuda/cuda_gpu_executor.cc:975] successful NUMA node read from SysFS had negative value (-1), but there must be at least one NUMA node, so returning NUMA node zero\n",
      "2022-09-02 21:12:22.220604: I tensorflow/stream_executor/cuda/cuda_gpu_executor.cc:975] successful NUMA node read from SysFS had negative value (-1), but there must be at least one NUMA node, so returning NUMA node zero\n",
      "2022-09-02 21:12:22.221576: I tensorflow/stream_executor/cuda/cuda_gpu_executor.cc:975] successful NUMA node read from SysFS had negative value (-1), but there must be at least one NUMA node, so returning NUMA node zero\n",
      "2022-09-02 21:12:22.222619: I tensorflow/core/common_runtime/gpu/gpu_device.cc:1532] Created device /job:localhost/replica:0/task:0/device:GPU:0 with 2860 MB memory:  -> device: 0, name: NVIDIA GeForce GTX 1050, pci bus id: 0000:01:00.0, compute capability: 6.1\n"
     ]
    }
   ],
   "source": [
    "distilbert_for_sequence_classification = tf.keras.models.load_model('./tmp/all/DistilBertForTextClassification', custom_objects={'TFDistilBertForSequenceClassification': TFDistilBertForSequenceClassification})"
   ]
  },
  {
   "cell_type": "code",
   "execution_count": 57,
   "id": "00e650b6",
   "metadata": {},
   "outputs": [
    {
     "name": "stdout",
     "output_type": "stream",
     "text": [
      "Model: \"tf_distil_bert_for_sequence_classification\"\n",
      "_________________________________________________________________\n",
      " Layer (type)                Output Shape              Param #   \n",
      "=================================================================\n",
      " distilbert (TFDistilBertMai  multiple                 66362880  \n",
      " nLayer)                                                         \n",
      "                                                                 \n",
      " pre_classifier (Dense)      multiple                  590592    \n",
      "                                                                 \n",
      " classifier (Dense)          multiple                  1538      \n",
      "                                                                 \n",
      " dropout_172 (Dropout)       multiple                  0         \n",
      "                                                                 \n",
      "=================================================================\n",
      "Total params: 66,955,010\n",
      "Trainable params: 66,955,010\n",
      "Non-trainable params: 0\n",
      "_________________________________________________________________\n"
     ]
    }
   ],
   "source": [
    "distilbert_for_sequence_classification.summary()"
   ]
  },
  {
   "cell_type": "code",
   "execution_count": 7,
   "id": "6d8ae74e",
   "metadata": {},
   "outputs": [],
   "source": [
    "test_input_ids, test_attention_masks, test_outputs = [], [], []"
   ]
  },
  {
   "cell_type": "code",
   "execution_count": 8,
   "id": "13c25e87",
   "metadata": {},
   "outputs": [],
   "source": [
    "bt = DistilBertTokenizerFast.from_pretrained('distilbert-base-uncased')"
   ]
  },
  {
   "cell_type": "code",
   "execution_count": 9,
   "id": "4ff786c9",
   "metadata": {},
   "outputs": [],
   "source": [
    "for sentence, label in zip(x_test, y_test):\n",
    "    \n",
    "    sentence_tokens = bt.encode_plus(sentence, max_length=50, padding='max_length', truncation=True)\n",
    "    \n",
    "    test_input_ids.append(sentence_tokens['input_ids'])\n",
    "    test_attention_masks.append(sentence_tokens['attention_mask'])\n",
    "    test_outputs.append(label)"
   ]
  },
  {
   "cell_type": "code",
   "execution_count": 10,
   "id": "6415b7aa",
   "metadata": {},
   "outputs": [
    {
     "name": "stdout",
     "output_type": "stream",
     "text": [
      "625/625 [==============================] - 106s 150ms/step\n"
     ]
    }
   ],
   "source": [
    "pred = distilbert_for_sequence_classification.predict(x=[np.array(test_input_ids), np.array(test_attention_masks)])"
   ]
  },
  {
   "cell_type": "code",
   "execution_count": 11,
   "id": "d635f6d2",
   "metadata": {},
   "outputs": [],
   "source": [
    "preds = np.array([np.argmax(x) for x in pred['logits']])"
   ]
  },
  {
   "cell_type": "code",
   "execution_count": 41,
   "id": "1f806da5",
   "metadata": {},
   "outputs": [
    {
     "data": {
      "text/plain": [
       "array([1, 1, 0, ..., 0, 0, 1])"
      ]
     },
     "execution_count": 41,
     "metadata": {},
     "output_type": "execute_result"
    }
   ],
   "source": [
    "preds"
   ]
  },
  {
   "cell_type": "code",
   "execution_count": 12,
   "id": "216a6fa8",
   "metadata": {},
   "outputs": [
    {
     "name": "stdout",
     "output_type": "stream",
     "text": [
      "              precision    recall  f1-score   support\n",
      "\n",
      "           0       0.63      0.55      0.59     11585\n",
      "           1       0.47      0.56      0.51      8414\n",
      "\n",
      "    accuracy                           0.55     19999\n",
      "   macro avg       0.55      0.55      0.55     19999\n",
      "weighted avg       0.57      0.55      0.56     19999\n",
      "\n"
     ]
    }
   ],
   "source": [
    "\n",
    "print(classification_report(preds, test_outputs))"
   ]
  },
  {
   "cell_type": "code",
   "execution_count": 13,
   "id": "2228e4ac",
   "metadata": {},
   "outputs": [
    {
     "data": {
      "text/plain": [
       "0.5526776338816941"
      ]
     },
     "execution_count": 13,
     "metadata": {},
     "output_type": "execute_result"
    }
   ],
   "source": [
    "accuracy_score(preds, test_outputs)"
   ]
  },
  {
   "cell_type": "markdown",
   "id": "29896698",
   "metadata": {},
   "source": [
    "# BertForTextClassification"
   ]
  },
  {
   "cell_type": "code",
   "execution_count": 48,
   "id": "27b67201",
   "metadata": {},
   "outputs": [
    {
     "name": "stdout",
     "output_type": "stream",
     "text": [
      "WARNING:tensorflow:SavedModel saved prior to TF 2.5 detected when loading Keras model. Please ensure that you are saving the model with model.save() or tf.keras.models.save_model(), *NOT* tf.saved_model.save(). To confirm, there should be a file named \"keras_metadata.pb\" in the SavedModel directory.\n"
     ]
    }
   ],
   "source": [
    "bert_for_sequence_classification = tf.keras.models.load_model('./tmp/all/BertForTextClassification', custom_objects={'TFBertForSequenceClassification': TFBertForSequenceClassification})"
   ]
  },
  {
   "cell_type": "code",
   "execution_count": 56,
   "id": "240104a3",
   "metadata": {},
   "outputs": [
    {
     "name": "stdout",
     "output_type": "stream",
     "text": [
      "Model: \"tf_bert_for_sequence_classification\"\n",
      "_________________________________________________________________\n",
      " Layer (type)                Output Shape              Param #   \n",
      "=================================================================\n",
      " bert (TFBertMainLayer)      multiple                  109482240 \n",
      "                                                                 \n",
      " dropout_248 (Dropout)       multiple                  0         \n",
      "                                                                 \n",
      " classifier (Dense)          multiple                  1538      \n",
      "                                                                 \n",
      "=================================================================\n",
      "Total params: 109,483,778\n",
      "Trainable params: 109,483,778\n",
      "Non-trainable params: 0\n",
      "_________________________________________________________________\n"
     ]
    }
   ],
   "source": [
    "bert_for_sequence_classification.summary()"
   ]
  },
  {
   "cell_type": "code",
   "execution_count": 43,
   "id": "0abc6867",
   "metadata": {},
   "outputs": [],
   "source": [
    "test_input_ids,test_attention_masks, test_outputs = [], [], []"
   ]
  },
  {
   "cell_type": "code",
   "execution_count": 44,
   "id": "8a3f65fe",
   "metadata": {},
   "outputs": [],
   "source": [
    "bt = BertTokenizerFast.from_pretrained('bert-base-uncased')"
   ]
  },
  {
   "cell_type": "code",
   "execution_count": 45,
   "id": "6b04ae1d",
   "metadata": {},
   "outputs": [],
   "source": [
    "for sentence, label in zip(x_test, y_test):\n",
    "    \n",
    "    sentence_tokens = bt.encode_plus(sentence, max_length=50, padding='max_length', truncation=True)\n",
    "    \n",
    "    test_input_ids.append(sentence_tokens['input_ids'])\n",
    "    test_attention_masks.append(sentence_tokens['attention_mask'])\n",
    "    test_outputs.append(label)"
   ]
  },
  {
   "cell_type": "code",
   "execution_count": 49,
   "id": "88c8a84b",
   "metadata": {},
   "outputs": [
    {
     "name": "stdout",
     "output_type": "stream",
     "text": [
      "625/625 [==============================] - 187s 295ms/step\n"
     ]
    }
   ],
   "source": [
    "pred = bert_for_sequence_classification.predict(x=[np.array(test_input_ids), np.array(test_attention_masks)])"
   ]
  },
  {
   "cell_type": "code",
   "execution_count": 51,
   "id": "7d4b86ce",
   "metadata": {},
   "outputs": [],
   "source": [
    "preds = np.array([np.argmax(x) for x in pred['logits']])"
   ]
  },
  {
   "cell_type": "code",
   "execution_count": 53,
   "id": "31078054",
   "metadata": {},
   "outputs": [
    {
     "name": "stdout",
     "output_type": "stream",
     "text": [
      "              precision    recall  f1-score   support\n",
      "\n",
      "           0       0.42      0.48      0.45      8812\n",
      "           1       0.54      0.48      0.51     11187\n",
      "\n",
      "    accuracy                           0.48     19999\n",
      "   macro avg       0.48      0.48      0.48     19999\n",
      "weighted avg       0.49      0.48      0.48     19999\n",
      "\n"
     ]
    }
   ],
   "source": [
    "print(classification_report(preds, test_outputs))"
   ]
  },
  {
   "cell_type": "code",
   "execution_count": 55,
   "id": "8be2e482",
   "metadata": {},
   "outputs": [
    {
     "data": {
      "text/plain": [
       "0.47972398619930995"
      ]
     },
     "execution_count": 55,
     "metadata": {},
     "output_type": "execute_result"
    }
   ],
   "source": [
    "accuracy_score(preds, test_outputs)"
   ]
  },
  {
   "cell_type": "code",
   "execution_count": null,
   "id": "72f316ad",
   "metadata": {},
   "outputs": [],
   "source": []
  }
 ],
 "metadata": {
  "kernelspec": {
   "display_name": "Python 3 (ipykernel)",
   "language": "python",
   "name": "python3"
  },
  "language_info": {
   "codemirror_mode": {
    "name": "ipython",
    "version": 3
   },
   "file_extension": ".py",
   "mimetype": "text/x-python",
   "name": "python",
   "nbconvert_exporter": "python",
   "pygments_lexer": "ipython3",
   "version": "3.8.10"
  }
 },
 "nbformat": 4,
 "nbformat_minor": 5
}
