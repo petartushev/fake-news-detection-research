{
 "cells": [
  {
   "cell_type": "code",
   "execution_count": 64,
   "id": "b20c7862",
   "metadata": {},
   "outputs": [],
   "source": [
    "import re\n",
    "import pandas as pd\n",
    "import numpy as np\n",
    "\n",
    "# from nltk import word_tokenize\n",
    "from sklearn.model_selection import train_test_split\n",
    "from sklearn.metrics import classification_report\n",
    "\n",
    "\n",
    "import tensorflow as tf\n",
    "from tensorflow.keras.models import Model, Sequential\n",
    "#  Sequential,\n",
    "from tensorflow.keras.layers import Input, Dense, LSTM, Conv1D, AveragePooling1D, MaxPooling1D, Embedding, LSTM, GlobalAveragePooling1D\n",
    "from tensorflow.keras.optimizers import Adam\n",
    "#  GRU, Bidirectional\n",
    "# from tensorflow.keras.preprocessing.sequence import pad_sequences\n",
    "\n",
    "# from transformers import BertTokenizerFast, TFBertModel\n",
    "from sentence_transformers import SentenceTransformer\n",
    "# from transformers import DistilBertTokenizer, TFDistilBertModel\n",
    "\n",
    "# from scripts.word_embeddings import load_embedding_weights"
   ]
  },
  {
   "cell_type": "markdown",
   "id": "cd159af8",
   "metadata": {},
   "source": [
    "# Utility functions"
   ]
  },
  {
   "cell_type": "code",
   "execution_count": 5,
   "id": "ab388cee",
   "metadata": {},
   "outputs": [],
   "source": [
    "def clean(word):\n",
    "    return re.sub(r'[\\-\\(\\)\\?\\*\\\\\\'\\\"\\.%\\^,:<>|;!]', '', word.lower())"
   ]
  },
  {
   "cell_type": "markdown",
   "id": "fb93e2f5",
   "metadata": {},
   "source": [
    "# Preprocessing"
   ]
  },
  {
   "cell_type": "code",
   "execution_count": 6,
   "id": "b6964f06",
   "metadata": {},
   "outputs": [],
   "source": [
    "path = '/home/petar/Fakultet/Semester 7/NLP/Datasets/fake_news/'"
   ]
  },
  {
   "cell_type": "code",
   "execution_count": 7,
   "id": "f3690505",
   "metadata": {},
   "outputs": [],
   "source": [
    "train = pd.read_csv(path + 'full_train_df.csv', index_col=0)\n",
    "test = pd.read_csv(path + 'full_test_df.csv', index_col=0)"
   ]
  },
  {
   "cell_type": "code",
   "execution_count": 8,
   "id": "c60386ce",
   "metadata": {},
   "outputs": [],
   "source": [
    "train['tweet'] = train['tweet'].apply(lambda x: clean(x))\n",
    "test['tweet'] = test['tweet'].apply(lambda x: clean(x))"
   ]
  },
  {
   "cell_type": "code",
   "execution_count": 9,
   "id": "d1cc019e",
   "metadata": {},
   "outputs": [],
   "source": [
    "train = train.groupby(['user', 'label'])['tweet'].agg(list).reset_index()\n",
    "test = test.groupby(['user', 'label'])['tweet'].agg(list).reset_index()"
   ]
  },
  {
   "cell_type": "code",
   "execution_count": 10,
   "id": "9d049c52",
   "metadata": {},
   "outputs": [
    {
     "name": "stderr",
     "output_type": "stream",
     "text": [
      "/tmp/ipykernel_19434/4018911843.py:1: FutureWarning: The series.append method is deprecated and will be removed from pandas in a future version. Use pandas.concat instead.\n",
      "  all_sentences = pd.Series.append(train['tweet'].copy(), test['tweet'].copy())\n"
     ]
    }
   ],
   "source": [
    "all_sentences = pd.Series.append(train['tweet'].copy(), test['tweet'].copy())"
   ]
  },
  {
   "cell_type": "code",
   "execution_count": 14,
   "id": "b2857601",
   "metadata": {},
   "outputs": [],
   "source": [
    "sentences = all_sentences.reset_index()['tweet']"
   ]
  },
  {
   "cell_type": "code",
   "execution_count": 12,
   "id": "f6ba5d4d",
   "metadata": {},
   "outputs": [],
   "source": [
    "sentence_transformer = SentenceTransformer('all-MiniLM-L6-v2')"
   ]
  },
  {
   "cell_type": "code",
   "execution_count": 15,
   "id": "d902b3f9",
   "metadata": {},
   "outputs": [],
   "source": [
    "embeddings = sentence_transformer.encode(sentences)"
   ]
  },
  {
   "cell_type": "code",
   "execution_count": 17,
   "id": "cedb7f3e",
   "metadata": {},
   "outputs": [
    {
     "data": {
      "text/plain": [
       "(500, 384)"
      ]
     },
     "execution_count": 17,
     "metadata": {},
     "output_type": "execute_result"
    }
   ],
   "source": [
    "embeddings.shape"
   ]
  },
  {
   "cell_type": "code",
   "execution_count": 18,
   "id": "c625f717",
   "metadata": {},
   "outputs": [],
   "source": [
    "train['embedding'] = np.copy(embeddings[:300, :]).tolist()\n",
    "test['embedding'] = np.copy(embeddings[300:, :]).tolist()"
   ]
  },
  {
   "cell_type": "code",
   "execution_count": 22,
   "id": "ef9a1eec",
   "metadata": {},
   "outputs": [],
   "source": [
    "x_train = range(len(train))\n",
    "y_train = train['label'].copy().values\n",
    "\n",
    "x_test = range(len(test))\n",
    "y_test = test['label'].copy().values"
   ]
  },
  {
   "cell_type": "code",
   "execution_count": 23,
   "id": "966eb6d7",
   "metadata": {},
   "outputs": [],
   "source": [
    "x = np.append(x_train, x_test)\n",
    "y = np.append(y_train, y_test)"
   ]
  },
  {
   "cell_type": "code",
   "execution_count": 26,
   "id": "61f1afee",
   "metadata": {},
   "outputs": [],
   "source": [
    "x = range(len(x))"
   ]
  },
  {
   "cell_type": "code",
   "execution_count": 33,
   "id": "80a44e9a",
   "metadata": {},
   "outputs": [],
   "source": [
    "x_train, x_test, y_train, y_test = train_test_split(x, y, test_size=.4, shuffle=True, stratify=y, random_state=0)"
   ]
  },
  {
   "cell_type": "code",
   "execution_count": 113,
   "id": "df02c4ff",
   "metadata": {},
   "outputs": [],
   "source": [
    "# x_train = np.asarray(x_train.apply(lambda emb: np.array(emb)))\n",
    "# y_train = y_train.to_numpy().reshape(-1, 1)\n",
    "# x_train = x_train.tolist()\n",
    "# y_train = y_train.tolist()"
   ]
  },
  {
   "cell_type": "markdown",
   "id": "5452ba8a",
   "metadata": {},
   "source": [
    "# Models"
   ]
  },
  {
   "cell_type": "code",
   "execution_count": 40,
   "id": "e9a03ae7",
   "metadata": {
    "scrolled": false
   },
   "outputs": [
    {
     "name": "stdout",
     "output_type": "stream",
     "text": [
      "Model: \"sequential_3\"\n",
      "_________________________________________________________________\n",
      " Layer (type)                Output Shape              Param #   \n",
      "=================================================================\n",
      " embedding_3 (Embedding)     (None, 1, 384)            192000    \n",
      "                                                                 \n",
      " conv1d_4 (Conv1D)           (None, 1, 128)            1572992   \n",
      "                                                                 \n",
      " global_average_pooling1d_3   (None, 128)              0         \n",
      " (GlobalAveragePooling1D)                                        \n",
      "                                                                 \n",
      " dense_6 (Dense)             (None, 64)                8256      \n",
      "                                                                 \n",
      " dense_7 (Dense)             (None, 32)                2080      \n",
      "                                                                 \n",
      " dense_8 (Dense)             (None, 1)                 33        \n",
      "                                                                 \n",
      "=================================================================\n",
      "Total params: 1,775,361\n",
      "Trainable params: 1,775,361\n",
      "Non-trainable params: 0\n",
      "_________________________________________________________________\n"
     ]
    }
   ],
   "source": [
    "model1 = Sequential()\n",
    "\n",
    "model1.add(Embedding(input_dim=len(embeddings), output_dim=embeddings.shape[1], input_length=1, weights=[embeddings], trainable=True))\n",
    "\n",
    "model1.add(Conv1D(128, 32, padding='same', activation=tf.keras.layers.LeakyReLU(alpha=.1)))\n",
    "model1.add(GlobalAveragePooling1D())\n",
    "\n",
    "\n",
    "model1.add(Dense(64, activation='relu'))\n",
    "model1.add(Dense(32, activation='relu'))\n",
    "model1.add(Dense(1, activation='sigmoid'))\n",
    "\n",
    "\n",
    "model1.compile(optimizer=Adam(learning_rate=.00001), loss='binary_crossentropy', metrics=['accuracy'])\n",
    "\n",
    "model1.summary()"
   ]
  },
  {
   "cell_type": "code",
   "execution_count": 41,
   "id": "1558a021",
   "metadata": {
    "scrolled": true
   },
   "outputs": [
    {
     "name": "stdout",
     "output_type": "stream",
     "text": [
      "Epoch 1/50\n",
      "10/10 - 2s - loss: 0.6932 - accuracy: 0.5133 - 2s/epoch - 152ms/step\n",
      "Epoch 2/50\n",
      "10/10 - 1s - loss: 0.6930 - accuracy: 0.5400 - 966ms/epoch - 97ms/step\n",
      "Epoch 3/50\n",
      "10/10 - 1s - loss: 0.6929 - accuracy: 0.5533 - 893ms/epoch - 89ms/step\n",
      "Epoch 4/50\n",
      "10/10 - 1s - loss: 0.6927 - accuracy: 0.5800 - 986ms/epoch - 99ms/step\n",
      "Epoch 5/50\n",
      "10/10 - 1s - loss: 0.6926 - accuracy: 0.5967 - 878ms/epoch - 88ms/step\n",
      "Epoch 6/50\n",
      "10/10 - 1s - loss: 0.6925 - accuracy: 0.6067 - 876ms/epoch - 88ms/step\n",
      "Epoch 7/50\n",
      "10/10 - 1s - loss: 0.6924 - accuracy: 0.6133 - 927ms/epoch - 93ms/step\n",
      "Epoch 8/50\n",
      "10/10 - 1s - loss: 0.6923 - accuracy: 0.6300 - 1s/epoch - 100ms/step\n",
      "Epoch 9/50\n",
      "10/10 - 1s - loss: 0.6921 - accuracy: 0.6433 - 870ms/epoch - 87ms/step\n",
      "Epoch 10/50\n",
      "10/10 - 1s - loss: 0.6920 - accuracy: 0.6600 - 872ms/epoch - 87ms/step\n",
      "Epoch 11/50\n",
      "10/10 - 1s - loss: 0.6919 - accuracy: 0.6833 - 874ms/epoch - 87ms/step\n",
      "Epoch 12/50\n",
      "10/10 - 1s - loss: 0.6917 - accuracy: 0.7067 - 952ms/epoch - 95ms/step\n",
      "Epoch 13/50\n",
      "10/10 - 1s - loss: 0.6916 - accuracy: 0.7067 - 888ms/epoch - 89ms/step\n",
      "Epoch 14/50\n",
      "10/10 - 1s - loss: 0.6915 - accuracy: 0.7267 - 871ms/epoch - 87ms/step\n",
      "Epoch 15/50\n",
      "10/10 - 1s - loss: 0.6913 - accuracy: 0.7433 - 869ms/epoch - 87ms/step\n",
      "Epoch 16/50\n",
      "10/10 - 1s - loss: 0.6912 - accuracy: 0.7533 - 912ms/epoch - 91ms/step\n",
      "Epoch 17/50\n",
      "10/10 - 1s - loss: 0.6910 - accuracy: 0.7800 - 964ms/epoch - 96ms/step\n",
      "Epoch 18/50\n",
      "10/10 - 1s - loss: 0.6909 - accuracy: 0.8000 - 1s/epoch - 110ms/step\n",
      "Epoch 19/50\n",
      "10/10 - 1s - loss: 0.6907 - accuracy: 0.8200 - 1s/epoch - 101ms/step\n",
      "Epoch 20/50\n",
      "10/10 - 1s - loss: 0.6905 - accuracy: 0.8267 - 969ms/epoch - 97ms/step\n",
      "Epoch 21/50\n",
      "10/10 - 1s - loss: 0.6903 - accuracy: 0.8267 - 1s/epoch - 105ms/step\n",
      "Epoch 22/50\n",
      "10/10 - 1s - loss: 0.6901 - accuracy: 0.8367 - 869ms/epoch - 87ms/step\n",
      "Epoch 23/50\n",
      "10/10 - 1s - loss: 0.6899 - accuracy: 0.8400 - 951ms/epoch - 95ms/step\n",
      "Epoch 24/50\n",
      "10/10 - 1s - loss: 0.6897 - accuracy: 0.8367 - 869ms/epoch - 87ms/step\n",
      "Epoch 25/50\n",
      "10/10 - 1s - loss: 0.6894 - accuracy: 0.8400 - 877ms/epoch - 88ms/step\n",
      "Epoch 26/50\n",
      "10/10 - 1s - loss: 0.6892 - accuracy: 0.8400 - 938ms/epoch - 94ms/step\n",
      "Epoch 27/50\n",
      "10/10 - 1s - loss: 0.6889 - accuracy: 0.8467 - 869ms/epoch - 87ms/step\n",
      "Epoch 28/50\n",
      "10/10 - 1s - loss: 0.6887 - accuracy: 0.8467 - 872ms/epoch - 87ms/step\n",
      "Epoch 29/50\n",
      "10/10 - 1s - loss: 0.6884 - accuracy: 0.8533 - 891ms/epoch - 89ms/step\n",
      "Epoch 30/50\n",
      "10/10 - 1s - loss: 0.6881 - accuracy: 0.8500 - 889ms/epoch - 89ms/step\n",
      "Epoch 31/50\n",
      "10/10 - 1s - loss: 0.6878 - accuracy: 0.8567 - 868ms/epoch - 87ms/step\n",
      "Epoch 32/50\n",
      "10/10 - 1s - loss: 0.6875 - accuracy: 0.8500 - 874ms/epoch - 87ms/step\n",
      "Epoch 33/50\n",
      "10/10 - 1s - loss: 0.6871 - accuracy: 0.8533 - 920ms/epoch - 92ms/step\n",
      "Epoch 34/50\n",
      "10/10 - 1s - loss: 0.6868 - accuracy: 0.8533 - 884ms/epoch - 88ms/step\n",
      "Epoch 35/50\n",
      "10/10 - 1s - loss: 0.6864 - accuracy: 0.8500 - 965ms/epoch - 96ms/step\n",
      "Epoch 36/50\n",
      "10/10 - 1s - loss: 0.6860 - accuracy: 0.8467 - 878ms/epoch - 88ms/step\n",
      "Epoch 37/50\n",
      "10/10 - 1s - loss: 0.6856 - accuracy: 0.8467 - 872ms/epoch - 87ms/step\n",
      "Epoch 38/50\n",
      "10/10 - 1s - loss: 0.6851 - accuracy: 0.8500 - 873ms/epoch - 87ms/step\n",
      "Epoch 39/50\n",
      "10/10 - 1s - loss: 0.6847 - accuracy: 0.8533 - 911ms/epoch - 91ms/step\n",
      "Epoch 40/50\n",
      "10/10 - 1s - loss: 0.6842 - accuracy: 0.8567 - 874ms/epoch - 87ms/step\n",
      "Epoch 41/50\n",
      "10/10 - 1s - loss: 0.6837 - accuracy: 0.8500 - 875ms/epoch - 87ms/step\n",
      "Epoch 42/50\n",
      "10/10 - 1s - loss: 0.6832 - accuracy: 0.8467 - 952ms/epoch - 95ms/step\n",
      "Epoch 43/50\n",
      "10/10 - 1s - loss: 0.6827 - accuracy: 0.8500 - 875ms/epoch - 88ms/step\n",
      "Epoch 44/50\n",
      "10/10 - 1s - loss: 0.6822 - accuracy: 0.8467 - 887ms/epoch - 89ms/step\n",
      "Epoch 45/50\n",
      "10/10 - 1s - loss: 0.6816 - accuracy: 0.8467 - 865ms/epoch - 86ms/step\n",
      "Epoch 46/50\n",
      "10/10 - 1s - loss: 0.6810 - accuracy: 0.8500 - 875ms/epoch - 87ms/step\n",
      "Epoch 47/50\n",
      "10/10 - 1s - loss: 0.6804 - accuracy: 0.8567 - 875ms/epoch - 88ms/step\n",
      "Epoch 48/50\n",
      "10/10 - 1s - loss: 0.6798 - accuracy: 0.8533 - 873ms/epoch - 87ms/step\n",
      "Epoch 49/50\n",
      "10/10 - 1s - loss: 0.6792 - accuracy: 0.8567 - 875ms/epoch - 87ms/step\n",
      "Epoch 50/50\n",
      "10/10 - 1s - loss: 0.6785 - accuracy: 0.8600 - 879ms/epoch - 88ms/step\n"
     ]
    },
    {
     "data": {
      "text/plain": [
       "<keras.callbacks.History at 0x7f8422c0b040>"
      ]
     },
     "execution_count": 41,
     "metadata": {},
     "output_type": "execute_result"
    }
   ],
   "source": [
    "model1.fit(x_train, y_train.tolist(), epochs=50, batch_size=32, verbose=2)"
   ]
  },
  {
   "cell_type": "code",
   "execution_count": 74,
   "id": "2cf132d6",
   "metadata": {},
   "outputs": [
    {
     "name": "stdout",
     "output_type": "stream",
     "text": [
      "7/7 [==============================] - 0s 3ms/step\n",
      "              precision    recall  f1-score   support\n",
      "\n",
      "           0       0.60      0.54      0.57       100\n",
      "           1       0.58      0.64      0.61       100\n",
      "\n",
      "    accuracy                           0.59       200\n",
      "   macro avg       0.59      0.59      0.59       200\n",
      "weighted avg       0.59      0.59      0.59       200\n",
      "\n"
     ]
    }
   ],
   "source": [
    "y_pred = model1.predict(x_test)\n",
    "ypred = y_pred.reshape(len(y_pred), )\n",
    "y_pred = np.round(y_pred)\n",
    "print(classification_report(y_test, y_pred))"
   ]
  },
  {
   "cell_type": "code",
   "execution_count": 50,
   "id": "64c8046a",
   "metadata": {
    "scrolled": false
   },
   "outputs": [],
   "source": []
  },
  {
   "cell_type": "code",
   "execution_count": 52,
   "id": "d647a575",
   "metadata": {},
   "outputs": [],
   "source": []
  },
  {
   "cell_type": "code",
   "execution_count": null,
   "id": "d082d596",
   "metadata": {},
   "outputs": [],
   "source": []
  },
  {
   "cell_type": "markdown",
   "id": "12a8eef0",
   "metadata": {},
   "source": [
    "# Model2"
   ]
  },
  {
   "cell_type": "code",
   "execution_count": 76,
   "id": "52e2011c",
   "metadata": {},
   "outputs": [
    {
     "name": "stdout",
     "output_type": "stream",
     "text": [
      "Model: \"sequential_22\"\n",
      "_________________________________________________________________\n",
      " Layer (type)                Output Shape              Param #   \n",
      "=================================================================\n",
      " embedding_22 (Embedding)    (None, 1, 384)            192000    \n",
      "                                                                 \n",
      " conv1d_29 (Conv1D)          (None, 1, 128)            1572992   \n",
      "                                                                 \n",
      " lstm_3 (LSTM)               (None, 128)               131584    \n",
      "                                                                 \n",
      " dense_15 (Dense)            (None, 64)                8256      \n",
      "                                                                 \n",
      " dense_16 (Dense)            (None, 32)                2080      \n",
      "                                                                 \n",
      " dense_17 (Dense)            (None, 1)                 33        \n",
      "                                                                 \n",
      "=================================================================\n",
      "Total params: 1,906,945\n",
      "Trainable params: 1,906,945\n",
      "Non-trainable params: 0\n",
      "_________________________________________________________________\n"
     ]
    }
   ],
   "source": [
    "model2 = Sequential()\n",
    "\n",
    "model2.add(Embedding(input_dim=len(embeddings), output_dim=embeddings.shape[1], input_length=1, weights=[embeddings], trainable=True))\n",
    "\n",
    "model2.add(Conv1D(128, 32, padding='same', activation=tf.keras.layers.LeakyReLU(alpha=.1)))\n",
    "\n",
    "model2.add(LSTM(128))\n",
    "\n",
    "model2.add(Dense(64, activation='relu'))\n",
    "model2.add(Dense(32, activation='relu'))\n",
    "model2.add(Dense(1, activation='sigmoid'))\n",
    "\n",
    "\n",
    "model2.compile(optimizer=Adam(learning_rate=.00001), loss='binary_crossentropy', metrics=['accuracy'])\n",
    "\n",
    "model2.summary()"
   ]
  },
  {
   "cell_type": "code",
   "execution_count": 77,
   "id": "72672bcc",
   "metadata": {
    "scrolled": true
   },
   "outputs": [
    {
     "name": "stdout",
     "output_type": "stream",
     "text": [
      "Epoch 1/50\n",
      "10/10 - 3s - loss: 0.6932 - accuracy: 0.4500 - 3s/epoch - 265ms/step\n",
      "Epoch 2/50\n",
      "10/10 - 1s - loss: 0.6931 - accuracy: 0.4867 - 1s/epoch - 113ms/step\n",
      "Epoch 3/50\n",
      "10/10 - 1s - loss: 0.6931 - accuracy: 0.5233 - 949ms/epoch - 95ms/step\n",
      "Epoch 4/50\n",
      "10/10 - 1s - loss: 0.6931 - accuracy: 0.5400 - 956ms/epoch - 96ms/step\n",
      "Epoch 5/50\n",
      "10/10 - 1s - loss: 0.6930 - accuracy: 0.5600 - 1s/epoch - 117ms/step\n",
      "Epoch 6/50\n",
      "10/10 - 1s - loss: 0.6930 - accuracy: 0.6067 - 1s/epoch - 105ms/step\n",
      "Epoch 7/50\n",
      "10/10 - 1s - loss: 0.6930 - accuracy: 0.6167 - 967ms/epoch - 97ms/step\n",
      "Epoch 8/50\n",
      "10/10 - 1s - loss: 0.6929 - accuracy: 0.6333 - 959ms/epoch - 96ms/step\n",
      "Epoch 9/50\n",
      "10/10 - 1s - loss: 0.6929 - accuracy: 0.6400 - 920ms/epoch - 92ms/step\n",
      "Epoch 10/50\n",
      "10/10 - 1s - loss: 0.6929 - accuracy: 0.6500 - 1s/epoch - 100ms/step\n",
      "Epoch 11/50\n",
      "10/10 - 1s - loss: 0.6928 - accuracy: 0.6700 - 952ms/epoch - 95ms/step\n",
      "Epoch 12/50\n",
      "10/10 - 1s - loss: 0.6928 - accuracy: 0.6867 - 929ms/epoch - 93ms/step\n",
      "Epoch 13/50\n",
      "10/10 - 1s - loss: 0.6927 - accuracy: 0.6867 - 980ms/epoch - 98ms/step\n",
      "Epoch 14/50\n",
      "10/10 - 1s - loss: 0.6927 - accuracy: 0.7100 - 908ms/epoch - 91ms/step\n",
      "Epoch 15/50\n",
      "10/10 - 1s - loss: 0.6926 - accuracy: 0.7133 - 999ms/epoch - 100ms/step\n",
      "Epoch 16/50\n",
      "10/10 - 1s - loss: 0.6926 - accuracy: 0.7333 - 907ms/epoch - 91ms/step\n",
      "Epoch 17/50\n",
      "10/10 - 1s - loss: 0.6925 - accuracy: 0.7400 - 970ms/epoch - 97ms/step\n",
      "Epoch 18/50\n",
      "10/10 - 1s - loss: 0.6925 - accuracy: 0.7500 - 1s/epoch - 123ms/step\n",
      "Epoch 19/50\n",
      "10/10 - 1s - loss: 0.6924 - accuracy: 0.7567 - 1s/epoch - 101ms/step\n",
      "Epoch 20/50\n",
      "10/10 - 1s - loss: 0.6924 - accuracy: 0.7667 - 1s/epoch - 102ms/step\n",
      "Epoch 21/50\n",
      "10/10 - 1s - loss: 0.6923 - accuracy: 0.7667 - 917ms/epoch - 92ms/step\n",
      "Epoch 22/50\n",
      "10/10 - 1s - loss: 0.6922 - accuracy: 0.7700 - 943ms/epoch - 94ms/step\n",
      "Epoch 23/50\n",
      "10/10 - 1s - loss: 0.6922 - accuracy: 0.7767 - 942ms/epoch - 94ms/step\n",
      "Epoch 24/50\n",
      "10/10 - 1s - loss: 0.6921 - accuracy: 0.7867 - 925ms/epoch - 93ms/step\n",
      "Epoch 25/50\n",
      "10/10 - 1s - loss: 0.6920 - accuracy: 0.7933 - 939ms/epoch - 94ms/step\n",
      "Epoch 26/50\n",
      "10/10 - 1s - loss: 0.6919 - accuracy: 0.8067 - 913ms/epoch - 91ms/step\n",
      "Epoch 27/50\n",
      "10/10 - 1s - loss: 0.6918 - accuracy: 0.8167 - 975ms/epoch - 97ms/step\n",
      "Epoch 28/50\n",
      "10/10 - 1s - loss: 0.6917 - accuracy: 0.8233 - 1s/epoch - 102ms/step\n",
      "Epoch 29/50\n",
      "10/10 - 1s - loss: 0.6916 - accuracy: 0.8300 - 1s/epoch - 118ms/step\n",
      "Epoch 30/50\n",
      "10/10 - 1s - loss: 0.6915 - accuracy: 0.8267 - 1s/epoch - 101ms/step\n",
      "Epoch 31/50\n",
      "10/10 - 1s - loss: 0.6914 - accuracy: 0.8433 - 996ms/epoch - 100ms/step\n",
      "Epoch 32/50\n",
      "10/10 - 1s - loss: 0.6913 - accuracy: 0.8400 - 914ms/epoch - 91ms/step\n",
      "Epoch 33/50\n",
      "10/10 - 1s - loss: 0.6912 - accuracy: 0.8467 - 1s/epoch - 109ms/step\n",
      "Epoch 34/50\n",
      "10/10 - 1s - loss: 0.6910 - accuracy: 0.8467 - 977ms/epoch - 98ms/step\n",
      "Epoch 35/50\n",
      "10/10 - 1s - loss: 0.6909 - accuracy: 0.8500 - 958ms/epoch - 96ms/step\n",
      "Epoch 36/50\n",
      "10/10 - 1s - loss: 0.6908 - accuracy: 0.8533 - 914ms/epoch - 91ms/step\n",
      "Epoch 37/50\n",
      "10/10 - 1s - loss: 0.6906 - accuracy: 0.8533 - 889ms/epoch - 89ms/step\n",
      "Epoch 38/50\n",
      "10/10 - 1s - loss: 0.6904 - accuracy: 0.8533 - 1s/epoch - 101ms/step\n",
      "Epoch 39/50\n",
      "10/10 - 1s - loss: 0.6903 - accuracy: 0.8467 - 957ms/epoch - 96ms/step\n",
      "Epoch 40/50\n",
      "10/10 - 1s - loss: 0.6901 - accuracy: 0.8533 - 981ms/epoch - 98ms/step\n",
      "Epoch 41/50\n",
      "10/10 - 1s - loss: 0.6899 - accuracy: 0.8533 - 994ms/epoch - 99ms/step\n",
      "Epoch 42/50\n",
      "10/10 - 1s - loss: 0.6897 - accuracy: 0.8467 - 895ms/epoch - 89ms/step\n",
      "Epoch 43/50\n",
      "10/10 - 1s - loss: 0.6895 - accuracy: 0.8567 - 883ms/epoch - 88ms/step\n",
      "Epoch 44/50\n",
      "10/10 - 1s - loss: 0.6893 - accuracy: 0.8633 - 986ms/epoch - 99ms/step\n",
      "Epoch 45/50\n",
      "10/10 - 1s - loss: 0.6891 - accuracy: 0.8700 - 878ms/epoch - 88ms/step\n",
      "Epoch 46/50\n",
      "10/10 - 1s - loss: 0.6888 - accuracy: 0.8667 - 889ms/epoch - 89ms/step\n",
      "Epoch 47/50\n",
      "10/10 - 1s - loss: 0.6886 - accuracy: 0.8633 - 906ms/epoch - 91ms/step\n",
      "Epoch 48/50\n",
      "10/10 - 1s - loss: 0.6883 - accuracy: 0.8667 - 1s/epoch - 102ms/step\n",
      "Epoch 49/50\n",
      "10/10 - 1s - loss: 0.6880 - accuracy: 0.8667 - 993ms/epoch - 99ms/step\n",
      "Epoch 50/50\n",
      "10/10 - 1s - loss: 0.6877 - accuracy: 0.8667 - 1s/epoch - 112ms/step\n"
     ]
    },
    {
     "data": {
      "text/plain": [
       "<keras.callbacks.History at 0x7f8423f0cb50>"
      ]
     },
     "execution_count": 77,
     "metadata": {},
     "output_type": "execute_result"
    }
   ],
   "source": [
    "model2.fit(x_train, y_train.tolist(), epochs=50, batch_size=32, verbose=2)"
   ]
  },
  {
   "cell_type": "code",
   "execution_count": 78,
   "id": "8cb89926",
   "metadata": {},
   "outputs": [
    {
     "name": "stdout",
     "output_type": "stream",
     "text": [
      "7/7 [==============================] - 0s 3ms/step\n",
      "              precision    recall  f1-score   support\n",
      "\n",
      "           0       0.64      0.50      0.56       100\n",
      "           1       0.59      0.72      0.65       100\n",
      "\n",
      "    accuracy                           0.61       200\n",
      "   macro avg       0.62      0.61      0.61       200\n",
      "weighted avg       0.62      0.61      0.61       200\n",
      "\n"
     ]
    }
   ],
   "source": [
    "y_pred = model2.predict(x_test)\n",
    "ypred = y_pred.reshape(len(y_pred), )\n",
    "y_pred = np.round(y_pred)\n",
    "print(classification_report(y_test, y_pred))"
   ]
  },
  {
   "cell_type": "markdown",
   "id": "a0e8761c",
   "metadata": {},
   "source": [
    "# Model3"
   ]
  },
  {
   "cell_type": "code",
   "execution_count": 80,
   "id": "4a159c83",
   "metadata": {},
   "outputs": [
    {
     "name": "stdout",
     "output_type": "stream",
     "text": [
      "Model: \"sequential_24\"\n",
      "_________________________________________________________________\n",
      " Layer (type)                Output Shape              Param #   \n",
      "=================================================================\n",
      " embedding_24 (Embedding)    (None, 1, 384)            192000    \n",
      "                                                                 \n",
      " conv1d_32 (Conv1D)          (None, 1, 128)            1572992   \n",
      "                                                                 \n",
      " conv1d_33 (Conv1D)          (None, 1, 64)             131136    \n",
      "                                                                 \n",
      " lstm_5 (LSTM)               (None, 128)               98816     \n",
      "                                                                 \n",
      " dense_21 (Dense)            (None, 64)                8256      \n",
      "                                                                 \n",
      " dense_22 (Dense)            (None, 32)                2080      \n",
      "                                                                 \n",
      " dense_23 (Dense)            (None, 1)                 33        \n",
      "                                                                 \n",
      "=================================================================\n",
      "Total params: 2,005,313\n",
      "Trainable params: 2,005,313\n",
      "Non-trainable params: 0\n",
      "_________________________________________________________________\n"
     ]
    }
   ],
   "source": [
    "model3 = Sequential()\n",
    "\n",
    "model3.add(Embedding(input_dim=len(embeddings), output_dim=embeddings.shape[1], input_length=1, weights=[embeddings], trainable=True))\n",
    "\n",
    "model3.add(Conv1D(128, 32, padding='same', activation=tf.keras.layers.LeakyReLU(alpha=.1)))\n",
    "model3.add(Conv1D(64, 16, padding='same', activation=tf.keras.layers.LeakyReLU(alpha=.1)))\n",
    "\n",
    "model3.add(LSTM(128))\n",
    "\n",
    "model3.add(Dense(64, activation='relu'))\n",
    "model3.add(Dense(32, activation='relu'))\n",
    "model3.add(Dense(1, activation='sigmoid'))\n",
    "\n",
    "\n",
    "model3.compile(optimizer=Adam(learning_rate=.00001), loss='binary_crossentropy', metrics=['accuracy'])\n",
    "\n",
    "model3.summary()"
   ]
  },
  {
   "cell_type": "code",
   "execution_count": 81,
   "id": "5b6cad51",
   "metadata": {
    "scrolled": true
   },
   "outputs": [
    {
     "name": "stdout",
     "output_type": "stream",
     "text": [
      "Epoch 1/50\n",
      "10/10 - 3s - loss: 0.6931 - accuracy: 0.4933 - 3s/epoch - 279ms/step\n",
      "Epoch 2/50\n",
      "10/10 - 1s - loss: 0.6931 - accuracy: 0.5333 - 1s/epoch - 101ms/step\n",
      "Epoch 3/50\n",
      "10/10 - 1s - loss: 0.6931 - accuracy: 0.5833 - 902ms/epoch - 90ms/step\n",
      "Epoch 4/50\n",
      "10/10 - 1s - loss: 0.6931 - accuracy: 0.5933 - 929ms/epoch - 93ms/step\n",
      "Epoch 5/50\n",
      "10/10 - 1s - loss: 0.6931 - accuracy: 0.5967 - 884ms/epoch - 88ms/step\n",
      "Epoch 6/50\n",
      "10/10 - 1s - loss: 0.6931 - accuracy: 0.6233 - 1s/epoch - 101ms/step\n",
      "Epoch 7/50\n",
      "10/10 - 1s - loss: 0.6931 - accuracy: 0.5633 - 997ms/epoch - 100ms/step\n",
      "Epoch 8/50\n",
      "10/10 - 1s - loss: 0.6931 - accuracy: 0.5300 - 914ms/epoch - 91ms/step\n",
      "Epoch 9/50\n",
      "10/10 - 1s - loss: 0.6931 - accuracy: 0.5900 - 986ms/epoch - 99ms/step\n",
      "Epoch 10/50\n",
      "10/10 - 1s - loss: 0.6931 - accuracy: 0.6233 - 1s/epoch - 104ms/step\n",
      "Epoch 11/50\n",
      "10/10 - 1s - loss: 0.6931 - accuracy: 0.6100 - 938ms/epoch - 94ms/step\n",
      "Epoch 12/50\n",
      "10/10 - 1s - loss: 0.6930 - accuracy: 0.6467 - 1s/epoch - 107ms/step\n",
      "Epoch 13/50\n",
      "10/10 - 1s - loss: 0.6930 - accuracy: 0.7233 - 1s/epoch - 111ms/step\n",
      "Epoch 14/50\n",
      "10/10 - 1s - loss: 0.6930 - accuracy: 0.7533 - 966ms/epoch - 97ms/step\n",
      "Epoch 15/50\n",
      "10/10 - 1s - loss: 0.6930 - accuracy: 0.7333 - 975ms/epoch - 98ms/step\n",
      "Epoch 16/50\n",
      "10/10 - 1s - loss: 0.6930 - accuracy: 0.7500 - 992ms/epoch - 99ms/step\n",
      "Epoch 17/50\n",
      "10/10 - 1s - loss: 0.6930 - accuracy: 0.7100 - 1s/epoch - 101ms/step\n",
      "Epoch 18/50\n",
      "10/10 - 1s - loss: 0.6930 - accuracy: 0.7033 - 1s/epoch - 103ms/step\n",
      "Epoch 19/50\n",
      "10/10 - 1s - loss: 0.6929 - accuracy: 0.7667 - 1s/epoch - 108ms/step\n",
      "Epoch 20/50\n",
      "10/10 - 1s - loss: 0.6929 - accuracy: 0.7900 - 1s/epoch - 109ms/step\n",
      "Epoch 21/50\n",
      "10/10 - 1s - loss: 0.6929 - accuracy: 0.7867 - 976ms/epoch - 98ms/step\n",
      "Epoch 22/50\n",
      "10/10 - 1s - loss: 0.6929 - accuracy: 0.7967 - 1s/epoch - 111ms/step\n",
      "Epoch 23/50\n",
      "10/10 - 1s - loss: 0.6928 - accuracy: 0.8000 - 1s/epoch - 101ms/step\n",
      "Epoch 24/50\n",
      "10/10 - 1s - loss: 0.6928 - accuracy: 0.8067 - 932ms/epoch - 93ms/step\n",
      "Epoch 25/50\n",
      "10/10 - 1s - loss: 0.6928 - accuracy: 0.8000 - 957ms/epoch - 96ms/step\n",
      "Epoch 26/50\n",
      "10/10 - 1s - loss: 0.6927 - accuracy: 0.8000 - 937ms/epoch - 94ms/step\n",
      "Epoch 27/50\n",
      "10/10 - 1s - loss: 0.6927 - accuracy: 0.8067 - 899ms/epoch - 90ms/step\n",
      "Epoch 28/50\n",
      "10/10 - 1s - loss: 0.6927 - accuracy: 0.8200 - 915ms/epoch - 92ms/step\n",
      "Epoch 29/50\n",
      "10/10 - 1s - loss: 0.6926 - accuracy: 0.8233 - 910ms/epoch - 91ms/step\n",
      "Epoch 30/50\n",
      "10/10 - 1s - loss: 0.6926 - accuracy: 0.7933 - 972ms/epoch - 97ms/step\n",
      "Epoch 31/50\n",
      "10/10 - 1s - loss: 0.6925 - accuracy: 0.8067 - 1s/epoch - 105ms/step\n",
      "Epoch 32/50\n",
      "10/10 - 1s - loss: 0.6925 - accuracy: 0.8300 - 987ms/epoch - 99ms/step\n",
      "Epoch 33/50\n",
      "10/10 - 1s - loss: 0.6924 - accuracy: 0.8300 - 1s/epoch - 103ms/step\n",
      "Epoch 34/50\n",
      "10/10 - 1s - loss: 0.6923 - accuracy: 0.8267 - 908ms/epoch - 91ms/step\n",
      "Epoch 35/50\n",
      "10/10 - 1s - loss: 0.6923 - accuracy: 0.8200 - 911ms/epoch - 91ms/step\n",
      "Epoch 36/50\n",
      "10/10 - 1s - loss: 0.6922 - accuracy: 0.8267 - 959ms/epoch - 96ms/step\n",
      "Epoch 37/50\n",
      "10/10 - 1s - loss: 0.6921 - accuracy: 0.8333 - 948ms/epoch - 95ms/step\n",
      "Epoch 38/50\n",
      "10/10 - 1s - loss: 0.6920 - accuracy: 0.8400 - 1s/epoch - 104ms/step\n",
      "Epoch 39/50\n",
      "10/10 - 1s - loss: 0.6919 - accuracy: 0.8433 - 908ms/epoch - 91ms/step\n",
      "Epoch 40/50\n",
      "10/10 - 1s - loss: 0.6918 - accuracy: 0.8467 - 907ms/epoch - 91ms/step\n",
      "Epoch 41/50\n",
      "10/10 - 1s - loss: 0.6917 - accuracy: 0.8333 - 933ms/epoch - 93ms/step\n",
      "Epoch 42/50\n",
      "10/10 - 1s - loss: 0.6916 - accuracy: 0.8400 - 924ms/epoch - 92ms/step\n",
      "Epoch 43/50\n",
      "10/10 - 1s - loss: 0.6915 - accuracy: 0.8533 - 943ms/epoch - 94ms/step\n",
      "Epoch 44/50\n",
      "10/10 - 1s - loss: 0.6914 - accuracy: 0.8567 - 1s/epoch - 107ms/step\n",
      "Epoch 45/50\n",
      "10/10 - 1s - loss: 0.6912 - accuracy: 0.8600 - 975ms/epoch - 98ms/step\n",
      "Epoch 46/50\n",
      "10/10 - 1s - loss: 0.6911 - accuracy: 0.8433 - 1s/epoch - 111ms/step\n",
      "Epoch 47/50\n",
      "10/10 - 1s - loss: 0.6909 - accuracy: 0.8733 - 1s/epoch - 106ms/step\n",
      "Epoch 48/50\n",
      "10/10 - 1s - loss: 0.6907 - accuracy: 0.8700 - 963ms/epoch - 96ms/step\n",
      "Epoch 49/50\n",
      "10/10 - 1s - loss: 0.6906 - accuracy: 0.8700 - 1s/epoch - 100ms/step\n",
      "Epoch 50/50\n",
      "10/10 - 1s - loss: 0.6903 - accuracy: 0.8767 - 974ms/epoch - 97ms/step\n"
     ]
    },
    {
     "data": {
      "text/plain": [
       "<keras.callbacks.History at 0x7f84238cd310>"
      ]
     },
     "execution_count": 81,
     "metadata": {},
     "output_type": "execute_result"
    }
   ],
   "source": [
    "model3.fit(x_train, y_train.tolist(), epochs=50, batch_size=32, verbose=2)"
   ]
  },
  {
   "cell_type": "code",
   "execution_count": 82,
   "id": "563ee09e",
   "metadata": {},
   "outputs": [
    {
     "name": "stdout",
     "output_type": "stream",
     "text": [
      "7/7 [==============================] - 0s 4ms/step\n",
      "              precision    recall  f1-score   support\n",
      "\n",
      "           0       0.58      0.63      0.61       100\n",
      "           1       0.60      0.55      0.57       100\n",
      "\n",
      "    accuracy                           0.59       200\n",
      "   macro avg       0.59      0.59      0.59       200\n",
      "weighted avg       0.59      0.59      0.59       200\n",
      "\n"
     ]
    }
   ],
   "source": [
    "y_pred = model3.predict(x_test)\n",
    "ypred = y_pred.reshape(len(y_pred), )\n",
    "y_pred = np.round(y_pred)\n",
    "print(classification_report(y_test, y_pred))"
   ]
  },
  {
   "cell_type": "markdown",
   "id": "5658425c",
   "metadata": {},
   "source": [
    "# Adding a CNN layer doesn't improve classification"
   ]
  },
  {
   "cell_type": "code",
   "execution_count": null,
   "id": "c1c23f69",
   "metadata": {},
   "outputs": [],
   "source": []
  },
  {
   "cell_type": "code",
   "execution_count": null,
   "id": "7ad3c5fb",
   "metadata": {},
   "outputs": [],
   "source": []
  },
  {
   "cell_type": "markdown",
   "id": "3985e492",
   "metadata": {},
   "source": [
    "# Model4"
   ]
  },
  {
   "cell_type": "markdown",
   "id": "338cc701",
   "metadata": {},
   "source": [
    "# Learning rate is changed from .00001 -> .0001"
   ]
  },
  {
   "cell_type": "code",
   "execution_count": 83,
   "id": "020c2e05",
   "metadata": {},
   "outputs": [
    {
     "name": "stdout",
     "output_type": "stream",
     "text": [
      "Model: \"sequential_25\"\n",
      "_________________________________________________________________\n",
      " Layer (type)                Output Shape              Param #   \n",
      "=================================================================\n",
      " embedding_25 (Embedding)    (None, 1, 384)            192000    \n",
      "                                                                 \n",
      " conv1d_34 (Conv1D)          (None, 1, 128)            1572992   \n",
      "                                                                 \n",
      " lstm_6 (LSTM)               (None, 1, 128)            131584    \n",
      "                                                                 \n",
      " lstm_7 (LSTM)               (None, 128)               131584    \n",
      "                                                                 \n",
      " dense_24 (Dense)            (None, 64)                8256      \n",
      "                                                                 \n",
      " dense_25 (Dense)            (None, 32)                2080      \n",
      "                                                                 \n",
      " dense_26 (Dense)            (None, 1)                 33        \n",
      "                                                                 \n",
      "=================================================================\n",
      "Total params: 2,038,529\n",
      "Trainable params: 2,038,529\n",
      "Non-trainable params: 0\n",
      "_________________________________________________________________\n"
     ]
    }
   ],
   "source": [
    "model4 = Sequential()\n",
    "\n",
    "model4.add(Embedding(input_dim=len(embeddings), output_dim=embeddings.shape[1], input_length=1, weights=[embeddings], trainable=True))\n",
    "\n",
    "model4.add(Conv1D(128, 32, padding='same', activation=tf.keras.layers.LeakyReLU(alpha=.1)))\n",
    "\n",
    "model4.add(LSTM(128, return_sequences=True))\n",
    "model4.add(LSTM(128))\n",
    "\n",
    "model4.add(Dense(64, activation='relu'))\n",
    "model4.add(Dense(32, activation='relu'))\n",
    "model4.add(Dense(1, activation='sigmoid'))\n",
    "\n",
    "\n",
    "model4.compile(optimizer=Adam(learning_rate=.0001), loss='binary_crossentropy', metrics=['accuracy'])\n",
    "\n",
    "model4.summary()"
   ]
  },
  {
   "cell_type": "code",
   "execution_count": 84,
   "id": "c1c52a6f",
   "metadata": {},
   "outputs": [
    {
     "name": "stdout",
     "output_type": "stream",
     "text": [
      "Epoch 1/50\n",
      "10/10 - 4s - loss: 0.6932 - accuracy: 0.5000 - 4s/epoch - 420ms/step\n",
      "Epoch 2/50\n",
      "10/10 - 1s - loss: 0.6931 - accuracy: 0.5000 - 1s/epoch - 108ms/step\n",
      "Epoch 3/50\n",
      "10/10 - 1s - loss: 0.6930 - accuracy: 0.5000 - 1s/epoch - 111ms/step\n",
      "Epoch 4/50\n",
      "10/10 - 1s - loss: 0.6929 - accuracy: 0.5000 - 1s/epoch - 105ms/step\n",
      "Epoch 5/50\n",
      "10/10 - 1s - loss: 0.6928 - accuracy: 0.6600 - 918ms/epoch - 92ms/step\n",
      "Epoch 6/50\n",
      "10/10 - 1s - loss: 0.6925 - accuracy: 0.5900 - 918ms/epoch - 92ms/step\n",
      "Epoch 7/50\n",
      "10/10 - 1s - loss: 0.6919 - accuracy: 0.7533 - 911ms/epoch - 91ms/step\n",
      "Epoch 8/50\n",
      "10/10 - 1s - loss: 0.6910 - accuracy: 0.7700 - 908ms/epoch - 91ms/step\n",
      "Epoch 9/50\n",
      "10/10 - 1s - loss: 0.6894 - accuracy: 0.8000 - 979ms/epoch - 98ms/step\n",
      "Epoch 10/50\n",
      "10/10 - 1s - loss: 0.6869 - accuracy: 0.8067 - 1s/epoch - 108ms/step\n",
      "Epoch 11/50\n",
      "10/10 - 1s - loss: 0.6827 - accuracy: 0.8667 - 1s/epoch - 104ms/step\n",
      "Epoch 12/50\n",
      "10/10 - 1s - loss: 0.6759 - accuracy: 0.8700 - 927ms/epoch - 93ms/step\n",
      "Epoch 13/50\n",
      "10/10 - 1s - loss: 0.6646 - accuracy: 0.9067 - 921ms/epoch - 92ms/step\n",
      "Epoch 14/50\n",
      "10/10 - 1s - loss: 0.6477 - accuracy: 0.9133 - 910ms/epoch - 91ms/step\n",
      "Epoch 15/50\n",
      "10/10 - 1s - loss: 0.6207 - accuracy: 0.9100 - 955ms/epoch - 95ms/step\n",
      "Epoch 16/50\n",
      "10/10 - 1s - loss: 0.5814 - accuracy: 0.9200 - 1s/epoch - 105ms/step\n",
      "Epoch 17/50\n",
      "10/10 - 1s - loss: 0.5303 - accuracy: 0.9200 - 936ms/epoch - 94ms/step\n",
      "Epoch 18/50\n",
      "10/10 - 1s - loss: 0.4659 - accuracy: 0.9433 - 1s/epoch - 114ms/step\n",
      "Epoch 19/50\n",
      "10/10 - 1s - loss: 0.4002 - accuracy: 0.9633 - 925ms/epoch - 93ms/step\n",
      "Epoch 20/50\n",
      "10/10 - 1s - loss: 0.3411 - accuracy: 0.9733 - 913ms/epoch - 91ms/step\n",
      "Epoch 21/50\n",
      "10/10 - 1s - loss: 0.2875 - accuracy: 0.9800 - 900ms/epoch - 90ms/step\n",
      "Epoch 22/50\n",
      "10/10 - 1s - loss: 0.2343 - accuracy: 0.9867 - 908ms/epoch - 91ms/step\n",
      "Epoch 23/50\n",
      "10/10 - 1s - loss: 0.1755 - accuracy: 0.9967 - 918ms/epoch - 92ms/step\n",
      "Epoch 24/50\n",
      "10/10 - 1s - loss: 0.1248 - accuracy: 1.0000 - 910ms/epoch - 91ms/step\n",
      "Epoch 25/50\n",
      "10/10 - 1s - loss: 0.0837 - accuracy: 1.0000 - 1s/epoch - 112ms/step\n",
      "Epoch 26/50\n",
      "10/10 - 1s - loss: 0.0548 - accuracy: 1.0000 - 988ms/epoch - 99ms/step\n",
      "Epoch 27/50\n",
      "10/10 - 1s - loss: 0.0357 - accuracy: 1.0000 - 1s/epoch - 104ms/step\n",
      "Epoch 28/50\n",
      "10/10 - 1s - loss: 0.0240 - accuracy: 1.0000 - 1s/epoch - 106ms/step\n",
      "Epoch 29/50\n",
      "10/10 - 1s - loss: 0.0171 - accuracy: 1.0000 - 933ms/epoch - 93ms/step\n",
      "Epoch 30/50\n",
      "10/10 - 1s - loss: 0.0127 - accuracy: 1.0000 - 925ms/epoch - 92ms/step\n",
      "Epoch 31/50\n",
      "10/10 - 1s - loss: 0.0100 - accuracy: 1.0000 - 954ms/epoch - 95ms/step\n",
      "Epoch 32/50\n",
      "10/10 - 1s - loss: 0.0080 - accuracy: 1.0000 - 975ms/epoch - 97ms/step\n",
      "Epoch 33/50\n",
      "10/10 - 1s - loss: 0.0066 - accuracy: 1.0000 - 938ms/epoch - 94ms/step\n",
      "Epoch 34/50\n",
      "10/10 - 1s - loss: 0.0056 - accuracy: 1.0000 - 908ms/epoch - 91ms/step\n",
      "Epoch 35/50\n",
      "10/10 - 1s - loss: 0.0048 - accuracy: 1.0000 - 908ms/epoch - 91ms/step\n",
      "Epoch 36/50\n",
      "10/10 - 1s - loss: 0.0042 - accuracy: 1.0000 - 914ms/epoch - 91ms/step\n",
      "Epoch 37/50\n",
      "10/10 - 1s - loss: 0.0037 - accuracy: 1.0000 - 949ms/epoch - 95ms/step\n",
      "Epoch 38/50\n",
      "10/10 - 1s - loss: 0.0032 - accuracy: 1.0000 - 974ms/epoch - 97ms/step\n",
      "Epoch 39/50\n",
      "10/10 - 1s - loss: 0.0029 - accuracy: 1.0000 - 934ms/epoch - 93ms/step\n",
      "Epoch 40/50\n",
      "10/10 - 1s - loss: 0.0026 - accuracy: 1.0000 - 956ms/epoch - 96ms/step\n",
      "Epoch 41/50\n",
      "10/10 - 1s - loss: 0.0023 - accuracy: 1.0000 - 939ms/epoch - 94ms/step\n",
      "Epoch 42/50\n",
      "10/10 - 1s - loss: 0.0021 - accuracy: 1.0000 - 929ms/epoch - 93ms/step\n",
      "Epoch 43/50\n",
      "10/10 - 1s - loss: 0.0019 - accuracy: 1.0000 - 928ms/epoch - 93ms/step\n",
      "Epoch 44/50\n",
      "10/10 - 1s - loss: 0.0018 - accuracy: 1.0000 - 917ms/epoch - 92ms/step\n",
      "Epoch 45/50\n",
      "10/10 - 1s - loss: 0.0017 - accuracy: 1.0000 - 910ms/epoch - 91ms/step\n",
      "Epoch 46/50\n",
      "10/10 - 1s - loss: 0.0015 - accuracy: 1.0000 - 943ms/epoch - 94ms/step\n",
      "Epoch 47/50\n",
      "10/10 - 1s - loss: 0.0014 - accuracy: 1.0000 - 943ms/epoch - 94ms/step\n",
      "Epoch 48/50\n",
      "10/10 - 1s - loss: 0.0013 - accuracy: 1.0000 - 1s/epoch - 102ms/step\n",
      "Epoch 49/50\n",
      "10/10 - 1s - loss: 0.0012 - accuracy: 1.0000 - 1s/epoch - 120ms/step\n",
      "Epoch 50/50\n",
      "10/10 - 1s - loss: 0.0012 - accuracy: 1.0000 - 1s/epoch - 118ms/step\n"
     ]
    },
    {
     "data": {
      "text/plain": [
       "<keras.callbacks.History at 0x7f83fbd40e50>"
      ]
     },
     "execution_count": 84,
     "metadata": {},
     "output_type": "execute_result"
    }
   ],
   "source": [
    "model4.fit(x_train, y_train.tolist(), epochs=50, batch_size=32, verbose=2)"
   ]
  },
  {
   "cell_type": "code",
   "execution_count": 85,
   "id": "95feffda",
   "metadata": {},
   "outputs": [
    {
     "name": "stdout",
     "output_type": "stream",
     "text": [
      "7/7 [==============================] - 1s 4ms/step\n",
      "              precision    recall  f1-score   support\n",
      "\n",
      "           0       0.59      0.87      0.70       100\n",
      "           1       0.75      0.39      0.51       100\n",
      "\n",
      "    accuracy                           0.63       200\n",
      "   macro avg       0.67      0.63      0.61       200\n",
      "weighted avg       0.67      0.63      0.61       200\n",
      "\n"
     ]
    }
   ],
   "source": [
    "y_pred = model4.predict(x_test)\n",
    "ypred = y_pred.reshape(len(y_pred), )\n",
    "y_pred = np.round(y_pred)\n",
    "print(classification_report(y_test, y_pred))"
   ]
  },
  {
   "cell_type": "markdown",
   "id": "f1f0d0ed",
   "metadata": {},
   "source": [
    "# Better results, but needs less training."
   ]
  },
  {
   "cell_type": "code",
   "execution_count": null,
   "id": "f3d348fa",
   "metadata": {},
   "outputs": [],
   "source": []
  },
  {
   "cell_type": "markdown",
   "id": "86d1479a",
   "metadata": {},
   "source": [
    "# Model5"
   ]
  },
  {
   "cell_type": "markdown",
   "id": "dbe40059",
   "metadata": {},
   "source": [
    "# The same model as model4, but less epochs to prevent overfitting."
   ]
  },
  {
   "cell_type": "code",
   "execution_count": 86,
   "id": "744940b6",
   "metadata": {},
   "outputs": [
    {
     "name": "stdout",
     "output_type": "stream",
     "text": [
      "Model: \"sequential_26\"\n",
      "_________________________________________________________________\n",
      " Layer (type)                Output Shape              Param #   \n",
      "=================================================================\n",
      " embedding_26 (Embedding)    (None, 1, 384)            192000    \n",
      "                                                                 \n",
      " conv1d_35 (Conv1D)          (None, 1, 128)            1572992   \n",
      "                                                                 \n",
      " lstm_8 (LSTM)               (None, 1, 128)            131584    \n",
      "                                                                 \n",
      " lstm_9 (LSTM)               (None, 128)               131584    \n",
      "                                                                 \n",
      " dense_27 (Dense)            (None, 64)                8256      \n",
      "                                                                 \n",
      " dense_28 (Dense)            (None, 32)                2080      \n",
      "                                                                 \n",
      " dense_29 (Dense)            (None, 1)                 33        \n",
      "                                                                 \n",
      "=================================================================\n",
      "Total params: 2,038,529\n",
      "Trainable params: 2,038,529\n",
      "Non-trainable params: 0\n",
      "_________________________________________________________________\n"
     ]
    }
   ],
   "source": [
    "model5 = Sequential()\n",
    "\n",
    "model5.add(Embedding(input_dim=len(embeddings), output_dim=embeddings.shape[1], input_length=1, weights=[embeddings], trainable=True))\n",
    "\n",
    "model5.add(Conv1D(128, 32, padding='same', activation=tf.keras.layers.LeakyReLU(alpha=.1)))\n",
    "\n",
    "\n",
    "model5.add(LSTM(128, return_sequences=True))\n",
    "model5.add(LSTM(128))\n",
    "\n",
    "model5.add(Dense(64, activation='relu'))\n",
    "model5.add(Dense(32, activation='relu'))\n",
    "model5.add(Dense(1, activation='sigmoid'))\n",
    "\n",
    "\n",
    "model5.compile(optimizer=Adam(learning_rate=.0001), loss='binary_crossentropy', metrics=['accuracy'])\n",
    "\n",
    "model5.summary()"
   ]
  },
  {
   "cell_type": "code",
   "execution_count": 88,
   "id": "d79d4c98",
   "metadata": {
    "scrolled": true
   },
   "outputs": [
    {
     "name": "stdout",
     "output_type": "stream",
     "text": [
      "Epoch 1/20\n",
      "10/10 - 4s - loss: 0.6932 - accuracy: 0.4833 - 4s/epoch - 378ms/step\n",
      "Epoch 2/20\n",
      "10/10 - 1s - loss: 0.6931 - accuracy: 0.5000 - 993ms/epoch - 99ms/step\n",
      "Epoch 3/20\n",
      "10/10 - 1s - loss: 0.6931 - accuracy: 0.5000 - 909ms/epoch - 91ms/step\n",
      "Epoch 4/20\n",
      "10/10 - 1s - loss: 0.6930 - accuracy: 0.5033 - 916ms/epoch - 92ms/step\n",
      "Epoch 5/20\n",
      "10/10 - 1s - loss: 0.6928 - accuracy: 0.6267 - 908ms/epoch - 91ms/step\n",
      "Epoch 6/20\n",
      "10/10 - 1s - loss: 0.6926 - accuracy: 0.7067 - 907ms/epoch - 91ms/step\n",
      "Epoch 7/20\n",
      "10/10 - 1s - loss: 0.6921 - accuracy: 0.6700 - 911ms/epoch - 91ms/step\n",
      "Epoch 8/20\n",
      "10/10 - 1s - loss: 0.6911 - accuracy: 0.7167 - 923ms/epoch - 92ms/step\n",
      "Epoch 9/20\n",
      "10/10 - 1s - loss: 0.6896 - accuracy: 0.7400 - 905ms/epoch - 91ms/step\n",
      "Epoch 10/20\n",
      "10/10 - 1s - loss: 0.6871 - accuracy: 0.7800 - 893ms/epoch - 89ms/step\n",
      "Epoch 11/20\n",
      "10/10 - 1s - loss: 0.6829 - accuracy: 0.7933 - 911ms/epoch - 91ms/step\n",
      "Epoch 12/20\n",
      "10/10 - 1s - loss: 0.6758 - accuracy: 0.8300 - 905ms/epoch - 91ms/step\n",
      "Epoch 13/20\n",
      "10/10 - 1s - loss: 0.6649 - accuracy: 0.8667 - 909ms/epoch - 91ms/step\n",
      "Epoch 14/20\n",
      "10/10 - 1s - loss: 0.6472 - accuracy: 0.9167 - 906ms/epoch - 91ms/step\n",
      "Epoch 15/20\n",
      "10/10 - 1s - loss: 0.6209 - accuracy: 0.9400 - 907ms/epoch - 91ms/step\n",
      "Epoch 16/20\n",
      "10/10 - 1s - loss: 0.5818 - accuracy: 0.9533 - 914ms/epoch - 91ms/step\n",
      "Epoch 17/20\n",
      "10/10 - 1s - loss: 0.5261 - accuracy: 0.9667 - 1s/epoch - 102ms/step\n",
      "Epoch 18/20\n",
      "10/10 - 1s - loss: 0.4570 - accuracy: 0.9800 - 932ms/epoch - 93ms/step\n",
      "Epoch 19/20\n",
      "10/10 - 1s - loss: 0.3818 - accuracy: 0.9867 - 942ms/epoch - 94ms/step\n",
      "Epoch 20/20\n",
      "10/10 - 1s - loss: 0.3106 - accuracy: 0.9900 - 935ms/epoch - 93ms/step\n"
     ]
    },
    {
     "data": {
      "text/plain": [
       "<keras.callbacks.History at 0x7f83c8051b50>"
      ]
     },
     "execution_count": 88,
     "metadata": {},
     "output_type": "execute_result"
    }
   ],
   "source": [
    "model5.fit(x_train, y_train.tolist(), epochs=20, batch_size=32, verbose=2)"
   ]
  },
  {
   "cell_type": "code",
   "execution_count": 89,
   "id": "19049c32",
   "metadata": {},
   "outputs": [
    {
     "name": "stdout",
     "output_type": "stream",
     "text": [
      "7/7 [==============================] - 1s 4ms/step\n",
      "              precision    recall  f1-score   support\n",
      "\n",
      "           0       0.56      0.88      0.68       100\n",
      "           1       0.71      0.30      0.42       100\n",
      "\n",
      "    accuracy                           0.59       200\n",
      "   macro avg       0.64      0.59      0.55       200\n",
      "weighted avg       0.64      0.59      0.55       200\n",
      "\n"
     ]
    }
   ],
   "source": [
    "y_pred = model5.predict(x_test)\n",
    "ypred = y_pred.reshape(len(y_pred), )\n",
    "y_pred = np.round(y_pred)\n",
    "print(classification_report(y_test, y_pred))"
   ]
  },
  {
   "cell_type": "markdown",
   "id": "ebc0cf8c",
   "metadata": {},
   "source": [
    "# Less training didn't improve results."
   ]
  },
  {
   "cell_type": "code",
   "execution_count": null,
   "id": "e2ed07c3",
   "metadata": {},
   "outputs": [],
   "source": []
  },
  {
   "cell_type": "markdown",
   "id": "111c785e",
   "metadata": {},
   "source": [
    "# Model6"
   ]
  },
  {
   "cell_type": "markdown",
   "id": "502be529",
   "metadata": {},
   "source": [
    "# Adding more dense layers"
   ]
  },
  {
   "cell_type": "code",
   "execution_count": 92,
   "id": "53c0564f",
   "metadata": {},
   "outputs": [
    {
     "name": "stdout",
     "output_type": "stream",
     "text": [
      "Model: \"sequential_28\"\n",
      "_________________________________________________________________\n",
      " Layer (type)                Output Shape              Param #   \n",
      "=================================================================\n",
      " embedding_28 (Embedding)    (None, 1, 384)            192000    \n",
      "                                                                 \n",
      " conv1d_37 (Conv1D)          (None, 1, 128)            1572992   \n",
      "                                                                 \n",
      " lstm_12 (LSTM)              (None, 1, 128)            131584    \n",
      "                                                                 \n",
      " lstm_13 (LSTM)              (None, 128)               131584    \n",
      "                                                                 \n",
      " dense_35 (Dense)            (None, 64)                8256      \n",
      "                                                                 \n",
      " dense_36 (Dense)            (None, 32)                2080      \n",
      "                                                                 \n",
      " dense_37 (Dense)            (None, 32)                1056      \n",
      "                                                                 \n",
      " dense_38 (Dense)            (None, 32)                1056      \n",
      "                                                                 \n",
      " dense_39 (Dense)            (None, 1)                 33        \n",
      "                                                                 \n",
      "=================================================================\n",
      "Total params: 2,040,641\n",
      "Trainable params: 2,040,641\n",
      "Non-trainable params: 0\n",
      "_________________________________________________________________\n"
     ]
    }
   ],
   "source": [
    "model6 = Sequential()\n",
    "\n",
    "model6.add(Embedding(input_dim=len(embeddings), output_dim=embeddings.shape[1], input_length=1, weights=[embeddings], trainable=True))\n",
    "\n",
    "model6.add(Conv1D(128, 32, padding='same', activation=tf.keras.layers.LeakyReLU(alpha=.1)))\n",
    "\n",
    "\n",
    "model6.add(LSTM(128, return_sequences=True))\n",
    "model6.add(LSTM(128))\n",
    "\n",
    "model6.add(Dense(64, activation='relu'))\n",
    "model6.add(Dense(32, activation='relu'))\n",
    "model6.add(Dense(32, activation='relu'))\n",
    "model6.add(Dense(32, activation='relu'))\n",
    "model6.add(Dense(1, activation='sigmoid'))\n",
    "\n",
    "\n",
    "model6.compile(optimizer=Adam(learning_rate=.0001), loss='binary_crossentropy', metrics=['accuracy'])\n",
    "\n",
    "model6.summary()"
   ]
  },
  {
   "cell_type": "code",
   "execution_count": 93,
   "id": "8e37efe8",
   "metadata": {
    "scrolled": false
   },
   "outputs": [
    {
     "name": "stdout",
     "output_type": "stream",
     "text": [
      "Epoch 1/30\n",
      "10/10 - 4s - loss: 0.6932 - accuracy: 0.4667 - 4s/epoch - 397ms/step\n",
      "Epoch 2/30\n",
      "10/10 - 1s - loss: 0.6931 - accuracy: 0.5000 - 1s/epoch - 112ms/step\n",
      "Epoch 3/30\n",
      "10/10 - 1s - loss: 0.6931 - accuracy: 0.5067 - 957ms/epoch - 96ms/step\n",
      "Epoch 4/30\n",
      "10/10 - 1s - loss: 0.6931 - accuracy: 0.5167 - 1s/epoch - 108ms/step\n",
      "Epoch 5/30\n",
      "10/10 - 1s - loss: 0.6931 - accuracy: 0.5000 - 1s/epoch - 108ms/step\n",
      "Epoch 6/30\n",
      "10/10 - 1s - loss: 0.6931 - accuracy: 0.5000 - 918ms/epoch - 92ms/step\n",
      "Epoch 7/30\n",
      "10/10 - 1s - loss: 0.6930 - accuracy: 0.5000 - 931ms/epoch - 93ms/step\n",
      "Epoch 8/30\n",
      "10/10 - 1s - loss: 0.6930 - accuracy: 0.6000 - 1s/epoch - 105ms/step\n",
      "Epoch 9/30\n",
      "10/10 - 1s - loss: 0.6928 - accuracy: 0.6433 - 944ms/epoch - 94ms/step\n",
      "Epoch 10/30\n",
      "10/10 - 1s - loss: 0.6924 - accuracy: 0.8033 - 922ms/epoch - 92ms/step\n",
      "Epoch 11/30\n",
      "10/10 - 1s - loss: 0.6915 - accuracy: 0.8300 - 1s/epoch - 104ms/step\n",
      "Epoch 12/30\n",
      "10/10 - 1s - loss: 0.6900 - accuracy: 0.8767 - 985ms/epoch - 98ms/step\n",
      "Epoch 13/30\n",
      "10/10 - 1s - loss: 0.6877 - accuracy: 0.9133 - 1s/epoch - 103ms/step\n",
      "Epoch 14/30\n",
      "10/10 - 1s - loss: 0.6839 - accuracy: 0.9433 - 921ms/epoch - 92ms/step\n",
      "Epoch 15/30\n",
      "10/10 - 1s - loss: 0.6785 - accuracy: 0.9733 - 1s/epoch - 105ms/step\n",
      "Epoch 16/30\n",
      "10/10 - 1s - loss: 0.6705 - accuracy: 0.9800 - 966ms/epoch - 97ms/step\n",
      "Epoch 17/30\n",
      "10/10 - 1s - loss: 0.6593 - accuracy: 0.9800 - 906ms/epoch - 91ms/step\n",
      "Epoch 18/30\n",
      "10/10 - 1s - loss: 0.6427 - accuracy: 0.9833 - 897ms/epoch - 90ms/step\n",
      "Epoch 19/30\n",
      "10/10 - 1s - loss: 0.6170 - accuracy: 0.9833 - 913ms/epoch - 91ms/step\n",
      "Epoch 20/30\n",
      "10/10 - 1s - loss: 0.5771 - accuracy: 0.9867 - 909ms/epoch - 91ms/step\n",
      "Epoch 21/30\n",
      "10/10 - 1s - loss: 0.5132 - accuracy: 0.9933 - 939ms/epoch - 94ms/step\n",
      "Epoch 22/30\n",
      "10/10 - 1s - loss: 0.4233 - accuracy: 1.0000 - 929ms/epoch - 93ms/step\n",
      "Epoch 23/30\n",
      "10/10 - 1s - loss: 0.3209 - accuracy: 1.0000 - 1s/epoch - 104ms/step\n",
      "Epoch 24/30\n",
      "10/10 - 1s - loss: 0.2242 - accuracy: 1.0000 - 897ms/epoch - 90ms/step\n",
      "Epoch 25/30\n",
      "10/10 - 1s - loss: 0.1401 - accuracy: 1.0000 - 930ms/epoch - 93ms/step\n",
      "Epoch 26/30\n",
      "10/10 - 1s - loss: 0.0752 - accuracy: 1.0000 - 900ms/epoch - 90ms/step\n",
      "Epoch 27/30\n",
      "10/10 - 1s - loss: 0.0354 - accuracy: 1.0000 - 914ms/epoch - 91ms/step\n",
      "Epoch 28/30\n",
      "10/10 - 1s - loss: 0.0173 - accuracy: 1.0000 - 900ms/epoch - 90ms/step\n",
      "Epoch 29/30\n",
      "10/10 - 1s - loss: 0.0097 - accuracy: 1.0000 - 909ms/epoch - 91ms/step\n",
      "Epoch 30/30\n",
      "10/10 - 1s - loss: 0.0064 - accuracy: 1.0000 - 903ms/epoch - 90ms/step\n"
     ]
    },
    {
     "data": {
      "text/plain": [
       "<keras.callbacks.History at 0x7f83c805b130>"
      ]
     },
     "execution_count": 93,
     "metadata": {},
     "output_type": "execute_result"
    }
   ],
   "source": [
    "model6.fit(x_train, y_train.tolist(), epochs=30, batch_size=32, verbose=2)"
   ]
  },
  {
   "cell_type": "code",
   "execution_count": 95,
   "id": "82a54680",
   "metadata": {},
   "outputs": [
    {
     "name": "stdout",
     "output_type": "stream",
     "text": [
      "7/7 [==============================] - 1s 4ms/step\n",
      "              precision    recall  f1-score   support\n",
      "\n",
      "           0       0.59      0.61      0.60       100\n",
      "           1       0.59      0.57      0.58       100\n",
      "\n",
      "    accuracy                           0.59       200\n",
      "   macro avg       0.59      0.59      0.59       200\n",
      "weighted avg       0.59      0.59      0.59       200\n",
      "\n"
     ]
    }
   ],
   "source": [
    "y_pred = model6.predict(x_test)\n",
    "ypred = y_pred.reshape(len(y_pred), )\n",
    "y_pred = np.round(y_pred)\n",
    "print(classification_report(y_test, y_pred))"
   ]
  },
  {
   "cell_type": "markdown",
   "id": "c4e4082f",
   "metadata": {},
   "source": [
    "# Results more or less still the same."
   ]
  },
  {
   "cell_type": "code",
   "execution_count": null,
   "id": "a239182e",
   "metadata": {},
   "outputs": [],
   "source": []
  },
  {
   "cell_type": "markdown",
   "id": "f2865a19",
   "metadata": {},
   "source": [
    "# Model7"
   ]
  },
  {
   "cell_type": "markdown",
   "id": "a40aaf64",
   "metadata": {},
   "source": [
    "# Learning rate is changed from .0001 -> .001 . Epochs 30 -> 20."
   ]
  },
  {
   "cell_type": "code",
   "execution_count": 100,
   "id": "aa7fe8bf",
   "metadata": {},
   "outputs": [
    {
     "name": "stdout",
     "output_type": "stream",
     "text": [
      "Model: \"sequential_31\"\n",
      "_________________________________________________________________\n",
      " Layer (type)                Output Shape              Param #   \n",
      "=================================================================\n",
      " embedding_31 (Embedding)    (None, 1, 384)            192000    \n",
      "                                                                 \n",
      " conv1d_40 (Conv1D)          (None, 1, 128)            1572992   \n",
      "                                                                 \n",
      " lstm_18 (LSTM)              (None, 1, 128)            131584    \n",
      "                                                                 \n",
      " lstm_19 (LSTM)              (None, 128)               131584    \n",
      "                                                                 \n",
      " dense_46 (Dense)            (None, 64)                8256      \n",
      "                                                                 \n",
      " dense_47 (Dense)            (None, 32)                2080      \n",
      "                                                                 \n",
      " dense_48 (Dense)            (None, 1)                 33        \n",
      "                                                                 \n",
      "=================================================================\n",
      "Total params: 2,038,529\n",
      "Trainable params: 2,038,529\n",
      "Non-trainable params: 0\n",
      "_________________________________________________________________\n"
     ]
    }
   ],
   "source": [
    "model7 = Sequential()\n",
    "\n",
    "model7.add(Embedding(input_dim=len(embeddings), output_dim=embeddings.shape[1], input_length=1, weights=[embeddings], trainable=True))\n",
    "\n",
    "model7.add(Conv1D(128, 32, padding='same', activation=tf.keras.layers.LeakyReLU(alpha=.1)))\n",
    "\n",
    "\n",
    "model7.add(LSTM(128, return_sequences=True))\n",
    "model7.add(LSTM(128))\n",
    "\n",
    "model7.add(Dense(64, activation='relu'))\n",
    "model7.add(Dense(32, activation='relu'))\n",
    "model7.add(Dense(1, activation='sigmoid'))\n",
    "\n",
    "\n",
    "model7.compile(optimizer=Adam(learning_rate=.001), loss='binary_crossentropy', metrics=['accuracy'])\n",
    "\n",
    "model7.summary()"
   ]
  },
  {
   "cell_type": "code",
   "execution_count": 101,
   "id": "4b5996ca",
   "metadata": {},
   "outputs": [
    {
     "name": "stdout",
     "output_type": "stream",
     "text": [
      "Epoch 1/20\n",
      "10/10 - 4s - loss: 0.6933 - accuracy: 0.4633 - 4s/epoch - 392ms/step\n",
      "Epoch 2/20\n",
      "10/10 - 1s - loss: 0.6921 - accuracy: 0.7367 - 1s/epoch - 102ms/step\n",
      "Epoch 3/20\n",
      "10/10 - 1s - loss: 0.6756 - accuracy: 0.8467 - 899ms/epoch - 90ms/step\n",
      "Epoch 4/20\n",
      "10/10 - 1s - loss: 0.5370 - accuracy: 0.9433 - 886ms/epoch - 89ms/step\n",
      "Epoch 5/20\n",
      "10/10 - 1s - loss: 0.1492 - accuracy: 0.9867 - 895ms/epoch - 90ms/step\n",
      "Epoch 6/20\n",
      "10/10 - 1s - loss: 0.0021 - accuracy: 1.0000 - 1s/epoch - 104ms/step\n",
      "Epoch 7/20\n",
      "10/10 - 1s - loss: 3.1276e-05 - accuracy: 1.0000 - 899ms/epoch - 90ms/step\n",
      "Epoch 8/20\n",
      "10/10 - 1s - loss: 3.6642e-06 - accuracy: 1.0000 - 892ms/epoch - 89ms/step\n",
      "Epoch 9/20\n",
      "10/10 - 1s - loss: 1.7805e-06 - accuracy: 1.0000 - 891ms/epoch - 89ms/step\n",
      "Epoch 10/20\n",
      "10/10 - 1s - loss: 1.3077e-06 - accuracy: 1.0000 - 889ms/epoch - 89ms/step\n",
      "Epoch 11/20\n",
      "10/10 - 1s - loss: 1.1732e-06 - accuracy: 1.0000 - 898ms/epoch - 90ms/step\n",
      "Epoch 12/20\n",
      "10/10 - 1s - loss: 1.1135e-06 - accuracy: 1.0000 - 907ms/epoch - 91ms/step\n",
      "Epoch 13/20\n",
      "10/10 - 1s - loss: 1.0842e-06 - accuracy: 1.0000 - 922ms/epoch - 92ms/step\n",
      "Epoch 14/20\n",
      "10/10 - 1s - loss: 1.0634e-06 - accuracy: 1.0000 - 888ms/epoch - 89ms/step\n",
      "Epoch 15/20\n",
      "10/10 - 1s - loss: 1.0465e-06 - accuracy: 1.0000 - 888ms/epoch - 89ms/step\n",
      "Epoch 16/20\n",
      "10/10 - 1s - loss: 1.0308e-06 - accuracy: 1.0000 - 979ms/epoch - 98ms/step\n",
      "Epoch 17/20\n",
      "10/10 - 1s - loss: 1.0148e-06 - accuracy: 1.0000 - 890ms/epoch - 89ms/step\n",
      "Epoch 18/20\n",
      "10/10 - 1s - loss: 9.9985e-07 - accuracy: 1.0000 - 896ms/epoch - 90ms/step\n",
      "Epoch 19/20\n",
      "10/10 - 1s - loss: 9.8474e-07 - accuracy: 1.0000 - 888ms/epoch - 89ms/step\n",
      "Epoch 20/20\n",
      "10/10 - 1s - loss: 9.6879e-07 - accuracy: 1.0000 - 1s/epoch - 102ms/step\n"
     ]
    },
    {
     "data": {
      "text/plain": [
       "<keras.callbacks.History at 0x7f83c3ceeca0>"
      ]
     },
     "execution_count": 101,
     "metadata": {},
     "output_type": "execute_result"
    }
   ],
   "source": [
    "model7.fit(x_train, y_train.tolist(), epochs=20, batch_size=32, verbose=2)"
   ]
  },
  {
   "cell_type": "code",
   "execution_count": 102,
   "id": "813f7ac4",
   "metadata": {},
   "outputs": [
    {
     "name": "stdout",
     "output_type": "stream",
     "text": [
      "7/7 [==============================] - 1s 4ms/step\n",
      "              precision    recall  f1-score   support\n",
      "\n",
      "           0       0.57      0.91      0.70       100\n",
      "           1       0.78      0.32      0.45       100\n",
      "\n",
      "    accuracy                           0.61       200\n",
      "   macro avg       0.68      0.61      0.58       200\n",
      "weighted avg       0.68      0.61      0.58       200\n",
      "\n"
     ]
    }
   ],
   "source": [
    "y_pred = model7.predict(x_test)\n",
    "ypred = y_pred.reshape(len(y_pred), )\n",
    "y_pred = np.round(y_pred)\n",
    "print(classification_report(y_test, y_pred))"
   ]
  },
  {
   "cell_type": "markdown",
   "id": "6fbf08f9",
   "metadata": {},
   "source": [
    "# Results are better but are not satisfactory."
   ]
  },
  {
   "cell_type": "code",
   "execution_count": null,
   "id": "126fcbde",
   "metadata": {},
   "outputs": [],
   "source": []
  },
  {
   "cell_type": "markdown",
   "id": "bdf2297c",
   "metadata": {},
   "source": [
    "# Model8"
   ]
  },
  {
   "cell_type": "markdown",
   "id": "58e5ff8b",
   "metadata": {},
   "source": [
    "# Again, we will add more CNN layers"
   ]
  },
  {
   "cell_type": "code",
   "execution_count": 107,
   "id": "11168237",
   "metadata": {},
   "outputs": [
    {
     "name": "stdout",
     "output_type": "stream",
     "text": [
      "Model: \"sequential_33\"\n",
      "_________________________________________________________________\n",
      " Layer (type)                Output Shape              Param #   \n",
      "=================================================================\n",
      " embedding_33 (Embedding)    (None, 1, 384)            192000    \n",
      "                                                                 \n",
      " conv1d_44 (Conv1D)          (None, 1, 128)            1572992   \n",
      "                                                                 \n",
      " conv1d_45 (Conv1D)          (None, 1, 128)            524416    \n",
      "                                                                 \n",
      " conv1d_46 (Conv1D)          (None, 1, 128)            524416    \n",
      "                                                                 \n",
      " lstm_22 (LSTM)              (None, 1, 128)            131584    \n",
      "                                                                 \n",
      " lstm_23 (LSTM)              (None, 128)               131584    \n",
      "                                                                 \n",
      " dense_52 (Dense)            (None, 64)                8256      \n",
      "                                                                 \n",
      " dense_53 (Dense)            (None, 32)                2080      \n",
      "                                                                 \n",
      " dense_54 (Dense)            (None, 1)                 33        \n",
      "                                                                 \n",
      "=================================================================\n",
      "Total params: 3,087,361\n",
      "Trainable params: 3,087,361\n",
      "Non-trainable params: 0\n",
      "_________________________________________________________________\n"
     ]
    }
   ],
   "source": [
    "model8 = Sequential()\n",
    "\n",
    "model8.add(Embedding(input_dim=len(embeddings), output_dim=embeddings.shape[1], input_length=1, weights=[embeddings], trainable=True))\n",
    "\n",
    "model8.add(Conv1D(128, 32, padding='same', activation=tf.keras.layers.LeakyReLU(alpha=.1)))\n",
    "model8.add(Conv1D(128, 32, padding='same', activation=tf.keras.layers.LeakyReLU(alpha=.1)))\n",
    "model8.add(Conv1D(128, 32, padding='same', activation=tf.keras.layers.LeakyReLU(alpha=.1)))\n",
    "\n",
    "\n",
    "model8.add(LSTM(128, return_sequences=True))\n",
    "model8.add(LSTM(128))\n",
    "\n",
    "model8.add(Dense(64, activation='relu'))\n",
    "model8.add(Dense(32, activation='relu'))\n",
    "model8.add(Dense(1, activation='sigmoid'))\n",
    "\n",
    "\n",
    "model8.compile(optimizer=Adam(learning_rate=.001), loss='binary_crossentropy', metrics=['accuracy'])\n",
    "\n",
    "model8.summary()"
   ]
  },
  {
   "cell_type": "code",
   "execution_count": 108,
   "id": "6570162c",
   "metadata": {},
   "outputs": [
    {
     "name": "stdout",
     "output_type": "stream",
     "text": [
      "Epoch 1/20\n",
      "10/10 - 22s - loss: 0.6934 - accuracy: 0.5000 - 22s/epoch - 2s/step\n",
      "Epoch 2/20\n",
      "10/10 - 1s - loss: 0.6932 - accuracy: 0.5000 - 1s/epoch - 142ms/step\n",
      "Epoch 3/20\n",
      "10/10 - 1s - loss: 0.6934 - accuracy: 0.4800 - 1s/epoch - 141ms/step\n",
      "Epoch 4/20\n",
      "10/10 - 1s - loss: 0.6932 - accuracy: 0.5000 - 1s/epoch - 143ms/step\n",
      "Epoch 5/20\n",
      "10/10 - 1s - loss: 0.6932 - accuracy: 0.5000 - 1s/epoch - 142ms/step\n",
      "Epoch 6/20\n",
      "10/10 - 1s - loss: 0.6932 - accuracy: 0.5000 - 1s/epoch - 142ms/step\n",
      "Epoch 7/20\n",
      "10/10 - 1s - loss: 0.6932 - accuracy: 0.5333 - 1s/epoch - 144ms/step\n",
      "Epoch 8/20\n",
      "10/10 - 1s - loss: 0.6803 - accuracy: 0.7933 - 1s/epoch - 144ms/step\n",
      "Epoch 9/20\n",
      "10/10 - 1s - loss: 0.4031 - accuracy: 0.9533 - 1s/epoch - 144ms/step\n",
      "Epoch 10/20\n",
      "10/10 - 1s - loss: 0.0757 - accuracy: 0.9900 - 1s/epoch - 143ms/step\n",
      "Epoch 11/20\n",
      "10/10 - 1s - loss: 3.7930e-04 - accuracy: 1.0000 - 1s/epoch - 139ms/step\n",
      "Epoch 12/20\n",
      "10/10 - 1s - loss: 2.4813e-06 - accuracy: 1.0000 - 1s/epoch - 142ms/step\n",
      "Epoch 13/20\n",
      "10/10 - 2s - loss: 9.8483e-07 - accuracy: 1.0000 - 2s/epoch - 156ms/step\n",
      "Epoch 14/20\n",
      "10/10 - 2s - loss: 7.5398e-07 - accuracy: 1.0000 - 2s/epoch - 155ms/step\n",
      "Epoch 15/20\n",
      "10/10 - 1s - loss: 5.9669e-07 - accuracy: 1.0000 - 1s/epoch - 142ms/step\n",
      "Epoch 16/20\n",
      "10/10 - 1s - loss: 4.8515e-07 - accuracy: 1.0000 - 1s/epoch - 142ms/step\n",
      "Epoch 17/20\n",
      "10/10 - 1s - loss: 4.0549e-07 - accuracy: 1.0000 - 1s/epoch - 141ms/step\n",
      "Epoch 18/20\n",
      "10/10 - 1s - loss: 3.4525e-07 - accuracy: 1.0000 - 1s/epoch - 142ms/step\n",
      "Epoch 19/20\n",
      "10/10 - 1s - loss: 3.0178e-07 - accuracy: 1.0000 - 1s/epoch - 144ms/step\n",
      "Epoch 20/20\n",
      "10/10 - 1s - loss: 2.6810e-07 - accuracy: 1.0000 - 1s/epoch - 142ms/step\n"
     ]
    },
    {
     "data": {
      "text/plain": [
       "<keras.callbacks.History at 0x7f83c146c940>"
      ]
     },
     "execution_count": 108,
     "metadata": {},
     "output_type": "execute_result"
    }
   ],
   "source": [
    "model8.fit(x_train, y_train.tolist(), epochs=20, batch_size=32, verbose=2)"
   ]
  },
  {
   "cell_type": "code",
   "execution_count": 109,
   "id": "09d3e066",
   "metadata": {},
   "outputs": [
    {
     "name": "stdout",
     "output_type": "stream",
     "text": [
      "7/7 [==============================] - 1s 5ms/step\n",
      "              precision    recall  f1-score   support\n",
      "\n",
      "           0       0.59      0.64      0.62       100\n",
      "           1       0.61      0.56      0.58       100\n",
      "\n",
      "    accuracy                           0.60       200\n",
      "   macro avg       0.60      0.60      0.60       200\n",
      "weighted avg       0.60      0.60      0.60       200\n",
      "\n"
     ]
    }
   ],
   "source": [
    "y_pred = model8.predict(x_test)\n",
    "ypred = y_pred.reshape(len(y_pred), )\n",
    "y_pred = np.round(y_pred)\n",
    "print(classification_report(y_test, y_pred))"
   ]
  },
  {
   "cell_type": "markdown",
   "id": "0818cbaa",
   "metadata": {},
   "source": [
    "# Again, no improvements with more CNN, despite higher learning rate."
   ]
  },
  {
   "cell_type": "code",
   "execution_count": null,
   "id": "e89f897e",
   "metadata": {},
   "outputs": [],
   "source": []
  },
  {
   "cell_type": "markdown",
   "id": "80bfbbaf",
   "metadata": {},
   "source": [
    "# Model9"
   ]
  },
  {
   "cell_type": "markdown",
   "id": "2ed56919",
   "metadata": {},
   "source": [
    "# The same model as before, but smaller batch_size 32 -> 16"
   ]
  },
  {
   "cell_type": "code",
   "execution_count": 110,
   "id": "ea164fc4",
   "metadata": {},
   "outputs": [
    {
     "name": "stdout",
     "output_type": "stream",
     "text": [
      "Model: \"sequential_34\"\n",
      "_________________________________________________________________\n",
      " Layer (type)                Output Shape              Param #   \n",
      "=================================================================\n",
      " embedding_34 (Embedding)    (None, 1, 384)            192000    \n",
      "                                                                 \n",
      " conv1d_47 (Conv1D)          (None, 1, 128)            1572992   \n",
      "                                                                 \n",
      " lstm_24 (LSTM)              (None, 1, 128)            131584    \n",
      "                                                                 \n",
      " lstm_25 (LSTM)              (None, 128)               131584    \n",
      "                                                                 \n",
      " dense_55 (Dense)            (None, 64)                8256      \n",
      "                                                                 \n",
      " dense_56 (Dense)            (None, 32)                2080      \n",
      "                                                                 \n",
      " dense_57 (Dense)            (None, 1)                 33        \n",
      "                                                                 \n",
      "=================================================================\n",
      "Total params: 2,038,529\n",
      "Trainable params: 2,038,529\n",
      "Non-trainable params: 0\n",
      "_________________________________________________________________\n"
     ]
    }
   ],
   "source": [
    "model9 = Sequential()\n",
    "\n",
    "model9.add(Embedding(input_dim=len(embeddings), output_dim=embeddings.shape[1], input_length=1, weights=[embeddings], trainable=True))\n",
    "\n",
    "model9.add(Conv1D(128, 32, padding='same', activation=tf.keras.layers.LeakyReLU(alpha=.1)))\n",
    "\n",
    "\n",
    "model9.add(LSTM(128, return_sequences=True))\n",
    "model9.add(LSTM(128))\n",
    "\n",
    "model9.add(Dense(64, activation='relu'))\n",
    "model9.add(Dense(32, activation='relu'))\n",
    "model9.add(Dense(1, activation='sigmoid'))\n",
    "\n",
    "\n",
    "model9.compile(optimizer=Adam(learning_rate=.001), loss='binary_crossentropy', metrics=['accuracy'])\n",
    "\n",
    "model9.summary()"
   ]
  },
  {
   "cell_type": "code",
   "execution_count": 111,
   "id": "66d4c364",
   "metadata": {},
   "outputs": [
    {
     "name": "stdout",
     "output_type": "stream",
     "text": [
      "Epoch 1/20\n",
      "19/19 - 4s - loss: 0.6932 - accuracy: 0.4667 - 4s/epoch - 232ms/step\n",
      "Epoch 2/20\n",
      "19/19 - 1s - loss: 0.6925 - accuracy: 0.6467 - 1s/epoch - 56ms/step\n",
      "Epoch 3/20\n",
      "19/19 - 1s - loss: 0.6479 - accuracy: 0.7867 - 1s/epoch - 58ms/step\n",
      "Epoch 4/20\n",
      "19/19 - 1s - loss: 0.2869 - accuracy: 0.9533 - 1s/epoch - 55ms/step\n",
      "Epoch 5/20\n",
      "19/19 - 1s - loss: 0.0057 - accuracy: 1.0000 - 1s/epoch - 61ms/step\n",
      "Epoch 6/20\n",
      "19/19 - 1s - loss: 5.0337e-05 - accuracy: 1.0000 - 1s/epoch - 53ms/step\n",
      "Epoch 7/20\n",
      "19/19 - 1s - loss: 2.9441e-05 - accuracy: 1.0000 - 1s/epoch - 55ms/step\n",
      "Epoch 8/20\n",
      "19/19 - 1s - loss: 2.2181e-05 - accuracy: 1.0000 - 1s/epoch - 60ms/step\n",
      "Epoch 9/20\n",
      "19/19 - 1s - loss: 1.7437e-05 - accuracy: 1.0000 - 1s/epoch - 54ms/step\n",
      "Epoch 10/20\n",
      "19/19 - 1s - loss: 1.3864e-05 - accuracy: 1.0000 - 999ms/epoch - 53ms/step\n",
      "Epoch 11/20\n",
      "19/19 - 1s - loss: 1.1207e-05 - accuracy: 1.0000 - 1s/epoch - 53ms/step\n",
      "Epoch 12/20\n",
      "19/19 - 1s - loss: 8.9649e-06 - accuracy: 1.0000 - 1s/epoch - 57ms/step\n",
      "Epoch 13/20\n",
      "19/19 - 1s - loss: 7.3422e-06 - accuracy: 1.0000 - 1s/epoch - 60ms/step\n",
      "Epoch 14/20\n",
      "19/19 - 1s - loss: 6.0905e-06 - accuracy: 1.0000 - 997ms/epoch - 52ms/step\n",
      "Epoch 15/20\n",
      "19/19 - 1s - loss: 5.0854e-06 - accuracy: 1.0000 - 981ms/epoch - 52ms/step\n",
      "Epoch 16/20\n",
      "19/19 - 1s - loss: 4.2976e-06 - accuracy: 1.0000 - 1s/epoch - 56ms/step\n",
      "Epoch 17/20\n",
      "19/19 - 1s - loss: 3.6507e-06 - accuracy: 1.0000 - 985ms/epoch - 52ms/step\n",
      "Epoch 18/20\n",
      "19/19 - 1s - loss: 3.1328e-06 - accuracy: 1.0000 - 988ms/epoch - 52ms/step\n",
      "Epoch 19/20\n",
      "19/19 - 1s - loss: 2.7133e-06 - accuracy: 1.0000 - 984ms/epoch - 52ms/step\n",
      "Epoch 20/20\n",
      "19/19 - 1s - loss: 2.3871e-06 - accuracy: 1.0000 - 993ms/epoch - 52ms/step\n"
     ]
    },
    {
     "data": {
      "text/plain": [
       "<keras.callbacks.History at 0x7f83c3d61970>"
      ]
     },
     "execution_count": 111,
     "metadata": {},
     "output_type": "execute_result"
    }
   ],
   "source": [
    "model9.fit(x_train, y_train.tolist(), epochs=20, batch_size=16, verbose=2)"
   ]
  },
  {
   "cell_type": "code",
   "execution_count": 112,
   "id": "adc8a882",
   "metadata": {},
   "outputs": [
    {
     "name": "stdout",
     "output_type": "stream",
     "text": [
      "7/7 [==============================] - 1s 4ms/step\n",
      "              precision    recall  f1-score   support\n",
      "\n",
      "           0       0.54      0.90      0.68       100\n",
      "           1       0.71      0.24      0.36       100\n",
      "\n",
      "    accuracy                           0.57       200\n",
      "   macro avg       0.62      0.57      0.52       200\n",
      "weighted avg       0.62      0.57      0.52       200\n",
      "\n"
     ]
    }
   ],
   "source": [
    "y_pred = model9.predict(x_test)\n",
    "ypred = y_pred.reshape(len(y_pred), )\n",
    "y_pred = np.round(y_pred)\n",
    "print(classification_report(y_test, y_pred))"
   ]
  },
  {
   "cell_type": "markdown",
   "id": "2c0433f3",
   "metadata": {},
   "source": [
    "# More or less the same."
   ]
  },
  {
   "cell_type": "code",
   "execution_count": null,
   "id": "52879bb5",
   "metadata": {},
   "outputs": [],
   "source": []
  }
 ],
 "metadata": {
  "kernelspec": {
   "display_name": "Python 3 (ipykernel)",
   "language": "python",
   "name": "python3"
  },
  "language_info": {
   "codemirror_mode": {
    "name": "ipython",
    "version": 3
   },
   "file_extension": ".py",
   "mimetype": "text/x-python",
   "name": "python",
   "nbconvert_exporter": "python",
   "pygments_lexer": "ipython3",
   "version": "3.8.10"
  }
 },
 "nbformat": 4,
 "nbformat_minor": 5
}
