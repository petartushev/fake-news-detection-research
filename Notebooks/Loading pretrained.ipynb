{
 "cells": [
  {
   "cell_type": "code",
   "execution_count": 1,
   "id": "16f18249",
   "metadata": {},
   "outputs": [
    {
     "name": "stderr",
     "output_type": "stream",
     "text": [
      "2022-07-19 15:10:09.681994: I tensorflow/stream_executor/cuda/cuda_gpu_executor.cc:975] successful NUMA node read from SysFS had negative value (-1), but there must be at least one NUMA node, so returning NUMA node zero\n",
      "2022-07-19 15:10:10.709048: I tensorflow/stream_executor/cuda/cuda_gpu_executor.cc:975] successful NUMA node read from SysFS had negative value (-1), but there must be at least one NUMA node, so returning NUMA node zero\n",
      "2022-07-19 15:10:10.709432: I tensorflow/stream_executor/cuda/cuda_gpu_executor.cc:975] successful NUMA node read from SysFS had negative value (-1), but there must be at least one NUMA node, so returning NUMA node zero\n",
      "2022-07-19 15:10:10.734884: I tensorflow/core/platform/cpu_feature_guard.cc:193] This TensorFlow binary is optimized with oneAPI Deep Neural Network Library (oneDNN) to use the following CPU instructions in performance-critical operations:  AVX2 FMA\n",
      "To enable them in other operations, rebuild TensorFlow with the appropriate compiler flags.\n",
      "2022-07-19 15:10:10.775873: I tensorflow/stream_executor/cuda/cuda_gpu_executor.cc:975] successful NUMA node read from SysFS had negative value (-1), but there must be at least one NUMA node, so returning NUMA node zero\n",
      "2022-07-19 15:10:10.776238: I tensorflow/stream_executor/cuda/cuda_gpu_executor.cc:975] successful NUMA node read from SysFS had negative value (-1), but there must be at least one NUMA node, so returning NUMA node zero\n",
      "2022-07-19 15:10:10.776496: I tensorflow/stream_executor/cuda/cuda_gpu_executor.cc:975] successful NUMA node read from SysFS had negative value (-1), but there must be at least one NUMA node, so returning NUMA node zero\n",
      "2022-07-19 15:10:22.138966: I tensorflow/stream_executor/cuda/cuda_gpu_executor.cc:975] successful NUMA node read from SysFS had negative value (-1), but there must be at least one NUMA node, so returning NUMA node zero\n",
      "2022-07-19 15:10:22.139482: I tensorflow/stream_executor/cuda/cuda_gpu_executor.cc:975] successful NUMA node read from SysFS had negative value (-1), but there must be at least one NUMA node, so returning NUMA node zero\n",
      "2022-07-19 15:10:22.139848: I tensorflow/stream_executor/cuda/cuda_gpu_executor.cc:975] successful NUMA node read from SysFS had negative value (-1), but there must be at least one NUMA node, so returning NUMA node zero\n",
      "2022-07-19 15:10:22.140080: I tensorflow/core/common_runtime/gpu/gpu_device.cc:1532] Created device /job:localhost/replica:0/task:0/device:GPU:0 with 2743 MB memory:  -> device: 0, name: NVIDIA GeForce GTX 1050, pci bus id: 0000:01:00.0, compute capability: 6.1\n"
     ]
    }
   ],
   "source": [
    "import os\n",
    "import numpy as np\n",
    "import pandas as pd\n",
    "import pickle\n",
    "\n",
    "import tensorflow as tf\n",
    "from tensorflow.keras.models import Model\n",
    "from tensorflow.keras.layers import Input, Dense, Flatten\n",
    "from transformers import DistilBertTokenizer, TFDistilBertModel, TFBertModel, BertTokenizer, AutoModel, AutoTokenizer\n",
    "\n",
    "from sklearn.metrics import classification_report"
   ]
  },
  {
   "cell_type": "markdown",
   "id": "7f61ce42",
   "metadata": {},
   "source": [
    "# Loading and preprocessing data"
   ]
  },
  {
   "cell_type": "code",
   "execution_count": 2,
   "id": "85014b49",
   "metadata": {},
   "outputs": [],
   "source": [
    "path = '/home/petar/Fakultet/Semester 7/NLP/Datasets/fake_news/'"
   ]
  },
  {
   "cell_type": "code",
   "execution_count": 3,
   "id": "cdaf2e04",
   "metadata": {},
   "outputs": [],
   "source": [
    "train = pd.read_csv(path + 'full_train_df.csv', index_col=0)\n",
    "test = pd.read_csv(path + 'full_test_df.csv', index_col=0)"
   ]
  },
  {
   "cell_type": "code",
   "execution_count": 4,
   "id": "82dba3f8",
   "metadata": {},
   "outputs": [],
   "source": [
    "x_train = train['tweet'].copy()\n",
    "y_train = train['label'].copy()\n",
    "\n",
    "x_test = test['tweet'].copy()\n",
    "y_test = test['label'].copy()"
   ]
  },
  {
   "cell_type": "code",
   "execution_count": 15,
   "id": "11c00b51",
   "metadata": {},
   "outputs": [],
   "source": [
    "test_input_ids, test_attention_masks, test_outputs = [], [], []"
   ]
  },
  {
   "cell_type": "code",
   "execution_count": 9,
   "id": "a7325752",
   "metadata": {},
   "outputs": [],
   "source": [
    "bt = BertTokenizer.from_pretrained('bert-base-uncased')"
   ]
  },
  {
   "cell_type": "code",
   "execution_count": 16,
   "id": "c5db3bee",
   "metadata": {},
   "outputs": [],
   "source": [
    "for sentence, label in zip(x_test, y_test):\n",
    "    \n",
    "    sentence_tokens = bt.encode_plus(sentence, max_length=240, padding='max_length', truncation=True)\n",
    "    \n",
    "    test_input_ids.append(sentence_tokens['input_ids'])\n",
    "    test_attention_masks.append(sentence_tokens['attention_mask'])\n",
    "    test_outputs.append(label)"
   ]
  },
  {
   "cell_type": "markdown",
   "id": "25b2c8ea",
   "metadata": {},
   "source": [
    "# Trial"
   ]
  },
  {
   "cell_type": "markdown",
   "id": "0821fe41",
   "metadata": {},
   "source": [
    "# Predicting on an unsaved integrated model"
   ]
  },
  {
   "cell_type": "code",
   "execution_count": 6,
   "id": "36dbc5c7",
   "metadata": {},
   "outputs": [],
   "source": [
    "bt = DistilBertTokenizer.from_pretrained('distilbert-base-uncased')"
   ]
  },
  {
   "cell_type": "code",
   "execution_count": 25,
   "id": "a6683ee6",
   "metadata": {},
   "outputs": [
    {
     "name": "stderr",
     "output_type": "stream",
     "text": [
      "Some layers from the model checkpoint at distilbert-base-uncased were not used when initializing TFDistilBertModel: ['activation_13', 'vocab_projector', 'vocab_transform', 'vocab_layer_norm']\n",
      "- This IS expected if you are initializing TFDistilBertModel from the checkpoint of a model trained on another task or with another architecture (e.g. initializing a BertForSequenceClassification model from a BertForPreTraining model).\n",
      "- This IS NOT expected if you are initializing TFDistilBertModel from the checkpoint of a model that you expect to be exactly identical (initializing a BertForSequenceClassification model from a BertForSequenceClassification model).\n",
      "All the layers of TFDistilBertModel were initialized from the model checkpoint at distilbert-base-uncased.\n",
      "If your task is similar to the task the model of the checkpoint was trained on, you can already use TFDistilBertModel for predictions without further training.\n"
     ]
    }
   ],
   "source": [
    "distilbert_base_uncased = TFDistilBertModel.from_pretrained('distilbert-base-uncased')\n",
    "\n",
    "input_ids = Input(shape=(100,), name='input_ids', dtype='int32')\n",
    "att_masks = Input(shape=(100,), name='masked_tokens', dtype='int32')\n",
    "\n",
    "bert_in = distilbert_base_uncased(input_ids, attention_mask=att_masks)[0]\n",
    "\n",
    "dense_1 = Dense(8, name='dense_1', activation=tf.keras.layers.LeakyReLU(alpha=.1))(bert_in)\n",
    "\n",
    "flatten = Flatten()(dense_1)\n",
    "\n",
    "out = Dense(1, name='output', activation='sigmoid')(flatten)\n",
    "\n",
    "distilbert_base_model2 = Model(inputs=[input_ids, att_masks], outputs=[out])\n",
    "\n",
    "distilbert_base_model2.compile(optimizer='adam', loss='binary_crossentropy', metrics=['accuracy'], run_eagerly=True)"
   ]
  },
  {
   "cell_type": "code",
   "execution_count": 26,
   "id": "eeebf8a4",
   "metadata": {},
   "outputs": [
    {
     "name": "stdout",
     "output_type": "stream",
     "text": [
      "Model: \"model_4\"\n",
      "__________________________________________________________________________________________________\n",
      " Layer (type)                   Output Shape         Param #     Connected to                     \n",
      "==================================================================================================\n",
      " input_ids (InputLayer)         [(None, 100)]        0           []                               \n",
      "                                                                                                  \n",
      " masked_tokens (InputLayer)     [(None, 100)]        0           []                               \n",
      "                                                                                                  \n",
      " tf_distil_bert_model_4 (TFDist  TFBaseModelOutput(l  66362880   ['input_ids[0][0]',              \n",
      " ilBertModel)                   ast_hidden_state=(N               'masked_tokens[0][0]']          \n",
      "                                one, 100, 768),                                                   \n",
      "                                 hidden_states=None                                               \n",
      "                                , attentions=None)                                                \n",
      "                                                                                                  \n",
      " dense_1 (Dense)                (None, 100, 8)       6152        ['tf_distil_bert_model_4[0][0]'] \n",
      "                                                                                                  \n",
      " flatten_4 (Flatten)            (None, 800)          0           ['dense_1[0][0]']                \n",
      "                                                                                                  \n",
      " output (Dense)                 (None, 1)            801         ['flatten_4[0][0]']              \n",
      "                                                                                                  \n",
      "==================================================================================================\n",
      "Total params: 66,369,833\n",
      "Trainable params: 66,369,833\n",
      "Non-trainable params: 0\n",
      "__________________________________________________________________________________________________\n"
     ]
    }
   ],
   "source": [
    "distilbert_base_model2.summary()"
   ]
  },
  {
   "cell_type": "code",
   "execution_count": 41,
   "id": "684ed20c",
   "metadata": {},
   "outputs": [],
   "source": [
    "tmp_test_input_ids = test_input_ids[:20]\n",
    "tmp_test_attention_masks = test_attention_masks[:20]"
   ]
  },
  {
   "cell_type": "code",
   "execution_count": 26,
   "id": "2b38791a",
   "metadata": {
    "scrolled": false
   },
   "outputs": [
    {
     "name": "stdout",
     "output_type": "stream",
     "text": [
      "1/1 [==============================] - 0s 426ms/step\n"
     ]
    }
   ],
   "source": [
    "pred = distilbert_base_model2.predict(x=[np.array(tmp_test_input_ids), np.array(tmp_test_attention_masks)])"
   ]
  },
  {
   "cell_type": "code",
   "execution_count": 29,
   "id": "4af69e6c",
   "metadata": {},
   "outputs": [],
   "source": [
    "tmp_test_outputs = test_outputs[:20]"
   ]
  },
  {
   "cell_type": "code",
   "execution_count": 31,
   "id": "7ae39e10",
   "metadata": {},
   "outputs": [],
   "source": [
    "pred = pred.round()"
   ]
  },
  {
   "cell_type": "code",
   "execution_count": 37,
   "id": "471d5b18",
   "metadata": {},
   "outputs": [
    {
     "name": "stdout",
     "output_type": "stream",
     "text": [
      "              precision    recall  f1-score   support\n",
      "\n",
      "         0.0       0.65      1.00      0.79        13\n",
      "         1.0       0.00      0.00      0.00         7\n",
      "\n",
      "    accuracy                           0.65        20\n",
      "   macro avg       0.33      0.50      0.39        20\n",
      "weighted avg       0.42      0.65      0.51        20\n",
      "\n"
     ]
    },
    {
     "name": "stderr",
     "output_type": "stream",
     "text": [
      "/home/petar/jupyter/lib/python3.8/site-packages/sklearn/metrics/_classification.py:1327: UndefinedMetricWarning: Precision and F-score are ill-defined and being set to 0.0 in labels with no predicted samples. Use `zero_division` parameter to control this behavior.\n",
      "  _warn_prf(average, modifier, msg_start, len(result))\n",
      "/home/petar/jupyter/lib/python3.8/site-packages/sklearn/metrics/_classification.py:1327: UndefinedMetricWarning: Precision and F-score are ill-defined and being set to 0.0 in labels with no predicted samples. Use `zero_division` parameter to control this behavior.\n",
      "  _warn_prf(average, modifier, msg_start, len(result))\n",
      "/home/petar/jupyter/lib/python3.8/site-packages/sklearn/metrics/_classification.py:1327: UndefinedMetricWarning: Precision and F-score are ill-defined and being set to 0.0 in labels with no predicted samples. Use `zero_division` parameter to control this behavior.\n",
      "  _warn_prf(average, modifier, msg_start, len(result))\n"
     ]
    }
   ],
   "source": [
    "print(classification_report(pred, tmp_test_outputs))"
   ]
  },
  {
   "cell_type": "markdown",
   "id": "d219f332",
   "metadata": {},
   "source": [
    "# Predicting on a saved integrated model"
   ]
  },
  {
   "cell_type": "code",
   "execution_count": 11,
   "id": "f9251ada",
   "metadata": {
    "scrolled": false
   },
   "outputs": [
    {
     "name": "stdout",
     "output_type": "stream",
     "text": [
      "WARNING:tensorflow:Skipping full serialization of Keras layer <keras.layers.regularization.dropout.Dropout object at 0x7f8e9464b9a0>, because it is not built.\n",
      "WARNING:tensorflow:Skipping full serialization of Keras layer <keras.layers.regularization.dropout.Dropout object at 0x7f8ea80271f0>, because it is not built.\n",
      "WARNING:tensorflow:Skipping full serialization of Keras layer <keras.layers.regularization.dropout.Dropout object at 0x7f8e9478b910>, because it is not built.\n",
      "WARNING:tensorflow:Skipping full serialization of Keras layer <keras.layers.regularization.dropout.Dropout object at 0x7f8e94799070>, because it is not built.\n",
      "WARNING:tensorflow:Skipping full serialization of Keras layer <keras.layers.regularization.dropout.Dropout object at 0x7f8e947a8790>, because it is not built.\n",
      "WARNING:tensorflow:Skipping full serialization of Keras layer <keras.layers.regularization.dropout.Dropout object at 0x7f8e947b2eb0>, because it is not built.\n"
     ]
    },
    {
     "name": "stderr",
     "output_type": "stream",
     "text": [
      "WARNING:absl:Found untraced functions such as leaky_re_lu_layer_call_fn, leaky_re_lu_layer_call_and_return_conditional_losses, embeddings_layer_call_fn, embeddings_layer_call_and_return_conditional_losses, transformer_layer_call_fn while saving (showing 5 of 166). These functions will not be directly callable after loading.\n"
     ]
    },
    {
     "name": "stdout",
     "output_type": "stream",
     "text": [
      "INFO:tensorflow:Assets written to: ./example_save/assets\n"
     ]
    },
    {
     "name": "stderr",
     "output_type": "stream",
     "text": [
      "INFO:tensorflow:Assets written to: ./example_save/assets\n"
     ]
    }
   ],
   "source": [
    "bt.save_pretrained('./example_save/')\n",
    "distilbert_base_model2.save('./example_save/')"
   ]
  },
  {
   "cell_type": "code",
   "execution_count": 23,
   "id": "62559cf0",
   "metadata": {},
   "outputs": [
    {
     "name": "stdout",
     "output_type": "stream",
     "text": [
      "WARNING:tensorflow:Skipping full serialization of Keras layer <keras.layers.regularization.dropout.Dropout object at 0x7f8dbb3cee80>, because it is not built.\n"
     ]
    },
    {
     "name": "stderr",
     "output_type": "stream",
     "text": [
      "WARNING:tensorflow:Skipping full serialization of Keras layer <keras.layers.regularization.dropout.Dropout object at 0x7f8dbb3cee80>, because it is not built.\n"
     ]
    },
    {
     "name": "stdout",
     "output_type": "stream",
     "text": [
      "WARNING:tensorflow:Skipping full serialization of Keras layer <keras.layers.regularization.dropout.Dropout object at 0x7f8dbbab5160>, because it is not built.\n"
     ]
    },
    {
     "name": "stderr",
     "output_type": "stream",
     "text": [
      "WARNING:tensorflow:Skipping full serialization of Keras layer <keras.layers.regularization.dropout.Dropout object at 0x7f8dbbab5160>, because it is not built.\n"
     ]
    },
    {
     "name": "stdout",
     "output_type": "stream",
     "text": [
      "WARNING:tensorflow:Skipping full serialization of Keras layer <keras.layers.regularization.dropout.Dropout object at 0x7f8dbbaa9040>, because it is not built.\n"
     ]
    },
    {
     "name": "stderr",
     "output_type": "stream",
     "text": [
      "WARNING:tensorflow:Skipping full serialization of Keras layer <keras.layers.regularization.dropout.Dropout object at 0x7f8dbbaa9040>, because it is not built.\n"
     ]
    },
    {
     "name": "stdout",
     "output_type": "stream",
     "text": [
      "WARNING:tensorflow:Skipping full serialization of Keras layer <keras.layers.regularization.dropout.Dropout object at 0x7f8dbb8ba490>, because it is not built.\n"
     ]
    },
    {
     "name": "stderr",
     "output_type": "stream",
     "text": [
      "WARNING:tensorflow:Skipping full serialization of Keras layer <keras.layers.regularization.dropout.Dropout object at 0x7f8dbb8ba490>, because it is not built.\n"
     ]
    },
    {
     "name": "stdout",
     "output_type": "stream",
     "text": [
      "WARNING:tensorflow:Skipping full serialization of Keras layer <keras.layers.regularization.dropout.Dropout object at 0x7f8dbb8a58e0>, because it is not built.\n"
     ]
    },
    {
     "name": "stderr",
     "output_type": "stream",
     "text": [
      "WARNING:tensorflow:Skipping full serialization of Keras layer <keras.layers.regularization.dropout.Dropout object at 0x7f8dbb8a58e0>, because it is not built.\n"
     ]
    },
    {
     "name": "stdout",
     "output_type": "stream",
     "text": [
      "WARNING:tensorflow:Skipping full serialization of Keras layer <keras.layers.regularization.dropout.Dropout object at 0x7f8dbb894d30>, because it is not built.\n"
     ]
    },
    {
     "name": "stderr",
     "output_type": "stream",
     "text": [
      "WARNING:tensorflow:Skipping full serialization of Keras layer <keras.layers.regularization.dropout.Dropout object at 0x7f8dbb894d30>, because it is not built.\n",
      "WARNING:absl:Found untraced functions such as leaky_re_lu_3_layer_call_fn, leaky_re_lu_3_layer_call_and_return_conditional_losses, embeddings_layer_call_fn, embeddings_layer_call_and_return_conditional_losses, transformer_layer_call_fn while saving (showing 5 of 166). These functions will not be directly callable after loading.\n"
     ]
    },
    {
     "name": "stdout",
     "output_type": "stream",
     "text": [
      "INFO:tensorflow:Assets written to: ./example_save/assets\n"
     ]
    },
    {
     "name": "stderr",
     "output_type": "stream",
     "text": [
      "INFO:tensorflow:Assets written to: ./example_save/assets\n"
     ]
    }
   ],
   "source": [
    "tf.keras.models.save_model(distilbert_base_model2, './example_save/')"
   ]
  },
  {
   "cell_type": "code",
   "execution_count": 31,
   "id": "8e17699c",
   "metadata": {},
   "outputs": [
    {
     "name": "stdout",
     "output_type": "stream",
     "text": [
      "WARNING:tensorflow:Skipping full serialization of Keras layer <keras.layers.regularization.dropout.Dropout object at 0x7f8db0ac1d30>, because it is not built.\n"
     ]
    },
    {
     "name": "stderr",
     "output_type": "stream",
     "text": [
      "WARNING:tensorflow:Skipping full serialization of Keras layer <keras.layers.regularization.dropout.Dropout object at 0x7f8db0ac1d30>, because it is not built.\n"
     ]
    },
    {
     "name": "stdout",
     "output_type": "stream",
     "text": [
      "WARNING:tensorflow:Skipping full serialization of Keras layer <keras.layers.regularization.dropout.Dropout object at 0x7f8dbabb99d0>, because it is not built.\n"
     ]
    },
    {
     "name": "stderr",
     "output_type": "stream",
     "text": [
      "WARNING:tensorflow:Skipping full serialization of Keras layer <keras.layers.regularization.dropout.Dropout object at 0x7f8dbabb99d0>, because it is not built.\n"
     ]
    },
    {
     "name": "stdout",
     "output_type": "stream",
     "text": [
      "WARNING:tensorflow:Skipping full serialization of Keras layer <keras.layers.regularization.dropout.Dropout object at 0x7f8db0abe9d0>, because it is not built.\n"
     ]
    },
    {
     "name": "stderr",
     "output_type": "stream",
     "text": [
      "WARNING:tensorflow:Skipping full serialization of Keras layer <keras.layers.regularization.dropout.Dropout object at 0x7f8db0abe9d0>, because it is not built.\n"
     ]
    },
    {
     "name": "stdout",
     "output_type": "stream",
     "text": [
      "WARNING:tensorflow:Skipping full serialization of Keras layer <keras.layers.regularization.dropout.Dropout object at 0x7f8dc0595ee0>, because it is not built.\n"
     ]
    },
    {
     "name": "stderr",
     "output_type": "stream",
     "text": [
      "WARNING:tensorflow:Skipping full serialization of Keras layer <keras.layers.regularization.dropout.Dropout object at 0x7f8dc0595ee0>, because it is not built.\n"
     ]
    },
    {
     "name": "stdout",
     "output_type": "stream",
     "text": [
      "WARNING:tensorflow:Skipping full serialization of Keras layer <keras.layers.regularization.dropout.Dropout object at 0x7f8db2363fa0>, because it is not built.\n"
     ]
    },
    {
     "name": "stderr",
     "output_type": "stream",
     "text": [
      "WARNING:tensorflow:Skipping full serialization of Keras layer <keras.layers.regularization.dropout.Dropout object at 0x7f8db2363fa0>, because it is not built.\n"
     ]
    },
    {
     "name": "stdout",
     "output_type": "stream",
     "text": [
      "WARNING:tensorflow:Skipping full serialization of Keras layer <keras.layers.regularization.dropout.Dropout object at 0x7f8dbb4647c0>, because it is not built.\n"
     ]
    },
    {
     "name": "stderr",
     "output_type": "stream",
     "text": [
      "WARNING:tensorflow:Skipping full serialization of Keras layer <keras.layers.regularization.dropout.Dropout object at 0x7f8dbb4647c0>, because it is not built.\n",
      "WARNING:absl:Found untraced functions such as leaky_re_lu_4_layer_call_fn, leaky_re_lu_4_layer_call_and_return_conditional_losses, embeddings_layer_call_fn, embeddings_layer_call_and_return_conditional_losses, transformer_layer_call_fn while saving (showing 5 of 166). These functions will not be directly callable after loading.\n"
     ]
    },
    {
     "name": "stdout",
     "output_type": "stream",
     "text": [
      "INFO:tensorflow:Assets written to: ./example_save/assets\n"
     ]
    },
    {
     "name": "stderr",
     "output_type": "stream",
     "text": [
      "INFO:tensorflow:Assets written to: ./example_save/assets\n"
     ]
    }
   ],
   "source": [
    "tf.saved_model.save(distilbert_base_model2, './example_save/')"
   ]
  },
  {
   "cell_type": "code",
   "execution_count": 37,
   "id": "32d4e0bc",
   "metadata": {},
   "outputs": [],
   "source": [
    "distilbert_base_model2.save('./example_save/distilbert_base_model2.h5')"
   ]
  },
  {
   "cell_type": "code",
   "execution_count": 39,
   "id": "868b010d",
   "metadata": {},
   "outputs": [],
   "source": [
    "model = tf.keras.models.load_model('./example_save/distilbert_base_model2.h5', custom_objects={'TFDistilBertModel': TFDistilBertModel})"
   ]
  },
  {
   "cell_type": "code",
   "execution_count": 42,
   "id": "646e3d0c",
   "metadata": {},
   "outputs": [
    {
     "name": "stdout",
     "output_type": "stream",
     "text": [
      "1/1 [==============================] - 2s 2s/step\n"
     ]
    },
    {
     "data": {
      "text/plain": [
       "array([[0.32461348],\n",
       "       [0.25297165],\n",
       "       [0.35704926],\n",
       "       [0.26863098],\n",
       "       [0.3177724 ],\n",
       "       [0.24089561],\n",
       "       [0.33566555],\n",
       "       [0.22709437],\n",
       "       [0.2577569 ],\n",
       "       [0.28885096],\n",
       "       [0.25422773],\n",
       "       [0.22825019],\n",
       "       [0.37697196],\n",
       "       [0.29535285],\n",
       "       [0.31589705],\n",
       "       [0.20709507],\n",
       "       [0.18448254],\n",
       "       [0.3311483 ],\n",
       "       [0.27977544],\n",
       "       [0.21882963]], dtype=float32)"
      ]
     },
     "execution_count": 42,
     "metadata": {},
     "output_type": "execute_result"
    }
   ],
   "source": [
    "model.predict(x=[np.array(tmp_test_input_ids), np.array(tmp_test_attention_masks)])"
   ]
  },
  {
   "cell_type": "markdown",
   "id": "f665111f",
   "metadata": {},
   "source": [
    "# Modelo mora da e zacuvan kako h5 fajl, i koga ke se loadne, mora da se predatat site klasi od transformers kako custom_object vo dict"
   ]
  },
  {
   "cell_type": "markdown",
   "id": "f80eab51",
   "metadata": {},
   "source": [
    "# Loading pretrained models"
   ]
  },
  {
   "cell_type": "code",
   "execution_count": 5,
   "id": "7b88432e",
   "metadata": {},
   "outputs": [
    {
     "name": "stdout",
     "output_type": "stream",
     "text": [
      "WARNING:tensorflow:SavedModel saved prior to TF 2.5 detected when loading Keras model. Please ensure that you are saving the model with model.save() or tf.keras.models.save_model(), *NOT* tf.saved_model.save(). To confirm, there should be a file named \"keras_metadata.pb\" in the SavedModel directory.\n"
     ]
    }
   ],
   "source": [
    "bert = tf.keras.models.load_model('./tmp/all/BERT_base', custom_objects={'TFBertModel': TFBertModel})"
   ]
  },
  {
   "cell_type": "code",
   "execution_count": 17,
   "id": "65c89ef9",
   "metadata": {},
   "outputs": [
    {
     "name": "stdout",
     "output_type": "stream",
     "text": [
      "4/4 [==============================] - 14s 1s/step\n"
     ]
    },
    {
     "data": {
      "text/plain": [
       "array([[0.68253124],\n",
       "       [0.68253124],\n",
       "       [0.68253124],\n",
       "       [0.68253124],\n",
       "       [0.68253124],\n",
       "       [0.68253124],\n",
       "       [0.68253124],\n",
       "       [0.68253124],\n",
       "       [0.68253124],\n",
       "       [0.68253124],\n",
       "       [0.68253124],\n",
       "       [0.68253124],\n",
       "       [0.68253124],\n",
       "       [0.68253124],\n",
       "       [0.68253124],\n",
       "       [0.68253124],\n",
       "       [0.68253124],\n",
       "       [0.68253124],\n",
       "       [0.68253124],\n",
       "       [0.68253124],\n",
       "       [0.68253124],\n",
       "       [0.68253124],\n",
       "       [0.68253124],\n",
       "       [0.68253124],\n",
       "       [0.68253124],\n",
       "       [0.68253124],\n",
       "       [0.68253124],\n",
       "       [0.68253124],\n",
       "       [0.68253124],\n",
       "       [0.68253124],\n",
       "       [0.68253124],\n",
       "       [0.68253124],\n",
       "       [0.68253124],\n",
       "       [0.68253124],\n",
       "       [0.68253124],\n",
       "       [0.68253124],\n",
       "       [0.68253124],\n",
       "       [0.68253124],\n",
       "       [0.68253124],\n",
       "       [0.68253124],\n",
       "       [0.68253124],\n",
       "       [0.68253124],\n",
       "       [0.68253124],\n",
       "       [0.68253124],\n",
       "       [0.68253124],\n",
       "       [0.68253124],\n",
       "       [0.68253124],\n",
       "       [0.68253124],\n",
       "       [0.68253124],\n",
       "       [0.68253124],\n",
       "       [0.68253124],\n",
       "       [0.68253124],\n",
       "       [0.68253124],\n",
       "       [0.68253124],\n",
       "       [0.68253124],\n",
       "       [0.68253124],\n",
       "       [0.68253124],\n",
       "       [0.68253124],\n",
       "       [0.68253124],\n",
       "       [0.68253124],\n",
       "       [0.68253124],\n",
       "       [0.68253124],\n",
       "       [0.68253124],\n",
       "       [0.68253124],\n",
       "       [0.68253124],\n",
       "       [0.68253124],\n",
       "       [0.68253124],\n",
       "       [0.68253124],\n",
       "       [0.68253124],\n",
       "       [0.68253124],\n",
       "       [0.68253124],\n",
       "       [0.68253124],\n",
       "       [0.68253124],\n",
       "       [0.68253124],\n",
       "       [0.68253124],\n",
       "       [0.68253124],\n",
       "       [0.68253124],\n",
       "       [0.68253124],\n",
       "       [0.68253124],\n",
       "       [0.68253124],\n",
       "       [0.68253124],\n",
       "       [0.68253124],\n",
       "       [0.68253124],\n",
       "       [0.68253124],\n",
       "       [0.68253124],\n",
       "       [0.68253124],\n",
       "       [0.68253124],\n",
       "       [0.68253124],\n",
       "       [0.68253124],\n",
       "       [0.68253124],\n",
       "       [0.68253124],\n",
       "       [0.68253124],\n",
       "       [0.68253124],\n",
       "       [0.68253124],\n",
       "       [0.68253124],\n",
       "       [0.68253124],\n",
       "       [0.68253124],\n",
       "       [0.68253124],\n",
       "       [0.68253124],\n",
       "       [0.68253124]], dtype=float32)"
      ]
     },
     "execution_count": 17,
     "metadata": {},
     "output_type": "execute_result"
    }
   ],
   "source": [
    "bert.predict(x=[np.array(test_input_ids[:100]), np.array(test_attention_masks[:100])])"
   ]
  },
  {
   "cell_type": "code",
   "execution_count": null,
   "id": "692865c4",
   "metadata": {},
   "outputs": [],
   "source": []
  },
  {
   "cell_type": "code",
   "execution_count": null,
   "id": "6a8ac3bc",
   "metadata": {},
   "outputs": [],
   "source": []
  },
  {
   "cell_type": "code",
   "execution_count": null,
   "id": "4d79b435",
   "metadata": {},
   "outputs": [],
   "source": []
  }
 ],
 "metadata": {
  "kernelspec": {
   "display_name": "Python 3 (ipykernel)",
   "language": "python",
   "name": "python3"
  },
  "language_info": {
   "codemirror_mode": {
    "name": "ipython",
    "version": 3
   },
   "file_extension": ".py",
   "mimetype": "text/x-python",
   "name": "python",
   "nbconvert_exporter": "python",
   "pygments_lexer": "ipython3",
   "version": "3.8.10"
  }
 },
 "nbformat": 4,
 "nbformat_minor": 5
}
