{
 "cells": [
  {
   "cell_type": "code",
   "execution_count": 1,
   "id": "2218927d",
   "metadata": {},
   "outputs": [
    {
     "name": "stderr",
     "output_type": "stream",
     "text": [
      "2022-06-24 11:13:21.047386: E tensorflow/stream_executor/cuda/cuda_driver.cc:271] failed call to cuInit: CUDA_ERROR_NO_DEVICE: no CUDA-capable device is detected\n",
      "2022-06-24 11:13:21.047428: I tensorflow/stream_executor/cuda/cuda_diagnostics.cc:156] kernel driver does not appear to be running on this host (petar-X580VD): /proc/driver/nvidia/version does not exist\n",
      "2022-06-24 11:13:21.048151: I tensorflow/core/platform/cpu_feature_guard.cc:193] This TensorFlow binary is optimized with oneAPI Deep Neural Network Library (oneDNN) to use the following CPU instructions in performance-critical operations:  AVX2 FMA\n",
      "To enable them in other operations, rebuild TensorFlow with the appropriate compiler flags.\n"
     ]
    }
   ],
   "source": [
    "import re\n",
    "import pandas as pd\n",
    "import numpy as np\n",
    "\n",
    "from nltk import word_tokenize\n",
    "from sklearn.model_selection import train_test_split\n",
    "from sklearn.metrics import classification_report\n",
    "\n",
    "\n",
    "import tensorflow as tf\n",
    "from tensorflow.keras.models import Sequential, Model\n",
    "from tensorflow.keras.layers import Input, Dense, Embedding, LSTM, GRU, Bidirectional\n",
    "from tensorflow.keras.preprocessing.sequence import pad_sequences\n",
    "\n",
    "from transformers import BertTokenizerFast, TFBertModel\n",
    "\n",
    "from scripts.word_embeddings import load_embedding_weights"
   ]
  },
  {
   "cell_type": "markdown",
   "id": "d5bd6d9a",
   "metadata": {},
   "source": [
    "# Utility functions"
   ]
  },
  {
   "cell_type": "code",
   "execution_count": 2,
   "id": "54e715e4",
   "metadata": {},
   "outputs": [],
   "source": [
    "def create_vocabulary(sentences_tokens):\n",
    "    voc = set()\n",
    "    \n",
    "    voc.update(['<PAD>'])\n",
    "    \n",
    "    for tokens in sentences_tokens:\n",
    "        voc.update(tokens)\n",
    "        \n",
    "    voc = list(voc)\n",
    "        \n",
    "    word_to_id = {word: index for word, index in zip(voc, range(len(voc)))}\n",
    "    id_to_word = {index: word for word, index in zip(voc, range(len(voc)))}\n",
    "    \n",
    "#     print(word_to_id['<PAD>'])\n",
    "    \n",
    "    return voc, word_to_id, id_to_word"
   ]
  },
  {
   "cell_type": "code",
   "execution_count": 3,
   "id": "8d507cbc",
   "metadata": {},
   "outputs": [],
   "source": [
    "def clean(word):\n",
    "    return re.sub(r'[\\-\\(\\)\\?\\*\\\\\\ \\'\\\"\\.%\\^,:<>|;]', '', word.lower())"
   ]
  },
  {
   "cell_type": "code",
   "execution_count": 4,
   "id": "92949301",
   "metadata": {},
   "outputs": [],
   "source": [
    "path = '/home/petar/Fakultet/Semester 7/NLP/Datasets/fake_news/'"
   ]
  },
  {
   "cell_type": "code",
   "execution_count": 5,
   "id": "f6039c15",
   "metadata": {},
   "outputs": [],
   "source": [
    "train = pd.read_csv(path + 'full_train_df.csv', index_col=0)\n",
    "test = pd.read_csv(path + 'full_test_df.csv', index_col=0)"
   ]
  },
  {
   "cell_type": "markdown",
   "id": "44932134",
   "metadata": {},
   "source": [
    "# Preprocessing"
   ]
  },
  {
   "cell_type": "code",
   "execution_count": 6,
   "id": "f35b15c6",
   "metadata": {},
   "outputs": [],
   "source": [
    "train['tweet_tokens'] = train['tweet'].apply(lambda sentence: sentence.split(' '))\n",
    "test['tweet_tokens'] = test['tweet'].apply(lambda sentence: sentence.split(' '))"
   ]
  },
  {
   "cell_type": "code",
   "execution_count": 7,
   "id": "d5ca3a63",
   "metadata": {},
   "outputs": [],
   "source": [
    "train['tweet_tokens'] = train['tweet_tokens'].apply(lambda sentence: [clean(word) for word in sentence])\n",
    "test['tweet_tokens'] = test['tweet_tokens'].apply(lambda sentence: [clean(word) for word in sentence])"
   ]
  },
  {
   "cell_type": "code",
   "execution_count": 8,
   "id": "d49b0c87",
   "metadata": {},
   "outputs": [
    {
     "name": "stderr",
     "output_type": "stream",
     "text": [
      "/tmp/ipykernel_9120/1723939186.py:1: FutureWarning: The series.append method is deprecated and will be removed from pandas in a future version. Use pandas.concat instead.\n",
      "  tmp = train['tweet_tokens'].append(test['tweet_tokens'])\n"
     ]
    }
   ],
   "source": [
    "tmp = train['tweet_tokens'].append(test['tweet_tokens'])"
   ]
  },
  {
   "cell_type": "code",
   "execution_count": 9,
   "id": "fe80de67",
   "metadata": {},
   "outputs": [],
   "source": [
    "tmp.index = range(len(tmp))"
   ]
  },
  {
   "cell_type": "code",
   "execution_count": 10,
   "id": "b9857ca9",
   "metadata": {},
   "outputs": [],
   "source": [
    "voc, word_to_id, id_to_word = create_vocabulary(tmp)"
   ]
  },
  {
   "cell_type": "code",
   "execution_count": 11,
   "id": "19efc7b9",
   "metadata": {},
   "outputs": [],
   "source": [
    "embeddings = load_embedding_weights(voc, 50, 'glove')"
   ]
  },
  {
   "cell_type": "code",
   "execution_count": 12,
   "id": "d4abd251",
   "metadata": {},
   "outputs": [],
   "source": [
    "train['tweet_indices'] = train['tweet_tokens'].apply(lambda sentence_tokens: [word_to_id[token] for token in sentence_tokens])\n",
    "test['tweet_indices'] = test['tweet_tokens'].apply(lambda sentence_tokens: [word_to_id[token] for token in sentence_tokens])"
   ]
  },
  {
   "cell_type": "code",
   "execution_count": 13,
   "id": "22deda69",
   "metadata": {},
   "outputs": [],
   "source": [
    "x = train['tweet_indices'].copy()\n",
    "y = train['label'].copy()\n",
    "# y = y.apply(lambda x: [x])"
   ]
  },
  {
   "cell_type": "code",
   "execution_count": 14,
   "id": "0c41fd6b",
   "metadata": {},
   "outputs": [],
   "source": [
    "padded_x = pad_sequences(x, value=word_to_id['<PAD>'], maxlen=100)"
   ]
  },
  {
   "cell_type": "code",
   "execution_count": 15,
   "id": "5fe510f3",
   "metadata": {},
   "outputs": [],
   "source": [
    "padded_x = pd.Series(padded_x.tolist())"
   ]
  },
  {
   "cell_type": "code",
   "execution_count": 16,
   "id": "0a7c99f9",
   "metadata": {},
   "outputs": [],
   "source": [
    "# padded_y = pad_sequences(y, value=word_to_id['<PAD>'], maxlen=100)"
   ]
  },
  {
   "cell_type": "code",
   "execution_count": 17,
   "id": "8f6bc72b",
   "metadata": {},
   "outputs": [],
   "source": [
    "# padded_y = pd.Series(padded_y.tolist())"
   ]
  },
  {
   "cell_type": "code",
   "execution_count": 16,
   "id": "9861ceb6",
   "metadata": {},
   "outputs": [],
   "source": [
    "x_train, x_test, y_train, y_test = train_test_split(padded_x, y, test_size=.1, random_state=0, shuffle=True, stratify=y)"
   ]
  },
  {
   "cell_type": "code",
   "execution_count": 17,
   "id": "20dc7945",
   "metadata": {},
   "outputs": [
    {
     "name": "stderr",
     "output_type": "stream",
     "text": [
      "/tmp/ipykernel_9120/4134551260.py:1: FutureWarning: The series.append method is deprecated and will be removed from pandas in a future version. Use pandas.concat instead.\n",
      "  x_train = x_train.append(x_test)\n",
      "/tmp/ipykernel_9120/4134551260.py:2: FutureWarning: The series.append method is deprecated and will be removed from pandas in a future version. Use pandas.concat instead.\n",
      "  y_train = y_train.append(y_test)\n"
     ]
    }
   ],
   "source": [
    "x_train = x_train.append(x_test)\n",
    "y_train = y_train.append(y_test)"
   ]
  },
  {
   "cell_type": "code",
   "execution_count": 18,
   "id": "34f9240a",
   "metadata": {},
   "outputs": [],
   "source": [
    "x = test['tweet_indices'].copy()\n",
    "y = test['label'].copy()\n",
    "# y = y.apply(lambda x: [x])"
   ]
  },
  {
   "cell_type": "code",
   "execution_count": 19,
   "id": "5db537bc",
   "metadata": {},
   "outputs": [],
   "source": [
    "padded_x = pad_sequences(x, value=word_to_id['<PAD>'], maxlen=100)"
   ]
  },
  {
   "cell_type": "code",
   "execution_count": 20,
   "id": "c9af9e98",
   "metadata": {},
   "outputs": [],
   "source": [
    "padded_x = pd.Series(padded_x.tolist())"
   ]
  },
  {
   "cell_type": "code",
   "execution_count": 23,
   "id": "5ba9c7d9",
   "metadata": {},
   "outputs": [],
   "source": [
    "# padded_y = pad_sequences(y, value=word_to_id['<PAD>'], maxlen=100)"
   ]
  },
  {
   "cell_type": "code",
   "execution_count": 24,
   "id": "cbd1648d",
   "metadata": {},
   "outputs": [],
   "source": [
    "# padded_y = pd.Series(padded_y.tolist())"
   ]
  },
  {
   "cell_type": "code",
   "execution_count": 27,
   "id": "fd096ba0",
   "metadata": {},
   "outputs": [],
   "source": [
    "x_train, x_test, y_train, y_test = train_test_split(padded_x, y, test_size=.1, random_state=0, shuffle=True, stratify=y)"
   ]
  },
  {
   "cell_type": "code",
   "execution_count": 28,
   "id": "347ad2ce",
   "metadata": {},
   "outputs": [
    {
     "name": "stderr",
     "output_type": "stream",
     "text": [
      "/tmp/ipykernel_9120/1631974232.py:1: FutureWarning: The series.append method is deprecated and will be removed from pandas in a future version. Use pandas.concat instead.\n",
      "  x_test = x_train.append(x_test)\n",
      "/tmp/ipykernel_9120/1631974232.py:2: FutureWarning: The series.append method is deprecated and will be removed from pandas in a future version. Use pandas.concat instead.\n",
      "  y_test = y_train.append(y_test)\n"
     ]
    }
   ],
   "source": [
    "x_test = x_train.append(x_test)\n",
    "y_test = y_train.append(y_test)"
   ]
  },
  {
   "cell_type": "code",
   "execution_count": 29,
   "id": "f029796d",
   "metadata": {},
   "outputs": [],
   "source": [
    "embeddings = embeddings.astype(np.float32)"
   ]
  },
  {
   "cell_type": "code",
   "execution_count": 39,
   "id": "edd6e5a6",
   "metadata": {},
   "outputs": [],
   "source": [
    "x_train_tmp = x_train.to_list()\n",
    "y_train_tmp = y_train.to_list()\n",
    "\n",
    "x_test_tmp = x_test.to_list()\n",
    "y_test_tmp = y_test.tolist()"
   ]
  },
  {
   "cell_type": "markdown",
   "id": "c3b632e5",
   "metadata": {},
   "source": [
    "# DNN models"
   ]
  },
  {
   "cell_type": "markdown",
   "id": "46d8b273",
   "metadata": {},
   "source": [
    "# Model1"
   ]
  },
  {
   "cell_type": "code",
   "execution_count": 33,
   "id": "a8a3ed2c",
   "metadata": {},
   "outputs": [
    {
     "name": "stderr",
     "output_type": "stream",
     "text": [
      "2022-06-20 13:45:30.710729: I tensorflow/stream_executor/cuda/cuda_gpu_executor.cc:975] successful NUMA node read from SysFS had negative value (-1), but there must be at least one NUMA node, so returning NUMA node zero\n",
      "2022-06-20 13:45:30.717889: I tensorflow/stream_executor/cuda/cuda_gpu_executor.cc:975] successful NUMA node read from SysFS had negative value (-1), but there must be at least one NUMA node, so returning NUMA node zero\n",
      "2022-06-20 13:45:30.718175: I tensorflow/stream_executor/cuda/cuda_gpu_executor.cc:975] successful NUMA node read from SysFS had negative value (-1), but there must be at least one NUMA node, so returning NUMA node zero\n",
      "2022-06-20 13:45:30.726985: I tensorflow/core/platform/cpu_feature_guard.cc:193] This TensorFlow binary is optimized with oneAPI Deep Neural Network Library (oneDNN) to use the following CPU instructions in performance-critical operations:  AVX2 FMA\n",
      "To enable them in other operations, rebuild TensorFlow with the appropriate compiler flags.\n",
      "2022-06-20 13:45:30.746529: I tensorflow/stream_executor/cuda/cuda_gpu_executor.cc:975] successful NUMA node read from SysFS had negative value (-1), but there must be at least one NUMA node, so returning NUMA node zero\n",
      "2022-06-20 13:45:30.746866: I tensorflow/stream_executor/cuda/cuda_gpu_executor.cc:975] successful NUMA node read from SysFS had negative value (-1), but there must be at least one NUMA node, so returning NUMA node zero\n",
      "2022-06-20 13:45:30.747130: I tensorflow/stream_executor/cuda/cuda_gpu_executor.cc:975] successful NUMA node read from SysFS had negative value (-1), but there must be at least one NUMA node, so returning NUMA node zero\n",
      "2022-06-20 13:45:37.222009: I tensorflow/stream_executor/cuda/cuda_gpu_executor.cc:975] successful NUMA node read from SysFS had negative value (-1), but there must be at least one NUMA node, so returning NUMA node zero\n",
      "2022-06-20 13:45:37.222336: I tensorflow/stream_executor/cuda/cuda_gpu_executor.cc:975] successful NUMA node read from SysFS had negative value (-1), but there must be at least one NUMA node, so returning NUMA node zero\n",
      "2022-06-20 13:45:37.222621: I tensorflow/stream_executor/cuda/cuda_gpu_executor.cc:975] successful NUMA node read from SysFS had negative value (-1), but there must be at least one NUMA node, so returning NUMA node zero\n",
      "2022-06-20 13:45:37.222888: I tensorflow/core/common_runtime/gpu/gpu_device.cc:1532] Created device /job:localhost/replica:0/task:0/device:GPU:0 with 2958 MB memory:  -> device: 0, name: NVIDIA GeForce GTX 1050, pci bus id: 0000:01:00.0, compute capability: 6.1\n"
     ]
    },
    {
     "name": "stdout",
     "output_type": "stream",
     "text": [
      "Model: \"sequential\"\n",
      "_________________________________________________________________\n",
      " Layer (type)                Output Shape              Param #   \n",
      "=================================================================\n",
      " embedding (Embedding)       (None, None, 50)          2948450   \n",
      "                                                                 \n",
      " lstm (LSTM)                 (None, 8)                 1888      \n",
      "                                                                 \n",
      " dense (Dense)               (None, 1)                 9         \n",
      "                                                                 \n",
      "=================================================================\n",
      "Total params: 2,950,347\n",
      "Trainable params: 2,950,347\n",
      "Non-trainable params: 0\n",
      "_________________________________________________________________\n"
     ]
    }
   ],
   "source": [
    "model1 = Sequential()\n",
    "# model1.add(Input(shape=(100,)))\n",
    "model1.add(Embedding(input_dim=len(voc), output_dim=50, weights=[embeddings], trainable=True))\n",
    "# model1.add(LSTM(64, return_sequences=True))\n",
    "# model1.add(LSTM(64, return_sequences=True))\n",
    "# model1.add(LSTM(64))\n",
    "model1.add(LSTM(8))\n",
    "model1.add(Dense(1, activation='sigmoid'))\n",
    "\n",
    "model1.compile(optimizer='adam', loss='binary_crossentropy', metrics=['accuracy'])\n",
    "\n",
    "model1.summary()"
   ]
  },
  {
   "cell_type": "code",
   "execution_count": 34,
   "id": "379c281d",
   "metadata": {
    "scrolled": false
   },
   "outputs": [
    {
     "name": "stdout",
     "output_type": "stream",
     "text": [
      "Epoch 1/5\n"
     ]
    },
    {
     "name": "stderr",
     "output_type": "stream",
     "text": [
      "2022-06-20 13:45:59.169297: I tensorflow/stream_executor/cuda/cuda_dnn.cc:384] Loaded cuDNN version 8101\n"
     ]
    },
    {
     "name": "stdout",
     "output_type": "stream",
     "text": [
      "563/563 - 22s - loss: 0.6656 - accuracy: 0.5881 - 22s/epoch - 40ms/step\n",
      "Epoch 2/5\n",
      "563/563 - 4s - loss: 0.5724 - accuracy: 0.7055 - 4s/epoch - 8ms/step\n",
      "Epoch 3/5\n",
      "563/563 - 4s - loss: 0.4456 - accuracy: 0.7967 - 4s/epoch - 8ms/step\n",
      "Epoch 4/5\n",
      "563/563 - 5s - loss: 0.3242 - accuracy: 0.8654 - 5s/epoch - 8ms/step\n",
      "Epoch 5/5\n",
      "563/563 - 4s - loss: 0.2248 - accuracy: 0.9153 - 4s/epoch - 8ms/step\n"
     ]
    },
    {
     "data": {
      "text/plain": [
       "<keras.callbacks.History at 0x7f1396260a30>"
      ]
     },
     "execution_count": 34,
     "metadata": {},
     "output_type": "execute_result"
    }
   ],
   "source": [
    "model1.fit(x_train_tmp, y_train_tmp, epochs=5, batch_size=32, verbose=2, use_multiprocessing=True)"
   ]
  },
  {
   "cell_type": "code",
   "execution_count": 64,
   "id": "78e885bd",
   "metadata": {},
   "outputs": [
    {
     "name": "stdout",
     "output_type": "stream",
     "text": [
      "625/625 [==============================] - 2s 2ms/step\n",
      "              precision    recall  f1-score   support\n",
      "\n",
      "           0       0.93      0.92      0.93      9999\n",
      "           1       0.92      0.93      0.93     10000\n",
      "\n",
      "    accuracy                           0.93     19999\n",
      "   macro avg       0.93      0.93      0.93     19999\n",
      "weighted avg       0.93      0.93      0.93     19999\n",
      "\n"
     ]
    }
   ],
   "source": [
    "y_pred = model1.predict(x_test_tmp)\n",
    "y_pred_tmp = np.round(y_pred)\n",
    "y_pred_tmp = np.hstack(y_pred_tmp)\n",
    "y_pred_tmp = y_pred_tmp.astype(np.int32)\n",
    "print(classification_report(y_test, y_pred_tmp))"
   ]
  },
  {
   "cell_type": "code",
   "execution_count": 74,
   "id": "0eb5f266",
   "metadata": {},
   "outputs": [
    {
     "name": "stderr",
     "output_type": "stream",
     "text": [
      "WARNING:absl:Found untraced functions such as lstm_cell_layer_call_fn, lstm_cell_layer_call_and_return_conditional_losses while saving (showing 2 of 2). These functions will not be directly callable after loading.\n"
     ]
    },
    {
     "name": "stdout",
     "output_type": "stream",
     "text": [
      "INFO:tensorflow:Assets written to: model1/assets\n"
     ]
    },
    {
     "name": "stderr",
     "output_type": "stream",
     "text": [
      "INFO:tensorflow:Assets written to: model1/assets\n"
     ]
    }
   ],
   "source": [
    "model1.save('model1/')"
   ]
  },
  {
   "cell_type": "code",
   "execution_count": null,
   "id": "e5595d8f",
   "metadata": {},
   "outputs": [],
   "source": [
    "# model1 = tf.keras.models.load_model('model1/')"
   ]
  },
  {
   "cell_type": "markdown",
   "id": "ba19f025",
   "metadata": {},
   "source": [
    "# Model2"
   ]
  },
  {
   "cell_type": "code",
   "execution_count": 58,
   "id": "1b050211",
   "metadata": {},
   "outputs": [
    {
     "name": "stdout",
     "output_type": "stream",
     "text": [
      "Model: \"sequential_1\"\n",
      "_________________________________________________________________\n",
      " Layer (type)                Output Shape              Param #   \n",
      "=================================================================\n",
      " embedding_1 (Embedding)     (None, None, 50)          2948450   \n",
      "                                                                 \n",
      " bidirectional (Bidirectiona  (None, 16)               3776      \n",
      " l)                                                              \n",
      "                                                                 \n",
      " dense_1 (Dense)             (None, 1)                 17        \n",
      "                                                                 \n",
      "=================================================================\n",
      "Total params: 2,952,243\n",
      "Trainable params: 2,952,243\n",
      "Non-trainable params: 0\n",
      "_________________________________________________________________\n"
     ]
    }
   ],
   "source": [
    "model2 = Sequential()\n",
    "\n",
    "model2.add(Embedding(input_dim=len(voc), output_dim=50, weights=[embeddings], trainable=True))\n",
    "model2.add(Bidirectional(LSTM(8)))\n",
    "model2.add(Dense(1, activation='sigmoid'))\n",
    "\n",
    "model2.compile(optimizer='adam', loss='binary_crossentropy', metrics=['accuracy'])\n",
    "\n",
    "model2.summary()"
   ]
  },
  {
   "cell_type": "code",
   "execution_count": 59,
   "id": "d918bffa",
   "metadata": {},
   "outputs": [
    {
     "name": "stdout",
     "output_type": "stream",
     "text": [
      "Epoch 1/5\n",
      "563/563 - 9s - loss: 0.6672 - accuracy: 0.5878 - 9s/epoch - 16ms/step\n",
      "Epoch 2/5\n",
      "563/563 - 6s - loss: 0.5676 - accuracy: 0.7083 - 6s/epoch - 12ms/step\n",
      "Epoch 3/5\n",
      "563/563 - 6s - loss: 0.4354 - accuracy: 0.8035 - 6s/epoch - 11ms/step\n",
      "Epoch 4/5\n",
      "563/563 - 6s - loss: 0.3175 - accuracy: 0.8694 - 6s/epoch - 11ms/step\n",
      "Epoch 5/5\n",
      "563/563 - 6s - loss: 0.2288 - accuracy: 0.9145 - 6s/epoch - 11ms/step\n"
     ]
    },
    {
     "data": {
      "text/plain": [
       "<keras.callbacks.History at 0x7f12f82e9310>"
      ]
     },
     "execution_count": 59,
     "metadata": {},
     "output_type": "execute_result"
    }
   ],
   "source": [
    "model2.fit(x_train_tmp, y_train_tmp, epochs=5, batch_size=32, verbose=2, use_multiprocessing=True)"
   ]
  },
  {
   "cell_type": "code",
   "execution_count": 60,
   "id": "84e3b42f",
   "metadata": {},
   "outputs": [
    {
     "name": "stdout",
     "output_type": "stream",
     "text": [
      "625/625 [==============================] - 3s 3ms/step\n",
      "              precision    recall  f1-score   support\n",
      "\n",
      "           0       0.94      0.91      0.93      9999\n",
      "           1       0.91      0.94      0.93     10000\n",
      "\n",
      "    accuracy                           0.93     19999\n",
      "   macro avg       0.93      0.93      0.93     19999\n",
      "weighted avg       0.93      0.93      0.93     19999\n",
      "\n"
     ]
    }
   ],
   "source": [
    "y_pred = model2.predict(x_test_tmp)\n",
    "y_pred_tmp = np.round(y_pred)\n",
    "y_pred_tmp = np.hstack(y_pred_tmp)\n",
    "y_pred_tmp = y_pred_tmp.astype(np.int32)\n",
    "print(classification_report(y_test, y_pred_tmp))"
   ]
  },
  {
   "cell_type": "code",
   "execution_count": 73,
   "id": "652d0feb",
   "metadata": {},
   "outputs": [
    {
     "name": "stderr",
     "output_type": "stream",
     "text": [
      "WARNING:absl:Found untraced functions such as lstm_cell_5_layer_call_fn, lstm_cell_5_layer_call_and_return_conditional_losses, lstm_cell_6_layer_call_fn, lstm_cell_6_layer_call_and_return_conditional_losses while saving (showing 4 of 4). These functions will not be directly callable after loading.\n"
     ]
    },
    {
     "name": "stdout",
     "output_type": "stream",
     "text": [
      "INFO:tensorflow:Assets written to: model2/assets\n"
     ]
    },
    {
     "name": "stderr",
     "output_type": "stream",
     "text": [
      "INFO:tensorflow:Assets written to: model2/assets\n"
     ]
    }
   ],
   "source": [
    "model2.save('model2/')"
   ]
  },
  {
   "cell_type": "code",
   "execution_count": null,
   "id": "beae83b1",
   "metadata": {},
   "outputs": [],
   "source": [
    "# model2 = tf.keras.models.load_model('model2/')"
   ]
  },
  {
   "cell_type": "markdown",
   "id": "b233f44d",
   "metadata": {},
   "source": [
    "# Model3"
   ]
  },
  {
   "cell_type": "code",
   "execution_count": 65,
   "id": "7a01473b",
   "metadata": {},
   "outputs": [
    {
     "name": "stdout",
     "output_type": "stream",
     "text": [
      "Model: \"sequential_2\"\n",
      "_________________________________________________________________\n",
      " Layer (type)                Output Shape              Param #   \n",
      "=================================================================\n",
      " embedding_2 (Embedding)     (None, None, 50)          2948450   \n",
      "                                                                 \n",
      " lstm_2 (LSTM)               (None, None, 64)          29440     \n",
      "                                                                 \n",
      " lstm_3 (LSTM)               (None, None, 64)          33024     \n",
      "                                                                 \n",
      " lstm_4 (LSTM)               (None, 64)                33024     \n",
      "                                                                 \n",
      " dense_2 (Dense)             (None, 1)                 65        \n",
      "                                                                 \n",
      "=================================================================\n",
      "Total params: 3,044,003\n",
      "Trainable params: 3,044,003\n",
      "Non-trainable params: 0\n",
      "_________________________________________________________________\n"
     ]
    }
   ],
   "source": [
    "model3 = Sequential()\n",
    "model3.add(Embedding(input_dim=len(voc), output_dim=50, weights=[embeddings], trainable=True))\n",
    "model3.add(LSTM(64, return_sequences=True))\n",
    "model3.add(LSTM(64, return_sequences=True))\n",
    "model3.add(LSTM(64))\n",
    "\n",
    "model3.add(Dense(1, activation='sigmoid'))\n",
    "\n",
    "model3.compile(optimizer='adam', loss='binary_crossentropy', metrics=['accuracy'])\n",
    "\n",
    "model3.summary()"
   ]
  },
  {
   "cell_type": "code",
   "execution_count": 66,
   "id": "57c4c56b",
   "metadata": {},
   "outputs": [
    {
     "name": "stdout",
     "output_type": "stream",
     "text": [
      "Epoch 1/5\n",
      "563/563 - 13s - loss: 0.6521 - accuracy: 0.6081 - 13s/epoch - 23ms/step\n",
      "Epoch 2/5\n",
      "563/563 - 10s - loss: 0.5360 - accuracy: 0.7247 - 10s/epoch - 18ms/step\n",
      "Epoch 3/5\n",
      "563/563 - 9s - loss: 0.4027 - accuracy: 0.8134 - 9s/epoch - 16ms/step\n",
      "Epoch 4/5\n",
      "563/563 - 9s - loss: 0.2838 - accuracy: 0.8772 - 9s/epoch - 16ms/step\n",
      "Epoch 5/5\n",
      "563/563 - 9s - loss: 0.1804 - accuracy: 0.9274 - 9s/epoch - 16ms/step\n"
     ]
    },
    {
     "data": {
      "text/plain": [
       "<keras.callbacks.History at 0x7f1390c9af70>"
      ]
     },
     "execution_count": 66,
     "metadata": {},
     "output_type": "execute_result"
    }
   ],
   "source": [
    "model3.fit(x_train_tmp, y_train_tmp, epochs=5, batch_size=32, verbose=2, use_multiprocessing=True)"
   ]
  },
  {
   "cell_type": "code",
   "execution_count": 67,
   "id": "4787b238",
   "metadata": {},
   "outputs": [
    {
     "name": "stdout",
     "output_type": "stream",
     "text": [
      "625/625 [==============================] - 4s 6ms/step\n",
      "              precision    recall  f1-score   support\n",
      "\n",
      "           0       0.96      0.91      0.94      9999\n",
      "           1       0.91      0.97      0.94     10000\n",
      "\n",
      "    accuracy                           0.94     19999\n",
      "   macro avg       0.94      0.94      0.94     19999\n",
      "weighted avg       0.94      0.94      0.94     19999\n",
      "\n"
     ]
    }
   ],
   "source": [
    "y_pred = model3.predict(x_test_tmp)\n",
    "y_pred_tmp = np.round(y_pred)\n",
    "y_pred_tmp = np.hstack(y_pred_tmp)\n",
    "y_pred_tmp = y_pred_tmp.astype(np.int32)\n",
    "print(classification_report(y_test, y_pred_tmp))"
   ]
  },
  {
   "cell_type": "code",
   "execution_count": 72,
   "id": "1328b499",
   "metadata": {},
   "outputs": [
    {
     "name": "stderr",
     "output_type": "stream",
     "text": [
      "WARNING:absl:Found untraced functions such as lstm_cell_7_layer_call_fn, lstm_cell_7_layer_call_and_return_conditional_losses, lstm_cell_8_layer_call_fn, lstm_cell_8_layer_call_and_return_conditional_losses, lstm_cell_9_layer_call_fn while saving (showing 5 of 6). These functions will not be directly callable after loading.\n"
     ]
    },
    {
     "name": "stdout",
     "output_type": "stream",
     "text": [
      "INFO:tensorflow:Assets written to: model3/assets\n"
     ]
    },
    {
     "name": "stderr",
     "output_type": "stream",
     "text": [
      "INFO:tensorflow:Assets written to: model3/assets\n"
     ]
    }
   ],
   "source": [
    "model3.save('model3/')"
   ]
  },
  {
   "cell_type": "code",
   "execution_count": null,
   "id": "8bedbb9d",
   "metadata": {},
   "outputs": [],
   "source": [
    "# model3 = tf.keras.models.load_model('model3/')"
   ]
  },
  {
   "cell_type": "markdown",
   "id": "2c0f1e65",
   "metadata": {},
   "source": [
    "# Model4"
   ]
  },
  {
   "cell_type": "code",
   "execution_count": 69,
   "id": "68b86586",
   "metadata": {},
   "outputs": [
    {
     "name": "stdout",
     "output_type": "stream",
     "text": [
      "Model: \"sequential_3\"\n",
      "_________________________________________________________________\n",
      " Layer (type)                Output Shape              Param #   \n",
      "=================================================================\n",
      " embedding_3 (Embedding)     (None, None, 50)          2948450   \n",
      "                                                                 \n",
      " bidirectional_1 (Bidirectio  (None, None, 256)        183296    \n",
      " nal)                                                            \n",
      "                                                                 \n",
      " bidirectional_2 (Bidirectio  (None, None, 256)        394240    \n",
      " nal)                                                            \n",
      "                                                                 \n",
      " bidirectional_3 (Bidirectio  (None, None, 256)        394240    \n",
      " nal)                                                            \n",
      "                                                                 \n",
      " bidirectional_4 (Bidirectio  (None, None, 256)        394240    \n",
      " nal)                                                            \n",
      "                                                                 \n",
      " bidirectional_5 (Bidirectio  (None, 256)              394240    \n",
      " nal)                                                            \n",
      "                                                                 \n",
      " dense_3 (Dense)             (None, 1)                 257       \n",
      "                                                                 \n",
      "=================================================================\n",
      "Total params: 4,708,963\n",
      "Trainable params: 4,708,963\n",
      "Non-trainable params: 0\n",
      "_________________________________________________________________\n"
     ]
    }
   ],
   "source": [
    "model4 = Sequential()\n",
    "\n",
    "model4.add(Embedding(input_dim=len(voc), output_dim=50, weights=[embeddings], trainable=True))\n",
    "\n",
    "model4.add(Bidirectional(LSTM(128, return_sequences=True)))\n",
    "model4.add(Bidirectional(LSTM(128, return_sequences=True)))\n",
    "model4.add(Bidirectional(LSTM(128, return_sequences=True)))\n",
    "model4.add(Bidirectional(LSTM(128, return_sequences=True)))\n",
    "model4.add(Bidirectional(LSTM(128)))\n",
    "\n",
    "model4.add(Dense(1, activation='sigmoid'))\n",
    "\n",
    "model4.compile(optimizer='adam', loss='binary_crossentropy', metrics=['accuracy'])\n",
    "\n",
    "model4.summary()"
   ]
  },
  {
   "cell_type": "code",
   "execution_count": 70,
   "id": "2d0a6e34",
   "metadata": {},
   "outputs": [
    {
     "name": "stdout",
     "output_type": "stream",
     "text": [
      "Epoch 1/5\n",
      "563/563 - 61s - loss: 0.6604 - accuracy: 0.5948 - 61s/epoch - 109ms/step\n",
      "Epoch 2/5\n",
      "563/563 - 49s - loss: 0.5543 - accuracy: 0.7132 - 49s/epoch - 88ms/step\n",
      "Epoch 3/5\n",
      "563/563 - 49s - loss: 0.4275 - accuracy: 0.8042 - 49s/epoch - 88ms/step\n",
      "Epoch 4/5\n",
      "563/563 - 49s - loss: 0.3104 - accuracy: 0.8701 - 49s/epoch - 87ms/step\n",
      "Epoch 5/5\n",
      "563/563 - 50s - loss: 0.2130 - accuracy: 0.9176 - 50s/epoch - 88ms/step\n"
     ]
    },
    {
     "data": {
      "text/plain": [
       "<keras.callbacks.History at 0x7f138f2a4f70>"
      ]
     },
     "execution_count": 70,
     "metadata": {},
     "output_type": "execute_result"
    }
   ],
   "source": [
    "model4.fit(x_train_tmp, y_train_tmp, epochs=5, batch_size=32, verbose=2, use_multiprocessing=True)"
   ]
  },
  {
   "cell_type": "code",
   "execution_count": 71,
   "id": "6e79cdd4",
   "metadata": {},
   "outputs": [
    {
     "name": "stdout",
     "output_type": "stream",
     "text": [
      "625/625 [==============================] - 26s 37ms/step\n",
      "              precision    recall  f1-score   support\n",
      "\n",
      "           0       0.92      0.95      0.93      9999\n",
      "           1       0.95      0.92      0.93     10000\n",
      "\n",
      "    accuracy                           0.93     19999\n",
      "   macro avg       0.93      0.93      0.93     19999\n",
      "weighted avg       0.93      0.93      0.93     19999\n",
      "\n"
     ]
    }
   ],
   "source": [
    "y_pred = model4.predict(x_test_tmp)\n",
    "y_pred_tmp = np.round(y_pred)\n",
    "y_pred_tmp = np.hstack(y_pred_tmp)\n",
    "y_pred_tmp = y_pred_tmp.astype(np.int32)\n",
    "print(classification_report(y_test, y_pred_tmp))"
   ]
  },
  {
   "cell_type": "code",
   "execution_count": 75,
   "id": "2ff0ebee",
   "metadata": {},
   "outputs": [
    {
     "name": "stderr",
     "output_type": "stream",
     "text": [
      "WARNING:absl:Found untraced functions such as lstm_cell_11_layer_call_fn, lstm_cell_11_layer_call_and_return_conditional_losses, lstm_cell_12_layer_call_fn, lstm_cell_12_layer_call_and_return_conditional_losses, lstm_cell_14_layer_call_fn while saving (showing 5 of 20). These functions will not be directly callable after loading.\n"
     ]
    },
    {
     "name": "stdout",
     "output_type": "stream",
     "text": [
      "INFO:tensorflow:Assets written to: model4/assets\n"
     ]
    },
    {
     "name": "stderr",
     "output_type": "stream",
     "text": [
      "INFO:tensorflow:Assets written to: model4/assets\n"
     ]
    }
   ],
   "source": [
    "model4.save('model4/')"
   ]
  },
  {
   "cell_type": "code",
   "execution_count": null,
   "id": "df8a375c",
   "metadata": {},
   "outputs": [],
   "source": [
    "# model4 = tf.keras.models.load_model('model4/')"
   ]
  },
  {
   "cell_type": "markdown",
   "id": "e331d9f2",
   "metadata": {},
   "source": [
    "# Transformer architecture models"
   ]
  },
  {
   "cell_type": "code",
   "execution_count": 27,
   "id": "1a8c77ac",
   "metadata": {},
   "outputs": [
    {
     "data": {
      "application/vnd.jupyter.widget-view+json": {
       "model_id": "6f29794361d24075a760f7ec2487521d",
       "version_major": 2,
       "version_minor": 0
      },
      "text/plain": [
       "Downloading:   0%|          | 0.00/28.0 [00:00<?, ?B/s]"
      ]
     },
     "metadata": {},
     "output_type": "display_data"
    },
    {
     "data": {
      "application/vnd.jupyter.widget-view+json": {
       "model_id": "21e76fbdb233418eaefd27c7f244a374",
       "version_major": 2,
       "version_minor": 0
      },
      "text/plain": [
       "Downloading:   0%|          | 0.00/226k [00:00<?, ?B/s]"
      ]
     },
     "metadata": {},
     "output_type": "display_data"
    },
    {
     "data": {
      "application/vnd.jupyter.widget-view+json": {
       "model_id": "8d4e7e4170434fb192138ebcaa3aa8d3",
       "version_major": 2,
       "version_minor": 0
      },
      "text/plain": [
       "Downloading:   0%|          | 0.00/455k [00:00<?, ?B/s]"
      ]
     },
     "metadata": {},
     "output_type": "display_data"
    },
    {
     "data": {
      "application/vnd.jupyter.widget-view+json": {
       "model_id": "1e4fe178bf584958be72ef93e51d88b9",
       "version_major": 2,
       "version_minor": 0
      },
      "text/plain": [
       "Downloading:   0%|          | 0.00/570 [00:00<?, ?B/s]"
      ]
     },
     "metadata": {},
     "output_type": "display_data"
    }
   ],
   "source": [
    "bt = BertTokenizerFast.from_pretrained('bert-base-uncased')"
   ]
  },
  {
   "cell_type": "code",
   "execution_count": 28,
   "id": "dc703afa",
   "metadata": {},
   "outputs": [],
   "source": [
    "x_train = train['tweet'].copy()\n",
    "y_train = train['label'].copy()\n",
    "\n",
    "x_test = test['tweet'].copy()\n",
    "y_test = test['label'].copy()"
   ]
  },
  {
   "cell_type": "code",
   "execution_count": 69,
   "id": "417b985d",
   "metadata": {},
   "outputs": [],
   "source": [
    "train_input_ids, train_attention_masks, train_outputs = [], [], []"
   ]
  },
  {
   "cell_type": "code",
   "execution_count": 70,
   "id": "da7d5ecb",
   "metadata": {},
   "outputs": [],
   "source": [
    "for sentence, label in zip(x_train, y_train):\n",
    "    \n",
    "    sentence_tokens = bt.encode_plus(sentence, max_length=100, padding='max_length', truncation=True)\n",
    "    \n",
    "    train_input_ids.append(np.array(sentence_tokens['input_ids']))\n",
    "    train_attention_masks.append(np.array(sentence_tokens['attention_mask']))\n",
    "    train_outputs.append(label)"
   ]
  },
  {
   "cell_type": "code",
   "execution_count": 32,
   "id": "83b4858d",
   "metadata": {},
   "outputs": [],
   "source": [
    "test_input_ids, test_attention_masks, test_outputs = [], [], []"
   ]
  },
  {
   "cell_type": "code",
   "execution_count": 33,
   "id": "aeb0e026",
   "metadata": {},
   "outputs": [],
   "source": [
    "for sentence, label in zip(x_test, y_test):\n",
    "    \n",
    "    sentence_tokens = bt.encode_plus(sentence, max_length=100, padding=True, truncation=True)\n",
    "    \n",
    "    test_input_ids.append(sentence_tokens['input_ids'])\n",
    "    test_attention_masks.append(sentence_tokens['attention_mask'])\n",
    "    test_outputs.append(label)"
   ]
  },
  {
   "cell_type": "markdown",
   "id": "28adc01b",
   "metadata": {},
   "source": [
    "# Model1"
   ]
  },
  {
   "cell_type": "code",
   "execution_count": 37,
   "id": "1aceec58",
   "metadata": {},
   "outputs": [
    {
     "name": "stderr",
     "output_type": "stream",
     "text": [
      "Some layers from the model checkpoint at bert-base-uncased were not used when initializing TFBertModel: ['mlm___cls', 'nsp___cls']\n",
      "- This IS expected if you are initializing TFBertModel from the checkpoint of a model trained on another task or with another architecture (e.g. initializing a BertForSequenceClassification model from a BertForPreTraining model).\n",
      "- This IS NOT expected if you are initializing TFBertModel from the checkpoint of a model that you expect to be exactly identical (initializing a BertForSequenceClassification model from a BertForSequenceClassification model).\n",
      "All the layers of TFBertModel were initialized from the model checkpoint at bert-base-uncased.\n",
      "If your task is similar to the task the model of the checkpoint was trained on, you can already use TFBertModel for predictions without further training.\n"
     ]
    }
   ],
   "source": [
    "bert_base_uncased = TFBertModel.from_pretrained('bert-base-uncased')\n",
    "\n",
    "input_ids = Input(shape=(100,), name='input_ids', dtype='int32')\n",
    "att_masks = Input(shape=(100,), name='masked_tokens', dtype='int32')\n",
    "\n",
    "bert_in = bert_base_uncased(input_ids, attention_mask=att_masks)[1]\n",
    "\n",
    "dense_1 = Dense(8, name='dense_1', activation=tf.keras.layers.LeakyReLU(alpha=.1))(bert_in)\n",
    "\n",
    "out = Dense(1, name='output', activation='sigmoid')(dense_1)\n",
    "\n",
    "bert_base_model1 = Model(inputs=[input_ids, att_masks], outputs=[out])\n",
    "\n",
    "bert_base_model1.compile(optimizer='adam', loss='binary_crossentropy', metrics=['accuracy'])"
   ]
  },
  {
   "cell_type": "code",
   "execution_count": 76,
   "id": "ef36eb3e",
   "metadata": {
    "scrolled": true
   },
   "outputs": [
    {
     "name": "stderr",
     "output_type": "stream",
     "text": [
      "2022-06-20 17:17:29.293412: W tensorflow/core/common_runtime/bfc_allocator.cc:479] Allocator (GPU_0_bfc) ran out of memory trying to allocate 234.38MiB (rounded to 245760000)requested by op model/tf_bert_model_2/bert/encoder/layer_._0/attention/self/MatMul\n",
      "If the cause is memory fragmentation maybe the environment variable 'TF_GPU_ALLOCATOR=cuda_malloc_async' will improve the situation. \n",
      "Current allocation summary follows.\n",
      "Current allocation summary follows.\n",
      "2022-06-20 17:17:29.293459: I tensorflow/core/common_runtime/bfc_allocator.cc:1027] BFCAllocator dump for GPU_0_bfc\n",
      "2022-06-20 17:17:29.293471: I tensorflow/core/common_runtime/bfc_allocator.cc:1034] Bin (256): \tTotal Chunks: 93, Chunks in use: 90. 23.2KiB allocated for chunks. 22.5KiB in use in bin. 580B client-requested in use in bin.\n",
      "2022-06-20 17:17:29.293479: I tensorflow/core/common_runtime/bfc_allocator.cc:1034] Bin (512): \tTotal Chunks: 1, Chunks in use: 1. 512B allocated for chunks. 512B in use in bin. 400B client-requested in use in bin.\n",
      "2022-06-20 17:17:29.293487: I tensorflow/core/common_runtime/bfc_allocator.cc:1034] Bin (1024): \tTotal Chunks: 1, Chunks in use: 1. 1.2KiB allocated for chunks. 1.2KiB in use in bin. 1.0KiB client-requested in use in bin.\n",
      "2022-06-20 17:17:29.293496: I tensorflow/core/common_runtime/bfc_allocator.cc:1034] Bin (2048): \tTotal Chunks: 333, Chunks in use: 333. 999.5KiB allocated for chunks. 999.5KiB in use in bin. 998.0KiB client-requested in use in bin.\n",
      "2022-06-20 17:17:29.293504: I tensorflow/core/common_runtime/bfc_allocator.cc:1034] Bin (4096): \tTotal Chunks: 4, Chunks in use: 4. 23.8KiB allocated for chunks. 23.8KiB in use in bin. 21.0KiB client-requested in use in bin.\n",
      "2022-06-20 17:17:29.293513: I tensorflow/core/common_runtime/bfc_allocator.cc:1034] Bin (8192): \tTotal Chunks: 35, Chunks in use: 35. 429.2KiB allocated for chunks. 429.2KiB in use in bin. 420.0KiB client-requested in use in bin.\n",
      "2022-06-20 17:17:29.293522: I tensorflow/core/common_runtime/bfc_allocator.cc:1034] Bin (16384): \tTotal Chunks: 5, Chunks in use: 5. 114.2KiB allocated for chunks. 114.2KiB in use in bin. 96.0KiB client-requested in use in bin.\n",
      "2022-06-20 17:17:29.293529: I tensorflow/core/common_runtime/bfc_allocator.cc:1034] Bin (32768): \tTotal Chunks: 1, Chunks in use: 0. 38.0KiB allocated for chunks. 0B in use in bin. 0B client-requested in use in bin.\n",
      "2022-06-20 17:17:29.293536: I tensorflow/core/common_runtime/bfc_allocator.cc:1034] Bin (65536): \tTotal Chunks: 0, Chunks in use: 0. 0B allocated for chunks. 0B in use in bin. 0B client-requested in use in bin.\n",
      "2022-06-20 17:17:29.293544: I tensorflow/core/common_runtime/bfc_allocator.cc:1034] Bin (131072): \tTotal Chunks: 10, Chunks in use: 7. 2.02MiB allocated for chunks. 1.43MiB in use in bin. 1.43MiB client-requested in use in bin.\n",
      "2022-06-20 17:17:29.293552: I tensorflow/core/common_runtime/bfc_allocator.cc:1034] Bin (262144): \tTotal Chunks: 1, Chunks in use: 1. 459.0KiB allocated for chunks. 459.0KiB in use in bin. 234.4KiB client-requested in use in bin.\n",
      "2022-06-20 17:17:29.293560: I tensorflow/core/common_runtime/bfc_allocator.cc:1034] Bin (524288): \tTotal Chunks: 1, Chunks in use: 0. 701.5KiB allocated for chunks. 0B in use in bin. 0B client-requested in use in bin.\n",
      "2022-06-20 17:17:29.293567: I tensorflow/core/common_runtime/bfc_allocator.cc:1034] Bin (1048576): \tTotal Chunks: 2, Chunks in use: 2. 3.01MiB allocated for chunks. 3.01MiB in use in bin. 3.00MiB client-requested in use in bin.\n",
      "2022-06-20 17:17:29.293575: I tensorflow/core/common_runtime/bfc_allocator.cc:1034] Bin (2097152): \tTotal Chunks: 148, Chunks in use: 148. 336.00MiB allocated for chunks. 336.00MiB in use in bin. 332.25MiB client-requested in use in bin.\n",
      "2022-06-20 17:17:29.293583: I tensorflow/core/common_runtime/bfc_allocator.cc:1034] Bin (4194304): \tTotal Chunks: 0, Chunks in use: 0. 0B allocated for chunks. 0B in use in bin. 0B client-requested in use in bin.\n",
      "2022-06-20 17:17:29.293590: I tensorflow/core/common_runtime/bfc_allocator.cc:1034] Bin (8388608): \tTotal Chunks: 73, Chunks in use: 72. 665.47MiB allocated for chunks. 655.56MiB in use in bin. 648.00MiB client-requested in use in bin.\n",
      "2022-06-20 17:17:29.293598: I tensorflow/core/common_runtime/bfc_allocator.cc:1034] Bin (16777216): \tTotal Chunks: 4, Chunks in use: 4. 91.55MiB allocated for chunks. 91.55MiB in use in bin. 91.55MiB client-requested in use in bin.\n",
      "2022-06-20 17:17:29.293607: I tensorflow/core/common_runtime/bfc_allocator.cc:1034] Bin (33554432): \tTotal Chunks: 2, Chunks in use: 1. 88.14MiB allocated for chunks. 53.42MiB in use in bin. 45.77MiB client-requested in use in bin.\n",
      "2022-06-20 17:17:29.293615: I tensorflow/core/common_runtime/bfc_allocator.cc:1034] Bin (67108864): \tTotal Chunks: 2, Chunks in use: 2. 178.84MiB allocated for chunks. 178.84MiB in use in bin. 178.84MiB client-requested in use in bin.\n",
      "2022-06-20 17:17:29.293623: I tensorflow/core/common_runtime/bfc_allocator.cc:1034] Bin (134217728): \tTotal Chunks: 10, Chunks in use: 8. 1.45GiB allocated for chunks. 1.16GiB in use in bin. 1.11GiB client-requested in use in bin.\n",
      "2022-06-20 17:17:29.293636: I tensorflow/core/common_runtime/bfc_allocator.cc:1034] Bin (268435456): \tTotal Chunks: 0, Chunks in use: 0. 0B allocated for chunks. 0B in use in bin. 0B client-requested in use in bin.\n",
      "2022-06-20 17:17:29.293645: I tensorflow/core/common_runtime/bfc_allocator.cc:1050] Bin for 234.38MiB was 128.00MiB, Chunk State: \n",
      "2022-06-20 17:17:29.293659: I tensorflow/core/common_runtime/bfc_allocator.cc:1056]   Size: 149.16MiB | Requested Size: 12.0KiB | in_use: 0 | bin_num: 19, prev:   Size: 150.00MiB | Requested Size: 150.00MiB | in_use: 1 | bin_num: -1\n",
      "2022-06-20 17:17:29.293673: I tensorflow/core/common_runtime/bfc_allocator.cc:1056]   Size: 150.00MiB | Requested Size: 150.00MiB | in_use: 0 | bin_num: 19, prev:   Size: 150.00MiB | Requested Size: 150.00MiB | in_use: 1 | bin_num: -1, next:   Size: 150.00MiB | Requested Size: 150.00MiB | in_use: 1 | bin_num: -1\n",
      "2022-06-20 17:17:29.293681: I tensorflow/core/common_runtime/bfc_allocator.cc:1063] Next region of size 2992242688\n",
      "2022-06-20 17:17:29.293692: I tensorflow/core/common_runtime/bfc_allocator.cc:1083] InUse at 7fb200000000 of size 256 next 1\n",
      "2022-06-20 17:17:29.293700: I tensorflow/core/common_runtime/bfc_allocator.cc:1083] InUse at 7fb200000100 of size 1280 next 2\n",
      "2022-06-20 17:17:29.293706: I tensorflow/core/common_runtime/bfc_allocator.cc:1083] InUse at 7fb200000600 of size 256 next 3\n",
      "2022-06-20 17:17:29.293713: I tensorflow/core/common_runtime/bfc_allocator.cc:1083] InUse at 7fb200000700 of size 256 next 4\n",
      "2022-06-20 17:17:29.293719: I tensorflow/core/common_runtime/bfc_allocator.cc:1083] InUse at 7fb200000800 of size 256 next 5\n",
      "2022-06-20 17:17:29.293725: I tensorflow/core/common_runtime/bfc_allocator.cc:1083] InUse at 7fb200000900 of size 256 next 6\n",
      "2022-06-20 17:17:29.293731: I tensorflow/core/common_runtime/bfc_allocator.cc:1083] InUse at 7fb200000a00 of size 256 next 14\n",
      "2022-06-20 17:17:29.293737: I tensorflow/core/common_runtime/bfc_allocator.cc:1083] InUse at 7fb200000b00 of size 256 next 16\n",
      "2022-06-20 17:17:29.293742: I tensorflow/core/common_runtime/bfc_allocator.cc:1083] InUse at 7fb200000c00 of size 256 next 20\n",
      "2022-06-20 17:17:29.293748: I tensorflow/core/common_runtime/bfc_allocator.cc:1083] InUse at 7fb200000d00 of size 3072 next 21\n",
      "2022-06-20 17:17:29.293756: I tensorflow/core/common_runtime/bfc_allocator.cc:1083] InUse at 7fb200001900 of size 256 next 22\n",
      "2022-06-20 17:17:29.293762: I tensorflow/core/common_runtime/bfc_allocator.cc:1083] InUse at 7fb200001a00 of size 3072 next 23\n",
      "2022-06-20 17:17:29.293769: I tensorflow/core/common_runtime/bfc_allocator.cc:1083] InUse at 7fb200002600 of size 256 next 15\n",
      "2022-06-20 17:17:29.293775: I tensorflow/core/common_runtime/bfc_allocator.cc:1083] InUse at 7fb200002700 of size 256 next 25\n",
      "2022-06-20 17:17:29.293783: I tensorflow/core/common_runtime/bfc_allocator.cc:1083] InUse at 7fb200002800 of size 256 next 26\n",
      "2022-06-20 17:17:29.293790: I tensorflow/core/common_runtime/bfc_allocator.cc:1083] InUse at 7fb200002900 of size 256 next 17\n",
      "2022-06-20 17:17:29.293796: I tensorflow/core/common_runtime/bfc_allocator.cc:1083] InUse at 7fb200002a00 of size 3072 next 406\n",
      "2022-06-20 17:17:29.293803: I tensorflow/core/common_runtime/bfc_allocator.cc:1083] InUse at 7fb200003600 of size 3072 next 422\n",
      "2022-06-20 17:17:29.293809: I tensorflow/core/common_runtime/bfc_allocator.cc:1083] InUse at 7fb200004200 of size 3072 next 387\n",
      "2022-06-20 17:17:29.293815: I tensorflow/core/common_runtime/bfc_allocator.cc:1083] InUse at 7fb200004e00 of size 3072 next 418\n",
      "2022-06-20 17:17:29.293820: I tensorflow/core/common_runtime/bfc_allocator.cc:1083] InUse at 7fb200005a00 of size 3072 next 416\n",
      "2022-06-20 17:17:29.293826: I tensorflow/core/common_runtime/bfc_allocator.cc:1083] InUse at 7fb200006600 of size 3072 next 394\n",
      "2022-06-20 17:17:29.293832: I tensorflow/core/common_runtime/bfc_allocator.cc:1083] InUse at 7fb200007200 of size 3072 next 413\n",
      "2022-06-20 17:17:29.293839: I tensorflow/core/common_runtime/bfc_allocator.cc:1083] InUse at 7fb200007e00 of size 3072 next 389\n",
      "2022-06-20 17:17:29.293846: I tensorflow/core/common_runtime/bfc_allocator.cc:1083] InUse at 7fb200008a00 of size 3840 next 39\n",
      "2022-06-20 17:17:29.293852: I tensorflow/core/common_runtime/bfc_allocator.cc:1083] InUse at 7fb200009900 of size 256 next 43\n",
      "2022-06-20 17:17:29.293858: I tensorflow/core/common_runtime/bfc_allocator.cc:1083] InUse at 7fb200009a00 of size 256 next 45\n",
      "2022-06-20 17:17:29.293864: I tensorflow/core/common_runtime/bfc_allocator.cc:1083] InUse at 7fb200009b00 of size 3072 next 383\n",
      "2022-06-20 17:17:29.293869: I tensorflow/core/common_runtime/bfc_allocator.cc:1083] InUse at 7fb20000a700 of size 3072 next 357\n",
      "2022-06-20 17:17:29.293874: I tensorflow/core/common_runtime/bfc_allocator.cc:1083] InUse at 7fb20000b300 of size 3072 next 378\n",
      "2022-06-20 17:17:29.293879: I tensorflow/core/common_runtime/bfc_allocator.cc:1083] InUse at 7fb20000bf00 of size 3072 next 377\n",
      "2022-06-20 17:17:29.293885: I tensorflow/core/common_runtime/bfc_allocator.cc:1083] InUse at 7fb20000cb00 of size 3072 next 361\n",
      "2022-06-20 17:17:29.293890: I tensorflow/core/common_runtime/bfc_allocator.cc:1083] InUse at 7fb20000d700 of size 3072 next 354\n",
      "2022-06-20 17:17:29.293896: I tensorflow/core/common_runtime/bfc_allocator.cc:1083] InUse at 7fb20000e300 of size 3072 next 371\n",
      "2022-06-20 17:17:29.293902: I tensorflow/core/common_runtime/bfc_allocator.cc:1083] InUse at 7fb20000ef00 of size 3072 next 245\n",
      "2022-06-20 17:17:29.293909: I tensorflow/core/common_runtime/bfc_allocator.cc:1083] InUse at 7fb20000fb00 of size 3072 next 358\n",
      "2022-06-20 17:17:29.293915: I tensorflow/core/common_runtime/bfc_allocator.cc:1083] InUse at 7fb200010700 of size 21760 next 231\n",
      "2022-06-20 17:17:29.293922: I tensorflow/core/common_runtime/bfc_allocator.cc:1083] InUse at 7fb200015c00 of size 256 next 52\n",
      "2022-06-20 17:17:29.293927: I tensorflow/core/common_runtime/bfc_allocator.cc:1083] InUse at 7fb200015d00 of size 256 next 235\n",
      "2022-06-20 17:17:29.293933: I tensorflow/core/common_runtime/bfc_allocator.cc:1083] InUse at 7fb200015e00 of size 256 next 239\n",
      "2022-06-20 17:17:29.293938: I tensorflow/core/common_runtime/bfc_allocator.cc:1083] InUse at 7fb200015f00 of size 256 next 409\n",
      "2022-06-20 17:17:29.293943: I tensorflow/core/common_runtime/bfc_allocator.cc:1083] InUse at 7fb200016000 of size 256 next 68\n",
      "2022-06-20 17:17:29.293952: I tensorflow/core/common_runtime/bfc_allocator.cc:1083] InUse at 7fb200016100 of size 256 next 430\n",
      "2022-06-20 17:17:29.293960: I tensorflow/core/common_runtime/bfc_allocator.cc:1083] InUse at 7fb200016200 of size 256 next 374\n",
      "2022-06-20 17:17:29.293970: I tensorflow/core/common_runtime/bfc_allocator.cc:1083] InUse at 7fb200016300 of size 256 next 445\n",
      "2022-06-20 17:17:29.293976: I tensorflow/core/common_runtime/bfc_allocator.cc:1083] InUse at 7fb200016400 of size 256 next 645\n",
      "2022-06-20 17:17:29.293982: I tensorflow/core/common_runtime/bfc_allocator.cc:1083] InUse at 7fb200016500 of size 256 next 636\n",
      "2022-06-20 17:17:29.293989: I tensorflow/core/common_runtime/bfc_allocator.cc:1083] InUse at 7fb200016600 of size 1579264 next 240\n",
      "2022-06-20 17:17:29.293995: I tensorflow/core/common_runtime/bfc_allocator.cc:1083] InUse at 7fb200197f00 of size 3072 next 241\n",
      "2022-06-20 17:17:29.294001: I tensorflow/core/common_runtime/bfc_allocator.cc:1083] InUse at 7fb200198b00 of size 3072 next 209\n",
      "2022-06-20 17:17:29.294007: I tensorflow/core/common_runtime/bfc_allocator.cc:1083] InUse at 7fb200199700 of size 2359296 next 143\n",
      "2022-06-20 17:17:29.294015: I tensorflow/core/common_runtime/bfc_allocator.cc:1083] InUse at 7fb2003d9700 of size 3072 next 242\n",
      "2022-06-20 17:17:29.294022: I tensorflow/core/common_runtime/bfc_allocator.cc:1083] InUse at 7fb2003da300 of size 2359296 next 232\n",
      "2022-06-20 17:17:29.294028: I tensorflow/core/common_runtime/bfc_allocator.cc:1083] InUse at 7fb20061a300 of size 3072 next 178\n",
      "2022-06-20 17:17:29.294033: I tensorflow/core/common_runtime/bfc_allocator.cc:1083] InUse at 7fb20061af00 of size 2359296 next 144\n",
      "2022-06-20 17:17:29.294038: I tensorflow/core/common_runtime/bfc_allocator.cc:1083] InUse at 7fb20085af00 of size 3072 next 216\n",
      "2022-06-20 17:17:29.294044: I tensorflow/core/common_runtime/bfc_allocator.cc:1083] InUse at 7fb20085bb00 of size 2359296 next 207\n",
      "2022-06-20 17:17:29.294050: I tensorflow/core/common_runtime/bfc_allocator.cc:1083] InUse at 7fb200a9bb00 of size 3072 next 220\n",
      "2022-06-20 17:17:29.294055: I tensorflow/core/common_runtime/bfc_allocator.cc:1083] InUse at 7fb200a9c700 of size 3072 next 214\n",
      "2022-06-20 17:17:29.294060: I tensorflow/core/common_runtime/bfc_allocator.cc:1083] InUse at 7fb200a9d300 of size 3072 next 204\n",
      "2022-06-20 17:17:29.294066: I tensorflow/core/common_runtime/bfc_allocator.cc:1083] InUse at 7fb200a9df00 of size 9437184 next 225\n",
      "2022-06-20 17:17:29.294073: I tensorflow/core/common_runtime/bfc_allocator.cc:1083] InUse at 7fb20139df00 of size 12288 next 203\n",
      "2022-06-20 17:17:29.294079: I tensorflow/core/common_runtime/bfc_allocator.cc:1083] InUse at 7fb2013a0f00 of size 9437184 next 218\n",
      "2022-06-20 17:17:29.294085: I tensorflow/core/common_runtime/bfc_allocator.cc:1083] InUse at 7fb201ca0f00 of size 3072 next 147\n",
      "2022-06-20 17:17:29.294091: I tensorflow/core/common_runtime/bfc_allocator.cc:1083] InUse at 7fb201ca1b00 of size 3072 next 221\n",
      "2022-06-20 17:17:29.294096: I tensorflow/core/common_runtime/bfc_allocator.cc:1083] InUse at 7fb201ca2700 of size 3072 next 219\n",
      "2022-06-20 17:17:29.294102: I tensorflow/core/common_runtime/bfc_allocator.cc:1083] InUse at 7fb201ca3300 of size 2359296 next 205\n",
      "2022-06-20 17:17:29.294108: I tensorflow/core/common_runtime/bfc_allocator.cc:1083] InUse at 7fb201ee3300 of size 3072 next 217\n",
      "2022-06-20 17:17:29.294114: I tensorflow/core/common_runtime/bfc_allocator.cc:1083] InUse at 7fb201ee3f00 of size 2359296 next 206\n",
      "2022-06-20 17:17:29.294120: I tensorflow/core/common_runtime/bfc_allocator.cc:1083] InUse at 7fb202123f00 of size 3072 next 198\n",
      "2022-06-20 17:17:29.294125: I tensorflow/core/common_runtime/bfc_allocator.cc:1083] InUse at 7fb202124b00 of size 2359296 next 210\n",
      "2022-06-20 17:17:29.294130: I tensorflow/core/common_runtime/bfc_allocator.cc:1083] InUse at 7fb202364b00 of size 3072 next 212\n",
      "2022-06-20 17:17:29.294136: I tensorflow/core/common_runtime/bfc_allocator.cc:1083] InUse at 7fb202365700 of size 2359296 next 184\n",
      "2022-06-20 17:17:29.294142: I tensorflow/core/common_runtime/bfc_allocator.cc:1083] InUse at 7fb2025a5700 of size 3072 next 211\n",
      "2022-06-20 17:17:29.294148: I tensorflow/core/common_runtime/bfc_allocator.cc:1083] InUse at 7fb2025a6300 of size 3072 next 192\n",
      "2022-06-20 17:17:29.294153: I tensorflow/core/common_runtime/bfc_allocator.cc:1083] InUse at 7fb2025a6f00 of size 3072 next 208\n",
      "2022-06-20 17:17:29.294158: I tensorflow/core/common_runtime/bfc_allocator.cc:1083] InUse at 7fb2025a7b00 of size 9437184 next 199\n",
      "2022-06-20 17:17:29.294164: I tensorflow/core/common_runtime/bfc_allocator.cc:1083] InUse at 7fb202ea7b00 of size 12288 next 188\n",
      "2022-06-20 17:17:29.294169: I tensorflow/core/common_runtime/bfc_allocator.cc:1083] InUse at 7fb202eaab00 of size 9437184 next 194\n",
      "2022-06-20 17:17:29.294175: I tensorflow/core/common_runtime/bfc_allocator.cc:1083] InUse at 7fb2037aab00 of size 3072 next 181\n",
      "2022-06-20 17:17:29.294180: I tensorflow/core/common_runtime/bfc_allocator.cc:1083] InUse at 7fb2037ab700 of size 3072 next 200\n",
      "2022-06-20 17:17:29.294185: I tensorflow/core/common_runtime/bfc_allocator.cc:1083] InUse at 7fb2037ac300 of size 3072 next 202\n",
      "2022-06-20 17:17:29.294191: I tensorflow/core/common_runtime/bfc_allocator.cc:1083] InUse at 7fb2037acf00 of size 2359296 next 195\n",
      "2022-06-20 17:17:29.294196: I tensorflow/core/common_runtime/bfc_allocator.cc:1083] InUse at 7fb2039ecf00 of size 3072 next 201\n",
      "2022-06-20 17:17:29.294202: I tensorflow/core/common_runtime/bfc_allocator.cc:1083] InUse at 7fb2039edb00 of size 2359296 next 197\n",
      "2022-06-20 17:17:29.294208: I tensorflow/core/common_runtime/bfc_allocator.cc:1083] InUse at 7fb203c2db00 of size 3072 next 193\n",
      "2022-06-20 17:17:29.294215: I tensorflow/core/common_runtime/bfc_allocator.cc:1083] InUse at 7fb203c2e700 of size 2359296 next 189\n",
      "2022-06-20 17:17:29.294221: I tensorflow/core/common_runtime/bfc_allocator.cc:1083] InUse at 7fb203e6e700 of size 3072 next 196\n",
      "2022-06-20 17:17:29.294227: I tensorflow/core/common_runtime/bfc_allocator.cc:1083] InUse at 7fb203e6f300 of size 2359296 next 183\n",
      "2022-06-20 17:17:29.294232: I tensorflow/core/common_runtime/bfc_allocator.cc:1083] InUse at 7fb2040af300 of size 3072 next 182\n",
      "2022-06-20 17:17:29.294238: I tensorflow/core/common_runtime/bfc_allocator.cc:1083] InUse at 7fb2040aff00 of size 3072 next 161\n",
      "2022-06-20 17:17:29.294244: I tensorflow/core/common_runtime/bfc_allocator.cc:1083] InUse at 7fb2040b0b00 of size 3072 next 191\n",
      "2022-06-20 17:17:29.294249: I tensorflow/core/common_runtime/bfc_allocator.cc:1083] InUse at 7fb2040b1700 of size 9437184 next 190\n",
      "2022-06-20 17:17:29.294255: I tensorflow/core/common_runtime/bfc_allocator.cc:1083] InUse at 7fb2049b1700 of size 12288 next 185\n",
      "2022-06-20 17:17:29.294260: I tensorflow/core/common_runtime/bfc_allocator.cc:1083] InUse at 7fb2049b4700 of size 9437184 next 187\n",
      "2022-06-20 17:17:29.294266: I tensorflow/core/common_runtime/bfc_allocator.cc:1083] InUse at 7fb2052b4700 of size 3072 next 170\n",
      "2022-06-20 17:17:29.294271: I tensorflow/core/common_runtime/bfc_allocator.cc:1083] InUse at 7fb2052b5300 of size 3072 next 186\n",
      "2022-06-20 17:17:29.294277: I tensorflow/core/common_runtime/bfc_allocator.cc:1083] InUse at 7fb2052b5f00 of size 3072 next 174\n",
      "2022-06-20 17:17:29.294282: I tensorflow/core/common_runtime/bfc_allocator.cc:1083] InUse at 7fb2052b6b00 of size 2359296 next 172\n",
      "2022-06-20 17:17:29.294287: I tensorflow/core/common_runtime/bfc_allocator.cc:1083] InUse at 7fb2054f6b00 of size 3072 next 180\n",
      "2022-06-20 17:17:29.294293: I tensorflow/core/common_runtime/bfc_allocator.cc:1083] InUse at 7fb2054f7700 of size 2359296 next 160\n",
      "2022-06-20 17:17:29.294298: I tensorflow/core/common_runtime/bfc_allocator.cc:1083] InUse at 7fb205737700 of size 3072 next 166\n",
      "2022-06-20 17:17:29.294304: I tensorflow/core/common_runtime/bfc_allocator.cc:1083] InUse at 7fb205738300 of size 2359296 next 176\n",
      "2022-06-20 17:17:29.294309: I tensorflow/core/common_runtime/bfc_allocator.cc:1083] InUse at 7fb205978300 of size 3072 next 171\n",
      "2022-06-20 17:17:29.294314: I tensorflow/core/common_runtime/bfc_allocator.cc:1083] InUse at 7fb205978f00 of size 2359296 next 179\n",
      "2022-06-20 17:17:29.294320: I tensorflow/core/common_runtime/bfc_allocator.cc:1083] InUse at 7fb205bb8f00 of size 3072 next 169\n",
      "2022-06-20 17:17:29.294325: I tensorflow/core/common_runtime/bfc_allocator.cc:1083] InUse at 7fb205bb9b00 of size 3072 next 163\n",
      "2022-06-20 17:17:29.294330: I tensorflow/core/common_runtime/bfc_allocator.cc:1083] InUse at 7fb205bba700 of size 3072 next 175\n",
      "2022-06-20 17:17:29.294336: I tensorflow/core/common_runtime/bfc_allocator.cc:1083] InUse at 7fb205bbb300 of size 9437184 next 157\n",
      "2022-06-20 17:17:29.294341: I tensorflow/core/common_runtime/bfc_allocator.cc:1083] InUse at 7fb2064bb300 of size 12288 next 156\n",
      "2022-06-20 17:17:29.294347: I tensorflow/core/common_runtime/bfc_allocator.cc:1083] InUse at 7fb2064be300 of size 9437184 next 173\n",
      "2022-06-20 17:17:29.294352: I tensorflow/core/common_runtime/bfc_allocator.cc:1083] InUse at 7fb206dbe300 of size 3072 next 8\n",
      "2022-06-20 17:17:29.294358: I tensorflow/core/common_runtime/bfc_allocator.cc:1083] InUse at 7fb206dbef00 of size 3072 next 167\n",
      "2022-06-20 17:17:29.294364: I tensorflow/core/common_runtime/bfc_allocator.cc:1083] InUse at 7fb206dbfb00 of size 3072 next 152\n",
      "2022-06-20 17:17:29.294369: I tensorflow/core/common_runtime/bfc_allocator.cc:1083] InUse at 7fb206dc0700 of size 2359296 next 145\n",
      "2022-06-20 17:17:29.294374: I tensorflow/core/common_runtime/bfc_allocator.cc:1083] InUse at 7fb207000700 of size 3072 next 138\n",
      "2022-06-20 17:17:29.294380: I tensorflow/core/common_runtime/bfc_allocator.cc:1083] InUse at 7fb207001300 of size 2359296 next 168\n",
      "2022-06-20 17:17:29.294385: I tensorflow/core/common_runtime/bfc_allocator.cc:1083] InUse at 7fb207241300 of size 3072 next 165\n",
      "2022-06-20 17:17:29.294390: I tensorflow/core/common_runtime/bfc_allocator.cc:1083] InUse at 7fb207241f00 of size 2359296 next 142\n",
      "2022-06-20 17:17:29.294395: I tensorflow/core/common_runtime/bfc_allocator.cc:1083] InUse at 7fb207481f00 of size 3072 next 162\n",
      "2022-06-20 17:17:29.294400: I tensorflow/core/common_runtime/bfc_allocator.cc:1083] InUse at 7fb207482b00 of size 2359296 next 164\n",
      "2022-06-20 17:17:29.294405: I tensorflow/core/common_runtime/bfc_allocator.cc:1083] InUse at 7fb2076c2b00 of size 3072 next 150\n",
      "2022-06-20 17:17:29.294411: I tensorflow/core/common_runtime/bfc_allocator.cc:1083] InUse at 7fb2076c3700 of size 3072 next 149\n",
      "2022-06-20 17:17:29.294416: I tensorflow/core/common_runtime/bfc_allocator.cc:1083] InUse at 7fb2076c4300 of size 3072 next 137\n",
      "2022-06-20 17:17:29.294421: I tensorflow/core/common_runtime/bfc_allocator.cc:1083] InUse at 7fb2076c4f00 of size 9437184 next 159\n",
      "2022-06-20 17:17:29.294426: I tensorflow/core/common_runtime/bfc_allocator.cc:1083] InUse at 7fb207fc4f00 of size 12288 next 153\n",
      "2022-06-20 17:17:29.294431: I tensorflow/core/common_runtime/bfc_allocator.cc:1083] InUse at 7fb207fc7f00 of size 9437184 next 158\n",
      "2022-06-20 17:17:29.294436: I tensorflow/core/common_runtime/bfc_allocator.cc:1083] InUse at 7fb2088c7f00 of size 3072 next 151\n",
      "2022-06-20 17:17:29.294442: I tensorflow/core/common_runtime/bfc_allocator.cc:1083] InUse at 7fb2088c8b00 of size 3072 next 154\n",
      "2022-06-20 17:17:29.294447: I tensorflow/core/common_runtime/bfc_allocator.cc:1083] InUse at 7fb2088c9700 of size 3072 next 135\n",
      "2022-06-20 17:17:29.294452: I tensorflow/core/common_runtime/bfc_allocator.cc:1083] InUse at 7fb2088ca300 of size 2359296 next 27\n",
      "2022-06-20 17:17:29.294457: I tensorflow/core/common_runtime/bfc_allocator.cc:1083] InUse at 7fb208b0a300 of size 3072 next 140\n",
      "2022-06-20 17:17:29.294463: I tensorflow/core/common_runtime/bfc_allocator.cc:1083] InUse at 7fb208b0af00 of size 2359296 next 155\n",
      "2022-06-20 17:17:29.294468: I tensorflow/core/common_runtime/bfc_allocator.cc:1083] InUse at 7fb208d4af00 of size 3072 next 148\n",
      "2022-06-20 17:17:29.294473: I tensorflow/core/common_runtime/bfc_allocator.cc:1083] InUse at 7fb208d4bb00 of size 2359296 next 129\n",
      "2022-06-20 17:17:29.294478: I tensorflow/core/common_runtime/bfc_allocator.cc:1083] InUse at 7fb208f8bb00 of size 3072 next 136\n",
      "2022-06-20 17:17:29.294483: I tensorflow/core/common_runtime/bfc_allocator.cc:1083] InUse at 7fb208f8c700 of size 2359296 next 125\n",
      "2022-06-20 17:17:29.294488: I tensorflow/core/common_runtime/bfc_allocator.cc:1083] InUse at 7fb2091cc700 of size 3072 next 110\n",
      "2022-06-20 17:17:29.294493: I tensorflow/core/common_runtime/bfc_allocator.cc:1083] InUse at 7fb2091cd300 of size 3072 next 91\n",
      "2022-06-20 17:17:29.294499: I tensorflow/core/common_runtime/bfc_allocator.cc:1083] InUse at 7fb2091cdf00 of size 3072 next 226\n",
      "2022-06-20 17:17:29.294504: I tensorflow/core/common_runtime/bfc_allocator.cc:1083] InUse at 7fb2091ceb00 of size 9437184 next 146\n",
      "2022-06-20 17:17:29.294509: I tensorflow/core/common_runtime/bfc_allocator.cc:1083] InUse at 7fb209aceb00 of size 12288 next 131\n",
      "2022-06-20 17:17:29.294514: I tensorflow/core/common_runtime/bfc_allocator.cc:1083] InUse at 7fb209ad1b00 of size 9437184 next 109\n",
      "2022-06-20 17:17:29.294519: I tensorflow/core/common_runtime/bfc_allocator.cc:1083] InUse at 7fb20a3d1b00 of size 3072 next 123\n",
      "2022-06-20 17:17:29.294524: I tensorflow/core/common_runtime/bfc_allocator.cc:1083] InUse at 7fb20a3d2700 of size 3072 next 132\n",
      "2022-06-20 17:17:29.294530: I tensorflow/core/common_runtime/bfc_allocator.cc:1083] InUse at 7fb20a3d3300 of size 3072 next 139\n",
      "2022-06-20 17:17:29.294535: I tensorflow/core/common_runtime/bfc_allocator.cc:1083] InUse at 7fb20a3d3f00 of size 2359296 next 11\n",
      "2022-06-20 17:17:29.294540: I tensorflow/core/common_runtime/bfc_allocator.cc:1083] InUse at 7fb20a613f00 of size 3072 next 134\n",
      "2022-06-20 17:17:29.294545: I tensorflow/core/common_runtime/bfc_allocator.cc:1083] InUse at 7fb20a614b00 of size 2359296 next 127\n",
      "2022-06-20 17:17:29.294550: I tensorflow/core/common_runtime/bfc_allocator.cc:1083] InUse at 7fb20a854b00 of size 3072 next 121\n",
      "2022-06-20 17:17:29.294555: I tensorflow/core/common_runtime/bfc_allocator.cc:1083] InUse at 7fb20a855700 of size 2359296 next 130\n",
      "2022-06-20 17:17:29.294560: I tensorflow/core/common_runtime/bfc_allocator.cc:1083] InUse at 7fb20aa95700 of size 3072 next 133\n",
      "2022-06-20 17:17:29.294566: I tensorflow/core/common_runtime/bfc_allocator.cc:1083] InUse at 7fb20aa96300 of size 2359296 next 119\n",
      "2022-06-20 17:17:29.294571: I tensorflow/core/common_runtime/bfc_allocator.cc:1083] InUse at 7fb20acd6300 of size 3072 next 92\n",
      "2022-06-20 17:17:29.294576: I tensorflow/core/common_runtime/bfc_allocator.cc:1083] InUse at 7fb20acd6f00 of size 3072 next 87\n",
      "2022-06-20 17:17:29.294581: I tensorflow/core/common_runtime/bfc_allocator.cc:1083] InUse at 7fb20acd7b00 of size 3072 next 128\n",
      "2022-06-20 17:17:29.294586: I tensorflow/core/common_runtime/bfc_allocator.cc:1083] InUse at 7fb20acd8700 of size 9437184 next 98\n",
      "2022-06-20 17:17:29.294592: I tensorflow/core/common_runtime/bfc_allocator.cc:1083] InUse at 7fb20b5d8700 of size 12288 next 118\n",
      "2022-06-20 17:17:29.294597: I tensorflow/core/common_runtime/bfc_allocator.cc:1083] InUse at 7fb20b5db700 of size 9437184 next 93\n",
      "2022-06-20 17:17:29.294602: I tensorflow/core/common_runtime/bfc_allocator.cc:1083] InUse at 7fb20bedb700 of size 3072 next 126\n",
      "2022-06-20 17:17:29.294607: I tensorflow/core/common_runtime/bfc_allocator.cc:1083] InUse at 7fb20bedc300 of size 3072 next 122\n",
      "2022-06-20 17:17:29.294612: I tensorflow/core/common_runtime/bfc_allocator.cc:1083] InUse at 7fb20bedcf00 of size 3072 next 102\n",
      "2022-06-20 17:17:29.294617: I tensorflow/core/common_runtime/bfc_allocator.cc:1083] InUse at 7fb20beddb00 of size 2359296 next 108\n",
      "2022-06-20 17:17:29.294622: I tensorflow/core/common_runtime/bfc_allocator.cc:1083] InUse at 7fb20c11db00 of size 3072 next 28\n",
      "2022-06-20 17:17:29.294628: I tensorflow/core/common_runtime/bfc_allocator.cc:1083] InUse at 7fb20c11e700 of size 2359296 next 29\n",
      "2022-06-20 17:17:29.294633: I tensorflow/core/common_runtime/bfc_allocator.cc:1083] InUse at 7fb20c35e700 of size 3072 next 120\n",
      "2022-06-20 17:17:29.294638: I tensorflow/core/common_runtime/bfc_allocator.cc:1083] InUse at 7fb20c35f300 of size 2359296 next 114\n",
      "2022-06-20 17:17:29.294643: I tensorflow/core/common_runtime/bfc_allocator.cc:1083] InUse at 7fb20c59f300 of size 3072 next 105\n",
      "2022-06-20 17:17:29.294648: I tensorflow/core/common_runtime/bfc_allocator.cc:1083] InUse at 7fb20c59ff00 of size 2359296 next 112\n",
      "2022-06-20 17:17:29.294653: I tensorflow/core/common_runtime/bfc_allocator.cc:1083] InUse at 7fb20c7dff00 of size 3072 next 117\n",
      "2022-06-20 17:17:29.294658: I tensorflow/core/common_runtime/bfc_allocator.cc:1083] InUse at 7fb20c7e0b00 of size 3072 next 104\n",
      "2022-06-20 17:17:29.294664: I tensorflow/core/common_runtime/bfc_allocator.cc:1083] InUse at 7fb20c7e1700 of size 3072 next 116\n",
      "2022-06-20 17:17:29.294669: I tensorflow/core/common_runtime/bfc_allocator.cc:1083] InUse at 7fb20c7e2300 of size 9437184 next 80\n",
      "2022-06-20 17:17:29.294674: I tensorflow/core/common_runtime/bfc_allocator.cc:1083] InUse at 7fb20d0e2300 of size 12288 next 115\n",
      "2022-06-20 17:17:29.294679: I tensorflow/core/common_runtime/bfc_allocator.cc:1083] InUse at 7fb20d0e5300 of size 9437184 next 99\n",
      "2022-06-20 17:17:29.294684: I tensorflow/core/common_runtime/bfc_allocator.cc:1083] InUse at 7fb20d9e5300 of size 3072 next 71\n",
      "2022-06-20 17:17:29.294690: I tensorflow/core/common_runtime/bfc_allocator.cc:1083] InUse at 7fb20d9e5f00 of size 3072 next 111\n",
      "2022-06-20 17:17:29.294695: I tensorflow/core/common_runtime/bfc_allocator.cc:1083] InUse at 7fb20d9e6b00 of size 3072 next 113\n",
      "2022-06-20 17:17:29.294700: I tensorflow/core/common_runtime/bfc_allocator.cc:1083] InUse at 7fb20d9e7700 of size 2359296 next 103\n",
      "2022-06-20 17:17:29.294705: I tensorflow/core/common_runtime/bfc_allocator.cc:1083] InUse at 7fb20dc27700 of size 3072 next 107\n",
      "2022-06-20 17:17:29.294710: I tensorflow/core/common_runtime/bfc_allocator.cc:1083] InUse at 7fb20dc28300 of size 2359296 next 88\n",
      "2022-06-20 17:17:29.294715: I tensorflow/core/common_runtime/bfc_allocator.cc:1083] InUse at 7fb20de68300 of size 3072 next 101\n",
      "2022-06-20 17:17:29.294720: I tensorflow/core/common_runtime/bfc_allocator.cc:1083] InUse at 7fb20de68f00 of size 2359296 next 100\n",
      "2022-06-20 17:17:29.294725: I tensorflow/core/common_runtime/bfc_allocator.cc:1083] InUse at 7fb20e0a8f00 of size 3072 next 96\n",
      "2022-06-20 17:17:29.294730: I tensorflow/core/common_runtime/bfc_allocator.cc:1083] InUse at 7fb20e0a9b00 of size 2359296 next 97\n",
      "2022-06-20 17:17:29.294736: I tensorflow/core/common_runtime/bfc_allocator.cc:1083] InUse at 7fb20e2e9b00 of size 3072 next 89\n",
      "2022-06-20 17:17:29.294741: I tensorflow/core/common_runtime/bfc_allocator.cc:1083] InUse at 7fb20e2ea700 of size 3072 next 70\n",
      "2022-06-20 17:17:29.294746: I tensorflow/core/common_runtime/bfc_allocator.cc:1083] InUse at 7fb20e2eb300 of size 3072 next 62\n",
      "2022-06-20 17:17:29.294751: I tensorflow/core/common_runtime/bfc_allocator.cc:1083] InUse at 7fb20e2ebf00 of size 9437184 next 95\n",
      "2022-06-20 17:17:29.294756: I tensorflow/core/common_runtime/bfc_allocator.cc:1083] InUse at 7fb20ebebf00 of size 12288 next 77\n",
      "2022-06-20 17:17:29.294761: I tensorflow/core/common_runtime/bfc_allocator.cc:1083] InUse at 7fb20ebeef00 of size 9437184 next 60\n",
      "2022-06-20 17:17:29.294767: I tensorflow/core/common_runtime/bfc_allocator.cc:1083] InUse at 7fb20f4eef00 of size 3072 next 94\n",
      "2022-06-20 17:17:29.294772: I tensorflow/core/common_runtime/bfc_allocator.cc:1083] InUse at 7fb20f4efb00 of size 3072 next 50\n",
      "2022-06-20 17:17:29.294777: I tensorflow/core/common_runtime/bfc_allocator.cc:1083] InUse at 7fb20f4f0700 of size 3072 next 64\n",
      "2022-06-20 17:17:29.294782: I tensorflow/core/common_runtime/bfc_allocator.cc:1083] InUse at 7fb20f4f1300 of size 2359296 next 85\n",
      "2022-06-20 17:17:29.294787: I tensorflow/core/common_runtime/bfc_allocator.cc:1083] InUse at 7fb20f731300 of size 3072 next 79\n",
      "2022-06-20 17:17:29.294792: I tensorflow/core/common_runtime/bfc_allocator.cc:1083] InUse at 7fb20f731f00 of size 2359296 next 90\n",
      "2022-06-20 17:17:29.294797: I tensorflow/core/common_runtime/bfc_allocator.cc:1083] InUse at 7fb20f971f00 of size 3072 next 65\n",
      "2022-06-20 17:17:29.294802: I tensorflow/core/common_runtime/bfc_allocator.cc:1083] InUse at 7fb20f972b00 of size 2359296 next 78\n",
      "2022-06-20 17:17:29.294807: I tensorflow/core/common_runtime/bfc_allocator.cc:1083] InUse at 7fb20fbb2b00 of size 3072 next 84\n",
      "2022-06-20 17:17:29.294813: I tensorflow/core/common_runtime/bfc_allocator.cc:1083] InUse at 7fb20fbb3700 of size 2359296 next 83\n",
      "2022-06-20 17:17:29.294818: I tensorflow/core/common_runtime/bfc_allocator.cc:1083] InUse at 7fb20fdf3700 of size 3072 next 73\n",
      "2022-06-20 17:17:29.294823: I tensorflow/core/common_runtime/bfc_allocator.cc:1083] InUse at 7fb20fdf4300 of size 3072 next 72\n",
      "2022-06-20 17:17:29.294828: I tensorflow/core/common_runtime/bfc_allocator.cc:1083] InUse at 7fb20fdf4f00 of size 3072 next 86\n",
      "2022-06-20 17:17:29.294833: I tensorflow/core/common_runtime/bfc_allocator.cc:1083] InUse at 7fb20fdf5b00 of size 9437184 next 41\n",
      "2022-06-20 17:17:29.294839: I tensorflow/core/common_runtime/bfc_allocator.cc:1083] InUse at 7fb2106f5b00 of size 12288 next 82\n",
      "2022-06-20 17:17:29.294844: I tensorflow/core/common_runtime/bfc_allocator.cc:1083] InUse at 7fb2106f8b00 of size 9437184 next 81\n",
      "2022-06-20 17:17:29.294849: I tensorflow/core/common_runtime/bfc_allocator.cc:1083] InUse at 7fb210ff8b00 of size 3072 next 74\n",
      "2022-06-20 17:17:29.294854: I tensorflow/core/common_runtime/bfc_allocator.cc:1083] InUse at 7fb210ff9700 of size 3072 next 76\n",
      "2022-06-20 17:17:29.294859: I tensorflow/core/common_runtime/bfc_allocator.cc:1083] InUse at 7fb210ffa300 of size 3072 next 75\n",
      "2022-06-20 17:17:29.294864: I tensorflow/core/common_runtime/bfc_allocator.cc:1083] InUse at 7fb210ffaf00 of size 2359296 next 61\n",
      "2022-06-20 17:17:29.294869: I tensorflow/core/common_runtime/bfc_allocator.cc:1083] InUse at 7fb21123af00 of size 3072 next 69\n",
      "2022-06-20 17:17:29.294874: I tensorflow/core/common_runtime/bfc_allocator.cc:1083] InUse at 7fb21123bb00 of size 2359296 next 55\n",
      "2022-06-20 17:17:29.294879: I tensorflow/core/common_runtime/bfc_allocator.cc:1083] InUse at 7fb21147bb00 of size 3072 next 66\n",
      "2022-06-20 17:17:29.294885: I tensorflow/core/common_runtime/bfc_allocator.cc:1083] InUse at 7fb21147c700 of size 2359296 next 67\n",
      "2022-06-20 17:17:29.294890: I tensorflow/core/common_runtime/bfc_allocator.cc:1083] InUse at 7fb2116bc700 of size 3072 next 53\n",
      "2022-06-20 17:17:29.294895: I tensorflow/core/common_runtime/bfc_allocator.cc:1083] InUse at 7fb2116bd300 of size 2359296 next 32\n",
      "2022-06-20 17:17:29.294900: I tensorflow/core/common_runtime/bfc_allocator.cc:1083] InUse at 7fb2118fd300 of size 3072 next 58\n",
      "2022-06-20 17:17:29.294905: I tensorflow/core/common_runtime/bfc_allocator.cc:1083] InUse at 7fb2118fdf00 of size 3072 next 63\n",
      "2022-06-20 17:17:29.294910: I tensorflow/core/common_runtime/bfc_allocator.cc:1083] InUse at 7fb2118feb00 of size 3072 next 51\n",
      "2022-06-20 17:17:29.294916: I tensorflow/core/common_runtime/bfc_allocator.cc:1083] InUse at 7fb2118ff700 of size 9437184 next 57\n",
      "2022-06-20 17:17:29.294921: I tensorflow/core/common_runtime/bfc_allocator.cc:1083] InUse at 7fb2121ff700 of size 12288 next 42\n",
      "2022-06-20 17:17:29.294926: I tensorflow/core/common_runtime/bfc_allocator.cc:1083] InUse at 7fb212202700 of size 9437184 next 56\n",
      "2022-06-20 17:17:29.294931: I tensorflow/core/common_runtime/bfc_allocator.cc:1083] InUse at 7fb212b02700 of size 3072 next 59\n",
      "2022-06-20 17:17:29.294937: I tensorflow/core/common_runtime/bfc_allocator.cc:1083] InUse at 7fb212b03300 of size 3072 next 35\n",
      "2022-06-20 17:17:29.294942: I tensorflow/core/common_runtime/bfc_allocator.cc:1083] InUse at 7fb212b03f00 of size 3072 next 54\n",
      "2022-06-20 17:17:29.294947: I tensorflow/core/common_runtime/bfc_allocator.cc:1083] InUse at 7fb212b04b00 of size 2359296 next 12\n",
      "2022-06-20 17:17:29.294952: I tensorflow/core/common_runtime/bfc_allocator.cc:1083] InUse at 7fb212d44b00 of size 3072 next 46\n",
      "2022-06-20 17:17:29.294957: I tensorflow/core/common_runtime/bfc_allocator.cc:1083] InUse at 7fb212d45700 of size 2359296 next 47\n",
      "2022-06-20 17:17:29.294962: I tensorflow/core/common_runtime/bfc_allocator.cc:1083] InUse at 7fb212f85700 of size 3072 next 24\n",
      "2022-06-20 17:17:29.294967: I tensorflow/core/common_runtime/bfc_allocator.cc:1083] InUse at 7fb212f86300 of size 2359296 next 44\n",
      "2022-06-20 17:17:29.294972: I tensorflow/core/common_runtime/bfc_allocator.cc:1083] InUse at 7fb2131c6300 of size 3072 next 49\n",
      "2022-06-20 17:17:29.294978: I tensorflow/core/common_runtime/bfc_allocator.cc:1083] InUse at 7fb2131c6f00 of size 2359296 next 38\n",
      "2022-06-20 17:17:29.294983: I tensorflow/core/common_runtime/bfc_allocator.cc:1083] InUse at 7fb213406f00 of size 3072 next 34\n",
      "2022-06-20 17:17:29.294988: I tensorflow/core/common_runtime/bfc_allocator.cc:1083] InUse at 7fb213407b00 of size 3072 next 37\n",
      "2022-06-20 17:17:29.294993: I tensorflow/core/common_runtime/bfc_allocator.cc:1083] InUse at 7fb213408700 of size 3072 next 13\n",
      "2022-06-20 17:17:29.294998: I tensorflow/core/common_runtime/bfc_allocator.cc:1083] InUse at 7fb213409300 of size 9437184 next 36\n",
      "2022-06-20 17:17:29.295003: I tensorflow/core/common_runtime/bfc_allocator.cc:1083] InUse at 7fb213d09300 of size 12288 next 40\n",
      "2022-06-20 17:17:29.295008: I tensorflow/core/common_runtime/bfc_allocator.cc:1083] InUse at 7fb213d0c300 of size 9437184 next 7\n",
      "2022-06-20 17:17:29.295013: I tensorflow/core/common_runtime/bfc_allocator.cc:1083] InUse at 7fb21460c300 of size 3072 next 9\n",
      "2022-06-20 17:17:29.295019: I tensorflow/core/common_runtime/bfc_allocator.cc:1083] InUse at 7fb21460cf00 of size 3072 next 31\n",
      "2022-06-20 17:17:29.295024: I tensorflow/core/common_runtime/bfc_allocator.cc:1083] InUse at 7fb21460db00 of size 3072 next 30\n",
      "2022-06-20 17:17:29.295029: I tensorflow/core/common_runtime/bfc_allocator.cc:1083] InUse at 7fb21460e700 of size 2359296 next 33\n",
      "2022-06-20 17:17:29.295034: I tensorflow/core/common_runtime/bfc_allocator.cc:1083] InUse at 7fb21484e700 of size 3072 next 10\n",
      "2022-06-20 17:17:29.295039: I tensorflow/core/common_runtime/bfc_allocator.cc:1083] InUse at 7fb21484f300 of size 24576 next 19\n",
      "2022-06-20 17:17:29.295045: I tensorflow/core/common_runtime/bfc_allocator.cc:1083] InUse at 7fb214855300 of size 256 next 639\n",
      "2022-06-20 17:17:29.295050: I tensorflow/core/common_runtime/bfc_allocator.cc:1083] InUse at 7fb214855400 of size 256 next 647\n",
      "2022-06-20 17:17:29.295055: I tensorflow/core/common_runtime/bfc_allocator.cc:1083] InUse at 7fb214855500 of size 256 next 648\n",
      "2022-06-20 17:17:29.295060: I tensorflow/core/common_runtime/bfc_allocator.cc:1083] InUse at 7fb214855600 of size 256 next 649\n",
      "2022-06-20 17:17:29.295065: I tensorflow/core/common_runtime/bfc_allocator.cc:1083] InUse at 7fb214855700 of size 256 next 650\n",
      "2022-06-20 17:17:29.295071: I tensorflow/core/common_runtime/bfc_allocator.cc:1083] InUse at 7fb214855800 of size 256 next 651\n",
      "2022-06-20 17:17:29.295076: I tensorflow/core/common_runtime/bfc_allocator.cc:1083] InUse at 7fb214855900 of size 256 next 652\n",
      "2022-06-20 17:17:29.295081: I tensorflow/core/common_runtime/bfc_allocator.cc:1083] InUse at 7fb214855a00 of size 256 next 653\n",
      "2022-06-20 17:17:29.295086: I tensorflow/core/common_runtime/bfc_allocator.cc:1083] InUse at 7fb214855b00 of size 256 next 654\n",
      "2022-06-20 17:17:29.295091: I tensorflow/core/common_runtime/bfc_allocator.cc:1083] InUse at 7fb214855c00 of size 256 next 655\n",
      "2022-06-20 17:17:29.295096: I tensorflow/core/common_runtime/bfc_allocator.cc:1083] InUse at 7fb214855d00 of size 256 next 656\n",
      "2022-06-20 17:17:29.295101: I tensorflow/core/common_runtime/bfc_allocator.cc:1083] InUse at 7fb214855e00 of size 256 next 657\n",
      "2022-06-20 17:17:29.295106: I tensorflow/core/common_runtime/bfc_allocator.cc:1083] InUse at 7fb214855f00 of size 256 next 658\n",
      "2022-06-20 17:17:29.295111: I tensorflow/core/common_runtime/bfc_allocator.cc:1083] InUse at 7fb214856000 of size 256 next 659\n",
      "2022-06-20 17:17:29.295116: I tensorflow/core/common_runtime/bfc_allocator.cc:1083] InUse at 7fb214856100 of size 256 next 660\n",
      "2022-06-20 17:17:29.295121: I tensorflow/core/common_runtime/bfc_allocator.cc:1083] InUse at 7fb214856200 of size 256 next 661\n",
      "2022-06-20 17:17:29.295127: I tensorflow/core/common_runtime/bfc_allocator.cc:1083] InUse at 7fb214856300 of size 256 next 662\n",
      "2022-06-20 17:17:29.295132: I tensorflow/core/common_runtime/bfc_allocator.cc:1083] InUse at 7fb214856400 of size 256 next 663\n",
      "2022-06-20 17:17:29.295137: I tensorflow/core/common_runtime/bfc_allocator.cc:1083] InUse at 7fb214856500 of size 256 next 664\n",
      "2022-06-20 17:17:29.295142: I tensorflow/core/common_runtime/bfc_allocator.cc:1083] InUse at 7fb214856600 of size 256 next 665\n",
      "2022-06-20 17:17:29.295147: I tensorflow/core/common_runtime/bfc_allocator.cc:1083] InUse at 7fb214856700 of size 256 next 666\n",
      "2022-06-20 17:17:29.295152: I tensorflow/core/common_runtime/bfc_allocator.cc:1083] InUse at 7fb214856800 of size 256 next 667\n",
      "2022-06-20 17:17:29.295157: I tensorflow/core/common_runtime/bfc_allocator.cc:1083] InUse at 7fb214856900 of size 256 next 668\n",
      "2022-06-20 17:17:29.295163: I tensorflow/core/common_runtime/bfc_allocator.cc:1083] InUse at 7fb214856a00 of size 256 next 669\n",
      "2022-06-20 17:17:29.295168: I tensorflow/core/common_runtime/bfc_allocator.cc:1083] InUse at 7fb214856b00 of size 256 next 670\n",
      "2022-06-20 17:17:29.295173: I tensorflow/core/common_runtime/bfc_allocator.cc:1083] InUse at 7fb214856c00 of size 256 next 671\n",
      "2022-06-20 17:17:29.295178: I tensorflow/core/common_runtime/bfc_allocator.cc:1083] InUse at 7fb214856d00 of size 256 next 672\n",
      "2022-06-20 17:17:29.295183: I tensorflow/core/common_runtime/bfc_allocator.cc:1083] InUse at 7fb214856e00 of size 256 next 673\n",
      "2022-06-20 17:17:29.295188: I tensorflow/core/common_runtime/bfc_allocator.cc:1083] InUse at 7fb214856f00 of size 256 next 674\n",
      "2022-06-20 17:17:29.295193: I tensorflow/core/common_runtime/bfc_allocator.cc:1083] InUse at 7fb214857000 of size 256 next 675\n",
      "2022-06-20 17:17:29.295198: I tensorflow/core/common_runtime/bfc_allocator.cc:1083] InUse at 7fb214857100 of size 256 next 676\n",
      "2022-06-20 17:17:29.295203: I tensorflow/core/common_runtime/bfc_allocator.cc:1083] InUse at 7fb214857200 of size 256 next 677\n",
      "2022-06-20 17:17:29.295208: I tensorflow/core/common_runtime/bfc_allocator.cc:1083] InUse at 7fb214857300 of size 256 next 678\n",
      "2022-06-20 17:17:29.295213: I tensorflow/core/common_runtime/bfc_allocator.cc:1083] InUse at 7fb214857400 of size 256 next 679\n",
      "2022-06-20 17:17:29.295219: I tensorflow/core/common_runtime/bfc_allocator.cc:1083] InUse at 7fb214857500 of size 256 next 680\n",
      "2022-06-20 17:17:29.295224: I tensorflow/core/common_runtime/bfc_allocator.cc:1083] InUse at 7fb214857600 of size 256 next 681\n",
      "2022-06-20 17:17:29.295229: I tensorflow/core/common_runtime/bfc_allocator.cc:1083] InUse at 7fb214857700 of size 256 next 682\n",
      "2022-06-20 17:17:29.295234: I tensorflow/core/common_runtime/bfc_allocator.cc:1083] InUse at 7fb214857800 of size 256 next 683\n",
      "2022-06-20 17:17:29.295239: I tensorflow/core/common_runtime/bfc_allocator.cc:1083] InUse at 7fb214857900 of size 256 next 684\n",
      "2022-06-20 17:17:29.295244: I tensorflow/core/common_runtime/bfc_allocator.cc:1083] InUse at 7fb214857a00 of size 256 next 685\n",
      "2022-06-20 17:17:29.295249: I tensorflow/core/common_runtime/bfc_allocator.cc:1083] InUse at 7fb214857b00 of size 6144 next 687\n",
      "2022-06-20 17:17:29.295255: I tensorflow/core/common_runtime/bfc_allocator.cc:1083] InUse at 7fb214859300 of size 6144 next 706\n",
      "2022-06-20 17:17:29.295260: I tensorflow/core/common_runtime/bfc_allocator.cc:1083] Free  at 7fb21485ab00 of size 256 next 818\n",
      "2022-06-20 17:17:29.295265: I tensorflow/core/common_runtime/bfc_allocator.cc:1083] InUse at 7fb21485ac00 of size 256 next 815\n",
      "2022-06-20 17:17:29.295270: I tensorflow/core/common_runtime/bfc_allocator.cc:1083] Free  at 7fb21485ad00 of size 256 next 827\n",
      "2022-06-20 17:17:29.295275: I tensorflow/core/common_runtime/bfc_allocator.cc:1083] InUse at 7fb21485ae00 of size 256 next 819\n",
      "2022-06-20 17:17:29.295281: I tensorflow/core/common_runtime/bfc_allocator.cc:1083] InUse at 7fb21485af00 of size 12544 next 807\n",
      "2022-06-20 17:17:29.295286: I tensorflow/core/common_runtime/bfc_allocator.cc:1083] Free  at 7fb21485e000 of size 38912 next 702\n",
      "2022-06-20 17:17:29.295292: I tensorflow/core/common_runtime/bfc_allocator.cc:1083] InUse at 7fb214867800 of size 1572864 next 697\n",
      "2022-06-20 17:17:29.295297: I tensorflow/core/common_runtime/bfc_allocator.cc:1083] Free  at 7fb2149e7800 of size 204800 next 832\n",
      "2022-06-20 17:17:29.295303: I tensorflow/core/common_runtime/bfc_allocator.cc:1083] InUse at 7fb214a19800 of size 204800 next 835\n",
      "2022-06-20 17:17:29.295308: I tensorflow/core/common_runtime/bfc_allocator.cc:1083] InUse at 7fb214a4b800 of size 204800 next 836\n",
      "2022-06-20 17:17:29.295314: I tensorflow/core/common_runtime/bfc_allocator.cc:1083] Free  at 7fb214a7d800 of size 204800 next 795\n",
      "2022-06-20 17:17:29.295319: I tensorflow/core/common_runtime/bfc_allocator.cc:1083] InUse at 7fb214aaf800 of size 204800 next 828\n",
      "2022-06-20 17:17:29.295325: I tensorflow/core/common_runtime/bfc_allocator.cc:1083] Free  at 7fb214ae1800 of size 10391808 next 696\n",
      "2022-06-20 17:17:29.295331: I tensorflow/core/common_runtime/bfc_allocator.cc:1083] InUse at 7fb2154ca900 of size 23999232 next 834\n",
      "2022-06-20 17:17:29.295336: I tensorflow/core/common_runtime/bfc_allocator.cc:1083] InUse at 7fb216badc00 of size 23999232 next 704\n",
      "2022-06-20 17:17:29.295342: I tensorflow/core/common_runtime/bfc_allocator.cc:1083] Free  at 7fb218290f00 of size 36405760 next 234\n",
      "2022-06-20 17:17:29.295347: I tensorflow/core/common_runtime/bfc_allocator.cc:1083] InUse at 7fb21a549100 of size 3072 next 597\n",
      "2022-06-20 17:17:29.295352: I tensorflow/core/common_runtime/bfc_allocator.cc:1083] InUse at 7fb21a549d00 of size 3072 next 598\n",
      "2022-06-20 17:17:29.295357: I tensorflow/core/common_runtime/bfc_allocator.cc:1083] InUse at 7fb21a54a900 of size 3072 next 602\n",
      "2022-06-20 17:17:29.295363: I tensorflow/core/common_runtime/bfc_allocator.cc:1083] InUse at 7fb21a54b500 of size 240128 next 646\n",
      "2022-06-20 17:17:29.295369: I tensorflow/core/common_runtime/bfc_allocator.cc:1083] InUse at 7fb21a585f00 of size 2359296 next 392\n",
      "2022-06-20 17:17:29.295374: I tensorflow/core/common_runtime/bfc_allocator.cc:1083] InUse at 7fb21a7c5f00 of size 2359296 next 390\n",
      "2022-06-20 17:17:29.295379: I tensorflow/core/common_runtime/bfc_allocator.cc:1083] InUse at 7fb21aa05f00 of size 14170624 next 435\n",
      "2022-06-20 17:17:29.295385: I tensorflow/core/common_runtime/bfc_allocator.cc:1083] InUse at 7fb21b789900 of size 3328 next 442\n",
      "2022-06-20 17:17:29.295390: I tensorflow/core/common_runtime/bfc_allocator.cc:1083] InUse at 7fb21b78a600 of size 3072 next 444\n",
      "2022-06-20 17:17:29.295396: I tensorflow/core/common_runtime/bfc_allocator.cc:1083] InUse at 7fb21b78b200 of size 5888 next 362\n",
      "2022-06-20 17:17:29.295401: I tensorflow/core/common_runtime/bfc_allocator.cc:1083] InUse at 7fb21b78c900 of size 3072 next 261\n",
      "2022-06-20 17:17:29.295406: I tensorflow/core/common_runtime/bfc_allocator.cc:1083] InUse at 7fb21b78d500 of size 3072 next 454\n",
      "2022-06-20 17:17:29.295411: I tensorflow/core/common_runtime/bfc_allocator.cc:1083] InUse at 7fb21b78e100 of size 3072 next 438\n",
      "2022-06-20 17:17:29.295417: I tensorflow/core/common_runtime/bfc_allocator.cc:1083] InUse at 7fb21b78ed00 of size 256 next 686\n",
      "2022-06-20 17:17:29.295422: I tensorflow/core/common_runtime/bfc_allocator.cc:1083] InUse at 7fb21b78ee00 of size 256 next 227\n",
      "2022-06-20 17:17:29.295427: I tensorflow/core/common_runtime/bfc_allocator.cc:1083] InUse at 7fb21b78ef00 of size 256 next 833\n",
      "2022-06-20 17:17:29.295432: I tensorflow/core/common_runtime/bfc_allocator.cc:1083] InUse at 7fb21b78f000 of size 256 next 700\n",
      "2022-06-20 17:17:29.295437: I tensorflow/core/common_runtime/bfc_allocator.cc:1083] InUse at 7fb21b78f100 of size 256 next 693\n",
      "2022-06-20 17:17:29.295442: I tensorflow/core/common_runtime/bfc_allocator.cc:1083] InUse at 7fb21b78f200 of size 256 next 722\n",
      "2022-06-20 17:17:29.295448: I tensorflow/core/common_runtime/bfc_allocator.cc:1083] InUse at 7fb21b78f300 of size 512 next 723\n",
      "2022-06-20 17:17:29.295453: I tensorflow/core/common_runtime/bfc_allocator.cc:1083] InUse at 7fb21b78f500 of size 256 next 688\n",
      "2022-06-20 17:17:29.295458: I tensorflow/core/common_runtime/bfc_allocator.cc:1083] InUse at 7fb21b78f600 of size 256 next 707\n",
      "2022-06-20 17:17:29.295464: I tensorflow/core/common_runtime/bfc_allocator.cc:1083] InUse at 7fb21b78f700 of size 256 next 822\n",
      "2022-06-20 17:17:29.295469: I tensorflow/core/common_runtime/bfc_allocator.cc:1083] InUse at 7fb21b78f800 of size 256 next 823\n",
      "2022-06-20 17:17:29.295474: I tensorflow/core/common_runtime/bfc_allocator.cc:1083] Free  at 7fb21b78f900 of size 256 next 701\n",
      "2022-06-20 17:17:29.295479: I tensorflow/core/common_runtime/bfc_allocator.cc:1083] InUse at 7fb21b78fa00 of size 256 next 690\n",
      "2022-06-20 17:17:29.295484: I tensorflow/core/common_runtime/bfc_allocator.cc:1083] InUse at 7fb21b78fb00 of size 2560 next 433\n",
      "2022-06-20 17:17:29.295490: I tensorflow/core/common_runtime/bfc_allocator.cc:1083] InUse at 7fb21b790500 of size 3072 next 431\n",
      "2022-06-20 17:17:29.295495: I tensorflow/core/common_runtime/bfc_allocator.cc:1083] InUse at 7fb21b791100 of size 3072 next 380\n",
      "2022-06-20 17:17:29.295500: I tensorflow/core/common_runtime/bfc_allocator.cc:1083] InUse at 7fb21b791d00 of size 3072 next 412\n",
      "2022-06-20 17:17:29.295505: I tensorflow/core/common_runtime/bfc_allocator.cc:1083] InUse at 7fb21b792900 of size 3072 next 476\n",
      "2022-06-20 17:17:29.295511: I tensorflow/core/common_runtime/bfc_allocator.cc:1083] InUse at 7fb21b793500 of size 3072 next 479\n",
      "2022-06-20 17:17:29.295516: I tensorflow/core/common_runtime/bfc_allocator.cc:1083] InUse at 7fb21b794100 of size 3072 next 481\n",
      "2022-06-20 17:17:29.295521: I tensorflow/core/common_runtime/bfc_allocator.cc:1083] InUse at 7fb21b794d00 of size 12288 next 482\n",
      "2022-06-20 17:17:29.295526: I tensorflow/core/common_runtime/bfc_allocator.cc:1083] InUse at 7fb21b797d00 of size 3072 next 508\n",
      "2022-06-20 17:17:29.295531: I tensorflow/core/common_runtime/bfc_allocator.cc:1083] InUse at 7fb21b798900 of size 3072 next 510\n",
      "2022-06-20 17:17:29.295536: I tensorflow/core/common_runtime/bfc_allocator.cc:1083] InUse at 7fb21b799500 of size 3072 next 512\n",
      "2022-06-20 17:17:29.295542: I tensorflow/core/common_runtime/bfc_allocator.cc:1083] InUse at 7fb21b79a100 of size 12288 next 513\n",
      "2022-06-20 17:17:29.295547: I tensorflow/core/common_runtime/bfc_allocator.cc:1083] InUse at 7fb21b79d100 of size 3072 next 535\n",
      "2022-06-20 17:17:29.295552: I tensorflow/core/common_runtime/bfc_allocator.cc:1083] InUse at 7fb21b79dd00 of size 3072 next 536\n",
      "2022-06-20 17:17:29.295557: I tensorflow/core/common_runtime/bfc_allocator.cc:1083] InUse at 7fb21b79e900 of size 3072 next 532\n",
      "2022-06-20 17:17:29.295562: I tensorflow/core/common_runtime/bfc_allocator.cc:1083] InUse at 7fb21b79f500 of size 3072 next 539\n",
      "2022-06-20 17:17:29.295567: I tensorflow/core/common_runtime/bfc_allocator.cc:1083] InUse at 7fb21b7a0100 of size 3072 next 544\n",
      "2022-06-20 17:17:29.295572: I tensorflow/core/common_runtime/bfc_allocator.cc:1083] InUse at 7fb21b7a0d00 of size 3072 next 545\n",
      "2022-06-20 17:17:29.295578: I tensorflow/core/common_runtime/bfc_allocator.cc:1083] InUse at 7fb21b7a1900 of size 3072 next 546\n",
      "2022-06-20 17:17:29.295583: I tensorflow/core/common_runtime/bfc_allocator.cc:1083] InUse at 7fb21b7a2500 of size 3072 next 542\n",
      "2022-06-20 17:17:29.295588: I tensorflow/core/common_runtime/bfc_allocator.cc:1083] InUse at 7fb21b7a3100 of size 3072 next 440\n",
      "2022-06-20 17:17:29.295593: I tensorflow/core/common_runtime/bfc_allocator.cc:1083] InUse at 7fb21b7a3d00 of size 3072 next 548\n",
      "2022-06-20 17:17:29.295598: I tensorflow/core/common_runtime/bfc_allocator.cc:1083] InUse at 7fb21b7a4900 of size 3072 next 551\n",
      "2022-06-20 17:17:29.295603: I tensorflow/core/common_runtime/bfc_allocator.cc:1083] InUse at 7fb21b7a5500 of size 12288 next 526\n",
      "2022-06-20 17:17:29.295608: I tensorflow/core/common_runtime/bfc_allocator.cc:1083] InUse at 7fb21b7a8500 of size 3072 next 533\n",
      "2022-06-20 17:17:29.295613: I tensorflow/core/common_runtime/bfc_allocator.cc:1083] InUse at 7fb21b7a9100 of size 3072 next 538\n",
      "2022-06-20 17:17:29.295619: I tensorflow/core/common_runtime/bfc_allocator.cc:1083] InUse at 7fb21b7a9d00 of size 3072 next 555\n",
      "2022-06-20 17:17:29.295624: I tensorflow/core/common_runtime/bfc_allocator.cc:1083] InUse at 7fb21b7aa900 of size 3072 next 559\n",
      "2022-06-20 17:17:29.295629: I tensorflow/core/common_runtime/bfc_allocator.cc:1083] InUse at 7fb21b7ab500 of size 3072 next 560\n",
      "2022-06-20 17:17:29.295634: I tensorflow/core/common_runtime/bfc_allocator.cc:1083] InUse at 7fb21b7ac100 of size 3072 next 561\n",
      "2022-06-20 17:17:29.295639: I tensorflow/core/common_runtime/bfc_allocator.cc:1083] InUse at 7fb21b7acd00 of size 3072 next 557\n",
      "2022-06-20 17:17:29.295645: I tensorflow/core/common_runtime/bfc_allocator.cc:1083] InUse at 7fb21b7ad900 of size 3072 next 564\n",
      "2022-06-20 17:17:29.295650: I tensorflow/core/common_runtime/bfc_allocator.cc:1083] InUse at 7fb21b7ae500 of size 3072 next 566\n",
      "2022-06-20 17:17:29.295655: I tensorflow/core/common_runtime/bfc_allocator.cc:1083] InUse at 7fb21b7af100 of size 3072 next 569\n",
      "2022-06-20 17:17:29.295660: I tensorflow/core/common_runtime/bfc_allocator.cc:1083] InUse at 7fb21b7afd00 of size 12288 next 567\n",
      "2022-06-20 17:17:29.295665: I tensorflow/core/common_runtime/bfc_allocator.cc:1083] InUse at 7fb21b7b2d00 of size 3072 next 577\n",
      "2022-06-20 17:17:29.295670: I tensorflow/core/common_runtime/bfc_allocator.cc:1083] InUse at 7fb21b7b3900 of size 3072 next 448\n",
      "2022-06-20 17:17:29.295675: I tensorflow/core/common_runtime/bfc_allocator.cc:1083] InUse at 7fb21b7b4500 of size 6144 next 643\n",
      "2022-06-20 17:17:29.295680: I tensorflow/core/common_runtime/bfc_allocator.cc:1083] InUse at 7fb21b7b5d00 of size 12288 next 446\n",
      "2022-06-20 17:17:29.295685: I tensorflow/core/common_runtime/bfc_allocator.cc:1083] InUse at 7fb21b7b8d00 of size 3072 next 458\n",
      "2022-06-20 17:17:29.295691: I tensorflow/core/common_runtime/bfc_allocator.cc:1083] InUse at 7fb21b7b9900 of size 3072 next 467\n",
      "2022-06-20 17:17:29.295695: I tensorflow/core/common_runtime/bfc_allocator.cc:1083] InUse at 7fb21b7ba500 of size 3072 next 470\n",
      "2022-06-20 17:17:29.295700: I tensorflow/core/common_runtime/bfc_allocator.cc:1083] InUse at 7fb21b7bb100 of size 3072 next 474\n",
      "2022-06-20 17:17:29.295706: I tensorflow/core/common_runtime/bfc_allocator.cc:1083] InUse at 7fb21b7bbd00 of size 15360 next 449\n",
      "2022-06-20 17:17:29.295711: I tensorflow/core/common_runtime/bfc_allocator.cc:1083] InUse at 7fb21b7bf900 of size 3072 next 511\n",
      "2022-06-20 17:17:29.295716: I tensorflow/core/common_runtime/bfc_allocator.cc:1083] InUse at 7fb21b7c0500 of size 3072 next 517\n",
      "2022-06-20 17:17:29.295721: I tensorflow/core/common_runtime/bfc_allocator.cc:1083] InUse at 7fb21b7c1100 of size 3072 next 519\n",
      "2022-06-20 17:17:29.295726: I tensorflow/core/common_runtime/bfc_allocator.cc:1083] InUse at 7fb21b7c1d00 of size 3072 next 522\n",
      "2022-06-20 17:17:29.295731: I tensorflow/core/common_runtime/bfc_allocator.cc:1083] InUse at 7fb21b7c2900 of size 3072 next 521\n",
      "2022-06-20 17:17:29.295736: I tensorflow/core/common_runtime/bfc_allocator.cc:1083] InUse at 7fb21b7c3500 of size 3072 next 254\n",
      "2022-06-20 17:17:29.295741: I tensorflow/core/common_runtime/bfc_allocator.cc:1083] InUse at 7fb21b7c4100 of size 3072 next 523\n",
      "2022-06-20 17:17:29.295746: I tensorflow/core/common_runtime/bfc_allocator.cc:1083] InUse at 7fb21b7c4d00 of size 3072 next 528\n",
      "2022-06-20 17:17:29.295751: I tensorflow/core/common_runtime/bfc_allocator.cc:1083] InUse at 7fb21b7c5900 of size 3072 next 529\n",
      "2022-06-20 17:17:29.295756: I tensorflow/core/common_runtime/bfc_allocator.cc:1083] InUse at 7fb21b7c6500 of size 3072 next 530\n",
      "2022-06-20 17:17:29.295761: I tensorflow/core/common_runtime/bfc_allocator.cc:1083] InUse at 7fb21b7c7100 of size 3072 next 515\n",
      "2022-06-20 17:17:29.295766: I tensorflow/core/common_runtime/bfc_allocator.cc:1083] InUse at 7fb21b7c7d00 of size 12288 next 505\n",
      "2022-06-20 17:17:29.295771: I tensorflow/core/common_runtime/bfc_allocator.cc:1083] InUse at 7fb21b7cad00 of size 3072 next 501\n",
      "2022-06-20 17:17:29.295776: I tensorflow/core/common_runtime/bfc_allocator.cc:1083] InUse at 7fb21b7cb900 of size 3072 next 503\n",
      "2022-06-20 17:17:29.295782: I tensorflow/core/common_runtime/bfc_allocator.cc:1083] InUse at 7fb21b7cc500 of size 3072 next 568\n",
      "2022-06-20 17:17:29.295787: I tensorflow/core/common_runtime/bfc_allocator.cc:1083] InUse at 7fb21b7cd100 of size 3072 next 573\n",
      "2022-06-20 17:17:29.295792: I tensorflow/core/common_runtime/bfc_allocator.cc:1083] InUse at 7fb21b7cdd00 of size 3072 next 582\n",
      "2022-06-20 17:17:29.295797: I tensorflow/core/common_runtime/bfc_allocator.cc:1083] InUse at 7fb21b7ce900 of size 3072 next 588\n",
      "2022-06-20 17:17:29.295802: I tensorflow/core/common_runtime/bfc_allocator.cc:1083] InUse at 7fb21b7cf500 of size 3072 next 578\n",
      "2022-06-20 17:17:29.295807: I tensorflow/core/common_runtime/bfc_allocator.cc:1083] InUse at 7fb21b7d0100 of size 3072 next 600\n",
      "2022-06-20 17:17:29.295812: I tensorflow/core/common_runtime/bfc_allocator.cc:1083] InUse at 7fb21b7d0d00 of size 3072 next 595\n",
      "2022-06-20 17:17:29.295817: I tensorflow/core/common_runtime/bfc_allocator.cc:1083] InUse at 7fb21b7d1900 of size 3072 next 596\n",
      "2022-06-20 17:17:29.295821: I tensorflow/core/common_runtime/bfc_allocator.cc:1083] InUse at 7fb21b7d2500 of size 3072 next 612\n",
      "2022-06-20 17:17:29.295826: I tensorflow/core/common_runtime/bfc_allocator.cc:1083] InUse at 7fb21b7d3100 of size 3072 next 616\n",
      "2022-06-20 17:17:29.295831: I tensorflow/core/common_runtime/bfc_allocator.cc:1083] InUse at 7fb21b7d3d00 of size 3072 next 615\n",
      "2022-06-20 17:17:29.295836: I tensorflow/core/common_runtime/bfc_allocator.cc:1083] InUse at 7fb21b7d4900 of size 3072 next 609\n",
      "2022-06-20 17:17:29.295841: I tensorflow/core/common_runtime/bfc_allocator.cc:1083] InUse at 7fb21b7d5500 of size 3072 next 622\n",
      "2022-06-20 17:17:29.295846: I tensorflow/core/common_runtime/bfc_allocator.cc:1083] InUse at 7fb21b7d6100 of size 12288 next 590\n",
      "2022-06-20 17:17:29.295851: I tensorflow/core/common_runtime/bfc_allocator.cc:1083] InUse at 7fb21b7d9100 of size 3072 next 634\n",
      "2022-06-20 17:17:29.295856: I tensorflow/core/common_runtime/bfc_allocator.cc:1083] InUse at 7fb21b7d9d00 of size 3072 next 638\n",
      "2022-06-20 17:17:29.295861: I tensorflow/core/common_runtime/bfc_allocator.cc:1083] InUse at 7fb21b7da900 of size 3072 next 620\n",
      "2022-06-20 17:17:29.295866: I tensorflow/core/common_runtime/bfc_allocator.cc:1083] InUse at 7fb21b7db500 of size 256 next 428\n",
      "2022-06-20 17:17:29.295871: I tensorflow/core/common_runtime/bfc_allocator.cc:1083] InUse at 7fb21b7db600 of size 256 next 621\n",
      "2022-06-20 17:17:29.295876: I tensorflow/core/common_runtime/bfc_allocator.cc:1083] InUse at 7fb21b7db700 of size 256 next 644\n",
      "2022-06-20 17:17:29.295881: I tensorflow/core/common_runtime/bfc_allocator.cc:1083] InUse at 7fb21b7db800 of size 256 next 432\n",
      "2022-06-20 17:17:29.295886: I tensorflow/core/common_runtime/bfc_allocator.cc:1083] InUse at 7fb21b7db900 of size 256 next 48\n",
      "2022-06-20 17:17:29.295891: I tensorflow/core/common_runtime/bfc_allocator.cc:1083] InUse at 7fb21b7dba00 of size 256 next 244\n",
      "2022-06-20 17:17:29.295896: I tensorflow/core/common_runtime/bfc_allocator.cc:1083] InUse at 7fb21b7dbb00 of size 256 next 228\n",
      "2022-06-20 17:17:29.295901: I tensorflow/core/common_runtime/bfc_allocator.cc:1083] InUse at 7fb21b7dbc00 of size 256 next 215\n",
      "2022-06-20 17:17:29.295906: I tensorflow/core/common_runtime/bfc_allocator.cc:1083] InUse at 7fb21b7dbd00 of size 256 next 457\n",
      "2022-06-20 17:17:29.295911: I tensorflow/core/common_runtime/bfc_allocator.cc:1083] InUse at 7fb21b7dbe00 of size 256 next 641\n",
      "2022-06-20 17:17:29.295916: I tensorflow/core/common_runtime/bfc_allocator.cc:1083] InUse at 7fb21b7dbf00 of size 256 next 465\n",
      "2022-06-20 17:17:29.295921: I tensorflow/core/common_runtime/bfc_allocator.cc:1083] InUse at 7fb21b7dc000 of size 256 next 606\n",
      "2022-06-20 17:17:29.295926: I tensorflow/core/common_runtime/bfc_allocator.cc:1083] InUse at 7fb21b7dc100 of size 3072 next 607\n",
      "2022-06-20 17:17:29.295931: I tensorflow/core/common_runtime/bfc_allocator.cc:1083] InUse at 7fb21b7dcd00 of size 3072 next 608\n",
      "2022-06-20 17:17:29.295936: I tensorflow/core/common_runtime/bfc_allocator.cc:1083] InUse at 7fb21b7dd900 of size 3072 next 628\n",
      "2022-06-20 17:17:29.295941: I tensorflow/core/common_runtime/bfc_allocator.cc:1083] InUse at 7fb21b7de500 of size 3072 next 630\n",
      "2022-06-20 17:17:29.295946: I tensorflow/core/common_runtime/bfc_allocator.cc:1083] InUse at 7fb21b7df100 of size 3072 next 627\n",
      "2022-06-20 17:17:29.295950: I tensorflow/core/common_runtime/bfc_allocator.cc:1083] InUse at 7fb21b7dfd00 of size 3072 next 629\n",
      "2022-06-20 17:17:29.295956: I tensorflow/core/common_runtime/bfc_allocator.cc:1083] InUse at 7fb21b7e0900 of size 3072 next 461\n",
      "2022-06-20 17:17:29.295960: I tensorflow/core/common_runtime/bfc_allocator.cc:1083] InUse at 7fb21b7e1500 of size 3072 next 464\n",
      "2022-06-20 17:17:29.295965: I tensorflow/core/common_runtime/bfc_allocator.cc:1083] InUse at 7fb21b7e2100 of size 3072 next 626\n",
      "2022-06-20 17:17:29.295970: I tensorflow/core/common_runtime/bfc_allocator.cc:1083] InUse at 7fb21b7e2d00 of size 12288 next 376\n",
      "2022-06-20 17:17:29.295975: I tensorflow/core/common_runtime/bfc_allocator.cc:1083] InUse at 7fb21b7e5d00 of size 3072 next 397\n",
      "2022-06-20 17:17:29.295980: I tensorflow/core/common_runtime/bfc_allocator.cc:1083] InUse at 7fb21b7e6900 of size 3072 next 365\n",
      "2022-06-20 17:17:29.295985: I tensorflow/core/common_runtime/bfc_allocator.cc:1083] InUse at 7fb21b7e7500 of size 3072 next 384\n",
      "2022-06-20 17:17:29.295990: I tensorflow/core/common_runtime/bfc_allocator.cc:1083] InUse at 7fb21b7e8100 of size 3072 next 386\n",
      "2022-06-20 17:17:29.295995: I tensorflow/core/common_runtime/bfc_allocator.cc:1083] InUse at 7fb21b7e8d00 of size 3072 next 388\n",
      "2022-06-20 17:17:29.296000: I tensorflow/core/common_runtime/bfc_allocator.cc:1083] InUse at 7fb21b7e9900 of size 3072 next 368\n",
      "2022-06-20 17:17:29.296005: I tensorflow/core/common_runtime/bfc_allocator.cc:1083] InUse at 7fb21b7ea500 of size 3072 next 382\n",
      "2022-06-20 17:17:29.296010: I tensorflow/core/common_runtime/bfc_allocator.cc:1083] InUse at 7fb21b7eb100 of size 3072 next 124\n",
      "2022-06-20 17:17:29.296015: I tensorflow/core/common_runtime/bfc_allocator.cc:1083] InUse at 7fb21b7ebd00 of size 12288 next 632\n",
      "2022-06-20 17:17:29.296020: I tensorflow/core/common_runtime/bfc_allocator.cc:1083] InUse at 7fb21b7eed00 of size 24576 next 441\n",
      "2022-06-20 17:17:29.296026: I tensorflow/core/common_runtime/bfc_allocator.cc:1083] InUse at 7fb21b7f4d00 of size 470016 next 373\n",
      "2022-06-20 17:17:29.296032: I tensorflow/core/common_runtime/bfc_allocator.cc:1083] InUse at 7fb21b867900 of size 12288 next 400\n",
      "2022-06-20 17:17:29.296037: I tensorflow/core/common_runtime/bfc_allocator.cc:1083] InUse at 7fb21b86a900 of size 3072 next 306\n",
      "2022-06-20 17:17:29.296042: I tensorflow/core/common_runtime/bfc_allocator.cc:1083] InUse at 7fb21b86b500 of size 3072 next 403\n",
      "2022-06-20 17:17:29.296047: I tensorflow/core/common_runtime/bfc_allocator.cc:1083] InUse at 7fb21b86c100 of size 3072 next 407\n",
      "2022-06-20 17:17:29.296052: I tensorflow/core/common_runtime/bfc_allocator.cc:1083] InUse at 7fb21b86cd00 of size 3072 next 391\n",
      "2022-06-20 17:17:29.296057: I tensorflow/core/common_runtime/bfc_allocator.cc:1083] InUse at 7fb21b86d900 of size 3072 next 293\n",
      "2022-06-20 17:17:29.296062: I tensorflow/core/common_runtime/bfc_allocator.cc:1083] InUse at 7fb21b86e500 of size 3072 next 393\n",
      "2022-06-20 17:17:29.296066: I tensorflow/core/common_runtime/bfc_allocator.cc:1083] InUse at 7fb21b86f100 of size 3072 next 398\n",
      "2022-06-20 17:17:29.296071: I tensorflow/core/common_runtime/bfc_allocator.cc:1083] InUse at 7fb21b86fd00 of size 3072 next 395\n",
      "2022-06-20 17:17:29.296076: I tensorflow/core/common_runtime/bfc_allocator.cc:1083] InUse at 7fb21b870900 of size 3072 next 396\n",
      "2022-06-20 17:17:29.296081: I tensorflow/core/common_runtime/bfc_allocator.cc:1083] InUse at 7fb21b871500 of size 3072 next 415\n",
      "2022-06-20 17:17:29.296086: I tensorflow/core/common_runtime/bfc_allocator.cc:1083] InUse at 7fb21b872100 of size 3072 next 480\n",
      "2022-06-20 17:17:29.296091: I tensorflow/core/common_runtime/bfc_allocator.cc:1083] InUse at 7fb21b872d00 of size 3072 next 478\n",
      "2022-06-20 17:17:29.296096: I tensorflow/core/common_runtime/bfc_allocator.cc:1083] InUse at 7fb21b873900 of size 3072 next 487\n",
      "2022-06-20 17:17:29.296101: I tensorflow/core/common_runtime/bfc_allocator.cc:1083] InUse at 7fb21b874500 of size 3072 next 490\n",
      "2022-06-20 17:17:29.296106: I tensorflow/core/common_runtime/bfc_allocator.cc:1083] InUse at 7fb21b875100 of size 3072 next 489\n",
      "2022-06-20 17:17:29.296111: I tensorflow/core/common_runtime/bfc_allocator.cc:1083] InUse at 7fb21b875d00 of size 3072 next 488\n",
      "2022-06-20 17:17:29.296116: I tensorflow/core/common_runtime/bfc_allocator.cc:1083] InUse at 7fb21b876900 of size 3072 next 493\n",
      "2022-06-20 17:17:29.296121: I tensorflow/core/common_runtime/bfc_allocator.cc:1083] InUse at 7fb21b877500 of size 3072 next 497\n",
      "2022-06-20 17:17:29.296126: I tensorflow/core/common_runtime/bfc_allocator.cc:1083] InUse at 7fb21b878100 of size 3072 next 498\n",
      "2022-06-20 17:17:29.296131: I tensorflow/core/common_runtime/bfc_allocator.cc:1083] InUse at 7fb21b878d00 of size 3072 next 499\n",
      "2022-06-20 17:17:29.296136: I tensorflow/core/common_runtime/bfc_allocator.cc:1083] InUse at 7fb21b879900 of size 3072 next 484\n",
      "2022-06-20 17:17:29.296141: I tensorflow/core/common_runtime/bfc_allocator.cc:1083] InUse at 7fb21b87a500 of size 3072 next 485\n",
      "2022-06-20 17:17:29.296146: I tensorflow/core/common_runtime/bfc_allocator.cc:1083] InUse at 7fb21b87b100 of size 12288 next 443\n",
      "2022-06-20 17:17:29.296151: I tensorflow/core/common_runtime/bfc_allocator.cc:1083] InUse at 7fb21b87e100 of size 3072 next 414\n",
      "2022-06-20 17:17:29.296156: I tensorflow/core/common_runtime/bfc_allocator.cc:1083] InUse at 7fb21b87ed00 of size 3072 next 420\n",
      "2022-06-20 17:17:29.296161: I tensorflow/core/common_runtime/bfc_allocator.cc:1083] InUse at 7fb21b87f900 of size 3072 next 419\n",
      "2022-06-20 17:17:29.296166: I tensorflow/core/common_runtime/bfc_allocator.cc:1083] InUse at 7fb21b880500 of size 15360 next 238\n",
      "2022-06-20 17:17:29.296171: I tensorflow/core/common_runtime/bfc_allocator.cc:1083] InUse at 7fb21b884100 of size 3072 next 456\n",
      "2022-06-20 17:17:29.296176: I tensorflow/core/common_runtime/bfc_allocator.cc:1083] InUse at 7fb21b884d00 of size 3072 next 453\n",
      "2022-06-20 17:17:29.296181: I tensorflow/core/common_runtime/bfc_allocator.cc:1083] InUse at 7fb21b885900 of size 12288 next 534\n",
      "2022-06-20 17:17:29.296186: I tensorflow/core/common_runtime/bfc_allocator.cc:1083] InUse at 7fb21b888900 of size 3072 next 601\n",
      "2022-06-20 17:17:29.296191: I tensorflow/core/common_runtime/bfc_allocator.cc:1083] InUse at 7fb21b889500 of size 12288 next 605\n",
      "2022-06-20 17:17:29.296196: I tensorflow/core/common_runtime/bfc_allocator.cc:1083] InUse at 7fb21b88c500 of size 3072 next 613\n",
      "2022-06-20 17:17:29.296201: I tensorflow/core/common_runtime/bfc_allocator.cc:1083] InUse at 7fb21b88d100 of size 3072 next 603\n",
      "2022-06-20 17:17:29.296206: I tensorflow/core/common_runtime/bfc_allocator.cc:1083] InUse at 7fb21b88dd00 of size 3072 next 623\n",
      "2022-06-20 17:17:29.296211: I tensorflow/core/common_runtime/bfc_allocator.cc:1083] InUse at 7fb21b88e900 of size 3072 next 447\n",
      "2022-06-20 17:17:29.296216: I tensorflow/core/common_runtime/bfc_allocator.cc:1083] InUse at 7fb21b88f500 of size 3072 next 452\n",
      "2022-06-20 17:17:29.296221: I tensorflow/core/common_runtime/bfc_allocator.cc:1083] InUse at 7fb21b890100 of size 3072 next 471\n",
      "2022-06-20 17:17:29.296226: I tensorflow/core/common_runtime/bfc_allocator.cc:1083] InUse at 7fb21b890d00 of size 3072 next 504\n",
      "2022-06-20 17:17:29.296231: I tensorflow/core/common_runtime/bfc_allocator.cc:1083] InUse at 7fb21b891900 of size 3072 next 575\n",
      "2022-06-20 17:17:29.296236: I tensorflow/core/common_runtime/bfc_allocator.cc:1083] InUse at 7fb21b892500 of size 3072 next 571\n",
      "2022-06-20 17:17:29.296241: I tensorflow/core/common_runtime/bfc_allocator.cc:1083] InUse at 7fb21b893100 of size 3072 next 580\n",
      "2022-06-20 17:17:29.296246: I tensorflow/core/common_runtime/bfc_allocator.cc:1083] InUse at 7fb21b893d00 of size 3072 next 585\n",
      "2022-06-20 17:17:29.296251: I tensorflow/core/common_runtime/bfc_allocator.cc:1083] InUse at 7fb21b894900 of size 3072 next 584\n",
      "2022-06-20 17:17:29.296256: I tensorflow/core/common_runtime/bfc_allocator.cc:1083] InUse at 7fb21b895500 of size 3072 next 593\n",
      "2022-06-20 17:17:29.296261: I tensorflow/core/common_runtime/bfc_allocator.cc:1083] InUse at 7fb21b896100 of size 3072 next 594\n",
      "2022-06-20 17:17:29.296266: I tensorflow/core/common_runtime/bfc_allocator.cc:1083] InUse at 7fb21b896d00 of size 3072 next 589\n",
      "2022-06-20 17:17:29.296271: I tensorflow/core/common_runtime/bfc_allocator.cc:1083] InUse at 7fb21b897900 of size 21504 next 367\n",
      "2022-06-20 17:17:29.296276: I tensorflow/core/common_runtime/bfc_allocator.cc:1083] InUse at 7fb21b89cd00 of size 3072 next 344\n",
      "2022-06-20 17:17:29.296281: I tensorflow/core/common_runtime/bfc_allocator.cc:1083] InUse at 7fb21b89d900 of size 3072 next 364\n",
      "2022-06-20 17:17:29.296286: I tensorflow/core/common_runtime/bfc_allocator.cc:1083] InUse at 7fb21b89e500 of size 3072 next 350\n",
      "2022-06-20 17:17:29.296291: I tensorflow/core/common_runtime/bfc_allocator.cc:1083] InUse at 7fb21b89f100 of size 3072 next 345\n",
      "2022-06-20 17:17:29.296296: I tensorflow/core/common_runtime/bfc_allocator.cc:1083] InUse at 7fb21b89fd00 of size 3072 next 340\n",
      "2022-06-20 17:17:29.296301: I tensorflow/core/common_runtime/bfc_allocator.cc:1083] InUse at 7fb21b8a0900 of size 3072 next 346\n",
      "2022-06-20 17:17:29.296306: I tensorflow/core/common_runtime/bfc_allocator.cc:1083] InUse at 7fb21b8a1500 of size 3072 next 325\n",
      "2022-06-20 17:17:29.296311: I tensorflow/core/common_runtime/bfc_allocator.cc:1083] InUse at 7fb21b8a2100 of size 3072 next 355\n",
      "2022-06-20 17:17:29.296316: I tensorflow/core/common_runtime/bfc_allocator.cc:1083] InUse at 7fb21b8a2d00 of size 3072 next 268\n",
      "2022-06-20 17:17:29.296322: I tensorflow/core/common_runtime/bfc_allocator.cc:1083] InUse at 7fb21b8a3900 of size 12288 next 339\n",
      "2022-06-20 17:17:29.296327: I tensorflow/core/common_runtime/bfc_allocator.cc:1083] InUse at 7fb21b8a6900 of size 3072 next 351\n",
      "2022-06-20 17:17:29.296332: I tensorflow/core/common_runtime/bfc_allocator.cc:1083] InUse at 7fb21b8a7500 of size 3072 next 224\n",
      "2022-06-20 17:17:29.296337: I tensorflow/core/common_runtime/bfc_allocator.cc:1083] InUse at 7fb21b8a8100 of size 3072 next 336\n",
      "2022-06-20 17:17:29.296342: I tensorflow/core/common_runtime/bfc_allocator.cc:1083] InUse at 7fb21b8a8d00 of size 3072 next 337\n",
      "2022-06-20 17:17:29.296347: I tensorflow/core/common_runtime/bfc_allocator.cc:1083] InUse at 7fb21b8a9900 of size 3072 next 333\n",
      "2022-06-20 17:17:29.296352: I tensorflow/core/common_runtime/bfc_allocator.cc:1083] InUse at 7fb21b8aa500 of size 3072 next 341\n",
      "2022-06-20 17:17:29.296357: I tensorflow/core/common_runtime/bfc_allocator.cc:1083] InUse at 7fb21b8ab100 of size 3072 next 343\n",
      "2022-06-20 17:17:29.296362: I tensorflow/core/common_runtime/bfc_allocator.cc:1083] InUse at 7fb21b8abd00 of size 3072 next 304\n",
      "2022-06-20 17:17:29.296367: I tensorflow/core/common_runtime/bfc_allocator.cc:1083] InUse at 7fb21b8ac900 of size 3072 next 323\n",
      "2022-06-20 17:17:29.296372: I tensorflow/core/common_runtime/bfc_allocator.cc:1083] InUse at 7fb21b8ad500 of size 15360 next 424\n",
      "2022-06-20 17:17:29.296377: I tensorflow/core/common_runtime/bfc_allocator.cc:1083] InUse at 7fb21b8b1100 of size 3072 next 423\n",
      "2022-06-20 17:17:29.296382: I tensorflow/core/common_runtime/bfc_allocator.cc:1083] InUse at 7fb21b8b1d00 of size 12288 next 314\n",
      "2022-06-20 17:17:29.296387: I tensorflow/core/common_runtime/bfc_allocator.cc:1083] InUse at 7fb21b8b4d00 of size 9437184 next 322\n",
      "2022-06-20 17:17:29.296392: I tensorflow/core/common_runtime/bfc_allocator.cc:1083] InUse at 7fb21c1b4d00 of size 3072 next 308\n",
      "2022-06-20 17:17:29.296397: I tensorflow/core/common_runtime/bfc_allocator.cc:1083] InUse at 7fb21c1b5900 of size 3072 next 319\n",
      "2022-06-20 17:17:29.296402: I tensorflow/core/common_runtime/bfc_allocator.cc:1083] InUse at 7fb21c1b6500 of size 3072 next 294\n",
      "2022-06-20 17:17:29.296407: I tensorflow/core/common_runtime/bfc_allocator.cc:1083] InUse at 7fb21c1b7100 of size 2359296 next 288\n",
      "2022-06-20 17:17:29.296412: I tensorflow/core/common_runtime/bfc_allocator.cc:1083] InUse at 7fb21c3f7100 of size 3072 next 324\n",
      "2022-06-20 17:17:29.296417: I tensorflow/core/common_runtime/bfc_allocator.cc:1083] InUse at 7fb21c3f7d00 of size 2359296 next 277\n",
      "2022-06-20 17:17:29.296422: I tensorflow/core/common_runtime/bfc_allocator.cc:1083] InUse at 7fb21c637d00 of size 3072 next 317\n",
      "2022-06-20 17:17:29.296427: I tensorflow/core/common_runtime/bfc_allocator.cc:1083] InUse at 7fb21c638900 of size 2359296 next 279\n",
      "2022-06-20 17:17:29.296432: I tensorflow/core/common_runtime/bfc_allocator.cc:1083] InUse at 7fb21c878900 of size 3072 next 320\n",
      "2022-06-20 17:17:29.296437: I tensorflow/core/common_runtime/bfc_allocator.cc:1083] InUse at 7fb21c879500 of size 2359296 next 318\n",
      "2022-06-20 17:17:29.296442: I tensorflow/core/common_runtime/bfc_allocator.cc:1083] InUse at 7fb21cab9500 of size 3072 next 106\n",
      "2022-06-20 17:17:29.296447: I tensorflow/core/common_runtime/bfc_allocator.cc:1083] InUse at 7fb21caba100 of size 3072 next 305\n",
      "2022-06-20 17:17:29.296452: I tensorflow/core/common_runtime/bfc_allocator.cc:1083] InUse at 7fb21cabad00 of size 3072 next 310\n",
      "2022-06-20 17:17:29.296457: I tensorflow/core/common_runtime/bfc_allocator.cc:1083] InUse at 7fb21cabb900 of size 9437184 next 289\n",
      "2022-06-20 17:17:29.296462: I tensorflow/core/common_runtime/bfc_allocator.cc:1083] InUse at 7fb21d3bb900 of size 12288 next 309\n",
      "2022-06-20 17:17:29.296467: I tensorflow/core/common_runtime/bfc_allocator.cc:1083] InUse at 7fb21d3be900 of size 9437184 next 313\n",
      "2022-06-20 17:17:29.296472: I tensorflow/core/common_runtime/bfc_allocator.cc:1083] InUse at 7fb21dcbe900 of size 3072 next 300\n",
      "2022-06-20 17:17:29.296477: I tensorflow/core/common_runtime/bfc_allocator.cc:1083] InUse at 7fb21dcbf500 of size 3072 next 312\n",
      "2022-06-20 17:17:29.296482: I tensorflow/core/common_runtime/bfc_allocator.cc:1083] InUse at 7fb21dcc0100 of size 3072 next 275\n",
      "2022-06-20 17:17:29.296487: I tensorflow/core/common_runtime/bfc_allocator.cc:1083] InUse at 7fb21dcc0d00 of size 2359296 next 311\n",
      "2022-06-20 17:17:29.296492: I tensorflow/core/common_runtime/bfc_allocator.cc:1083] InUse at 7fb21df00d00 of size 3072 next 283\n",
      "2022-06-20 17:17:29.296497: I tensorflow/core/common_runtime/bfc_allocator.cc:1083] InUse at 7fb21df01900 of size 2359296 next 213\n",
      "2022-06-20 17:17:29.296502: I tensorflow/core/common_runtime/bfc_allocator.cc:1083] InUse at 7fb21e141900 of size 3072 next 307\n",
      "2022-06-20 17:17:29.296507: I tensorflow/core/common_runtime/bfc_allocator.cc:1083] InUse at 7fb21e142500 of size 2359296 next 248\n",
      "2022-06-20 17:17:29.296522: I tensorflow/core/common_runtime/bfc_allocator.cc:1083] InUse at 7fb21e382500 of size 3072 next 303\n",
      "2022-06-20 17:17:29.296528: I tensorflow/core/common_runtime/bfc_allocator.cc:1083] InUse at 7fb21e383100 of size 2359296 next 177\n",
      "2022-06-20 17:17:29.296533: I tensorflow/core/common_runtime/bfc_allocator.cc:1083] InUse at 7fb21e5c3100 of size 3072 next 291\n",
      "2022-06-20 17:17:29.296538: I tensorflow/core/common_runtime/bfc_allocator.cc:1083] InUse at 7fb21e5c3d00 of size 3072 next 301\n",
      "2022-06-20 17:17:29.296543: I tensorflow/core/common_runtime/bfc_allocator.cc:1083] InUse at 7fb21e5c4900 of size 3072 next 290\n",
      "2022-06-20 17:17:29.296548: I tensorflow/core/common_runtime/bfc_allocator.cc:1083] InUse at 7fb21e5c5500 of size 9437184 next 282\n",
      "2022-06-20 17:17:29.296554: I tensorflow/core/common_runtime/bfc_allocator.cc:1083] InUse at 7fb21eec5500 of size 12288 next 295\n",
      "2022-06-20 17:17:29.296559: I tensorflow/core/common_runtime/bfc_allocator.cc:1083] InUse at 7fb21eec8500 of size 9437184 next 299\n",
      "2022-06-20 17:17:29.296564: I tensorflow/core/common_runtime/bfc_allocator.cc:1083] InUse at 7fb21f7c8500 of size 3072 next 281\n",
      "2022-06-20 17:17:29.296569: I tensorflow/core/common_runtime/bfc_allocator.cc:1083] InUse at 7fb21f7c9100 of size 3072 next 298\n",
      "2022-06-20 17:17:29.296574: I tensorflow/core/common_runtime/bfc_allocator.cc:1083] InUse at 7fb21f7c9d00 of size 3072 next 257\n",
      "2022-06-20 17:17:29.296579: I tensorflow/core/common_runtime/bfc_allocator.cc:1083] InUse at 7fb21f7ca900 of size 2359296 next 296\n",
      "2022-06-20 17:17:29.296584: I tensorflow/core/common_runtime/bfc_allocator.cc:1083] InUse at 7fb21fa0a900 of size 3072 next 255\n",
      "2022-06-20 17:17:29.296589: I tensorflow/core/common_runtime/bfc_allocator.cc:1083] InUse at 7fb21fa0b500 of size 2359296 next 285\n",
      "2022-06-20 17:17:29.296594: I tensorflow/core/common_runtime/bfc_allocator.cc:1083] InUse at 7fb21fc4b500 of size 3072 next 284\n",
      "2022-06-20 17:17:29.296599: I tensorflow/core/common_runtime/bfc_allocator.cc:1083] InUse at 7fb21fc4c100 of size 2359296 next 250\n",
      "2022-06-20 17:17:29.296604: I tensorflow/core/common_runtime/bfc_allocator.cc:1083] InUse at 7fb21fe8c100 of size 3072 next 274\n",
      "2022-06-20 17:17:29.296609: I tensorflow/core/common_runtime/bfc_allocator.cc:1083] InUse at 7fb21fe8cd00 of size 2359296 next 251\n",
      "2022-06-20 17:17:29.296614: I tensorflow/core/common_runtime/bfc_allocator.cc:1083] InUse at 7fb2200ccd00 of size 3072 next 273\n",
      "2022-06-20 17:17:29.296619: I tensorflow/core/common_runtime/bfc_allocator.cc:1083] InUse at 7fb2200cd900 of size 3072 next 287\n",
      "2022-06-20 17:17:29.296624: I tensorflow/core/common_runtime/bfc_allocator.cc:1083] InUse at 7fb2200ce500 of size 3072 next 278\n",
      "2022-06-20 17:17:29.296629: I tensorflow/core/common_runtime/bfc_allocator.cc:1083] InUse at 7fb2200cf100 of size 9437184 next 263\n",
      "2022-06-20 17:17:29.296634: I tensorflow/core/common_runtime/bfc_allocator.cc:1083] InUse at 7fb2209cf100 of size 12288 next 264\n",
      "2022-06-20 17:17:29.296639: I tensorflow/core/common_runtime/bfc_allocator.cc:1083] InUse at 7fb2209d2100 of size 9437184 next 252\n",
      "2022-06-20 17:17:29.296644: I tensorflow/core/common_runtime/bfc_allocator.cc:1083] InUse at 7fb2212d2100 of size 3072 next 271\n",
      "2022-06-20 17:17:29.296649: I tensorflow/core/common_runtime/bfc_allocator.cc:1083] InUse at 7fb2212d2d00 of size 3072 next 276\n",
      "2022-06-20 17:17:29.296654: I tensorflow/core/common_runtime/bfc_allocator.cc:1083] InUse at 7fb2212d3900 of size 3072 next 266\n",
      "2022-06-20 17:17:29.296659: I tensorflow/core/common_runtime/bfc_allocator.cc:1083] InUse at 7fb2212d4500 of size 2359296 next 267\n",
      "2022-06-20 17:17:29.296664: I tensorflow/core/common_runtime/bfc_allocator.cc:1083] InUse at 7fb221514500 of size 3072 next 246\n",
      "2022-06-20 17:17:29.296669: I tensorflow/core/common_runtime/bfc_allocator.cc:1083] InUse at 7fb221515100 of size 2359296 next 269\n",
      "2022-06-20 17:17:29.296674: I tensorflow/core/common_runtime/bfc_allocator.cc:1083] InUse at 7fb221755100 of size 3072 next 270\n",
      "2022-06-20 17:17:29.296679: I tensorflow/core/common_runtime/bfc_allocator.cc:1083] InUse at 7fb221755d00 of size 2359296 next 230\n",
      "2022-06-20 17:17:29.296684: I tensorflow/core/common_runtime/bfc_allocator.cc:1083] InUse at 7fb221995d00 of size 3072 next 265\n",
      "2022-06-20 17:17:29.296689: I tensorflow/core/common_runtime/bfc_allocator.cc:1083] InUse at 7fb221996900 of size 2359296 next 243\n",
      "2022-06-20 17:17:29.296694: I tensorflow/core/common_runtime/bfc_allocator.cc:1083] InUse at 7fb221bd6900 of size 3072 next 258\n",
      "2022-06-20 17:17:29.296699: I tensorflow/core/common_runtime/bfc_allocator.cc:1083] InUse at 7fb221bd7500 of size 3072 next 260\n",
      "2022-06-20 17:17:29.296704: I tensorflow/core/common_runtime/bfc_allocator.cc:1083] InUse at 7fb221bd8100 of size 3072 next 262\n",
      "2022-06-20 17:17:29.296709: I tensorflow/core/common_runtime/bfc_allocator.cc:1083] InUse at 7fb221bd8d00 of size 9437184 next 259\n",
      "2022-06-20 17:17:29.296714: I tensorflow/core/common_runtime/bfc_allocator.cc:1083] InUse at 7fb2224d8d00 of size 12288 next 222\n",
      "2022-06-20 17:17:29.296719: I tensorflow/core/common_runtime/bfc_allocator.cc:1083] InUse at 7fb2224dbd00 of size 9437184 next 253\n",
      "2022-06-20 17:17:29.296724: I tensorflow/core/common_runtime/bfc_allocator.cc:1083] InUse at 7fb222ddbd00 of size 3072 next 256\n",
      "2022-06-20 17:17:29.296729: I tensorflow/core/common_runtime/bfc_allocator.cc:1083] InUse at 7fb222ddc900 of size 3072 next 18\n",
      "2022-06-20 17:17:29.296734: I tensorflow/core/common_runtime/bfc_allocator.cc:1083] InUse at 7fb222ddd500 of size 3072 next 249\n",
      "2022-06-20 17:17:29.296740: I tensorflow/core/common_runtime/bfc_allocator.cc:1083] InUse at 7fb222dde100 of size 2359296 next 237\n",
      "2022-06-20 17:17:29.296745: I tensorflow/core/common_runtime/bfc_allocator.cc:1083] InUse at 7fb22301e100 of size 3072 next 223\n",
      "2022-06-20 17:17:29.296750: I tensorflow/core/common_runtime/bfc_allocator.cc:1083] InUse at 7fb22301ed00 of size 24576 next 233\n",
      "2022-06-20 17:17:29.296755: I tensorflow/core/common_runtime/bfc_allocator.cc:1083] InUse at 7fb223024d00 of size 143348736 next 410\n",
      "2022-06-20 17:17:29.296760: I tensorflow/core/common_runtime/bfc_allocator.cc:1083] InUse at 7fb22b8da100 of size 9437184 next 525\n",
      "2022-06-20 17:17:29.296765: I tensorflow/core/common_runtime/bfc_allocator.cc:1083] InUse at 7fb22c1da100 of size 2359296 next 531\n",
      "2022-06-20 17:17:29.296770: I tensorflow/core/common_runtime/bfc_allocator.cc:1083] InUse at 7fb22c41a100 of size 2359296 next 543\n",
      "2022-06-20 17:17:29.296775: I tensorflow/core/common_runtime/bfc_allocator.cc:1083] InUse at 7fb22c65a100 of size 2359296 next 549\n",
      "2022-06-20 17:17:29.296780: I tensorflow/core/common_runtime/bfc_allocator.cc:1083] InUse at 7fb22c89a100 of size 2359296 next 537\n",
      "2022-06-20 17:17:29.296785: I tensorflow/core/common_runtime/bfc_allocator.cc:1083] InUse at 7fb22cada100 of size 9437184 next 540\n",
      "2022-06-20 17:17:29.296790: I tensorflow/core/common_runtime/bfc_allocator.cc:1083] InUse at 7fb22d3da100 of size 9437184 next 541\n",
      "2022-06-20 17:17:29.296795: I tensorflow/core/common_runtime/bfc_allocator.cc:1083] InUse at 7fb22dcda100 of size 2359296 next 547\n",
      "2022-06-20 17:17:29.296801: I tensorflow/core/common_runtime/bfc_allocator.cc:1083] InUse at 7fb22df1a100 of size 2359296 next 550\n",
      "2022-06-20 17:17:29.296806: I tensorflow/core/common_runtime/bfc_allocator.cc:1083] InUse at 7fb22e15a100 of size 2359296 next 565\n",
      "2022-06-20 17:17:29.296811: I tensorflow/core/common_runtime/bfc_allocator.cc:1083] InUse at 7fb22e39a100 of size 2359296 next 553\n",
      "2022-06-20 17:17:29.296816: I tensorflow/core/common_runtime/bfc_allocator.cc:1083] InUse at 7fb22e5da100 of size 9437184 next 554\n",
      "2022-06-20 17:17:29.296821: I tensorflow/core/common_runtime/bfc_allocator.cc:1083] InUse at 7fb22eeda100 of size 9437184 next 556\n",
      "2022-06-20 17:17:29.296826: I tensorflow/core/common_runtime/bfc_allocator.cc:1083] InUse at 7fb22f7da100 of size 2359296 next 562\n",
      "2022-06-20 17:17:29.296831: I tensorflow/core/common_runtime/bfc_allocator.cc:1083] InUse at 7fb22fa1a100 of size 2359296 next 558\n",
      "2022-06-20 17:17:29.296836: I tensorflow/core/common_runtime/bfc_allocator.cc:1083] InUse at 7fb22fc5a100 of size 2359296 next 581\n",
      "2022-06-20 17:17:29.296841: I tensorflow/core/common_runtime/bfc_allocator.cc:1083] InUse at 7fb22fe9a100 of size 2359296 next 570\n",
      "2022-06-20 17:17:29.296846: I tensorflow/core/common_runtime/bfc_allocator.cc:1083] InUse at 7fb2300da100 of size 9437184 next 572\n",
      "2022-06-20 17:17:29.296851: I tensorflow/core/common_runtime/bfc_allocator.cc:1083] InUse at 7fb2309da100 of size 9437184 next 574\n",
      "2022-06-20 17:17:29.296856: I tensorflow/core/common_runtime/bfc_allocator.cc:1083] InUse at 7fb2312da100 of size 2359296 next 563\n",
      "2022-06-20 17:17:29.296861: I tensorflow/core/common_runtime/bfc_allocator.cc:1083] InUse at 7fb23151a100 of size 2359296 next 583\n",
      "2022-06-20 17:17:29.296866: I tensorflow/core/common_runtime/bfc_allocator.cc:1083] InUse at 7fb23175a100 of size 2359296 next 592\n",
      "2022-06-20 17:17:29.296871: I tensorflow/core/common_runtime/bfc_allocator.cc:1083] InUse at 7fb23199a100 of size 2359296 next 587\n",
      "2022-06-20 17:17:29.296876: I tensorflow/core/common_runtime/bfc_allocator.cc:1083] InUse at 7fb231bda100 of size 9437184 next 586\n",
      "2022-06-20 17:17:29.296881: I tensorflow/core/common_runtime/bfc_allocator.cc:1083] InUse at 7fb2324da100 of size 9437184 next 576\n",
      "2022-06-20 17:17:29.296886: I tensorflow/core/common_runtime/bfc_allocator.cc:1083] InUse at 7fb232dda100 of size 10579968 next 399\n",
      "2022-06-20 17:17:29.296891: I tensorflow/core/common_runtime/bfc_allocator.cc:1083] InUse at 7fb2337f1100 of size 9437184 next 417\n",
      "2022-06-20 17:17:29.296896: I tensorflow/core/common_runtime/bfc_allocator.cc:1083] InUse at 7fb2340f1100 of size 9437184 next 401\n",
      "2022-06-20 17:17:29.296902: I tensorflow/core/common_runtime/bfc_allocator.cc:1083] InUse at 7fb2349f1100 of size 2359296 next 408\n",
      "2022-06-20 17:17:29.296907: I tensorflow/core/common_runtime/bfc_allocator.cc:1083] InUse at 7fb234c31100 of size 9437184 next 229\n",
      "2022-06-20 17:17:29.296912: I tensorflow/core/common_runtime/bfc_allocator.cc:1083] InUse at 7fb235531100 of size 2359296 next 381\n",
      "2022-06-20 17:17:29.296917: I tensorflow/core/common_runtime/bfc_allocator.cc:1083] InUse at 7fb235771100 of size 2359296 next 363\n",
      "2022-06-20 17:17:29.296922: I tensorflow/core/common_runtime/bfc_allocator.cc:1083] InUse at 7fb2359b1100 of size 2359296 next 370\n",
      "2022-06-20 17:17:29.296927: I tensorflow/core/common_runtime/bfc_allocator.cc:1083] InUse at 7fb235bf1100 of size 2359296 next 379\n",
      "2022-06-20 17:17:29.296932: I tensorflow/core/common_runtime/bfc_allocator.cc:1083] InUse at 7fb235e31100 of size 9437184 next 280\n",
      "2022-06-20 17:17:29.296937: I tensorflow/core/common_runtime/bfc_allocator.cc:1083] InUse at 7fb236731100 of size 9437184 next 141\n",
      "2022-06-20 17:17:29.296942: I tensorflow/core/common_runtime/bfc_allocator.cc:1083] InUse at 7fb237031100 of size 2359296 next 372\n",
      "2022-06-20 17:17:29.296960: I tensorflow/core/common_runtime/bfc_allocator.cc:1083] InUse at 7fb237271100 of size 2359296 next 375\n",
      "2022-06-20 17:17:29.296966: I tensorflow/core/common_runtime/bfc_allocator.cc:1083] InUse at 7fb2374b1100 of size 2359296 next 292\n",
      "2022-06-20 17:17:29.296972: I tensorflow/core/common_runtime/bfc_allocator.cc:1083] InUse at 7fb2376f1100 of size 2359296 next 437\n",
      "2022-06-20 17:17:29.296977: I tensorflow/core/common_runtime/bfc_allocator.cc:1083] InUse at 7fb237931100 of size 3932160 next 236\n",
      "2022-06-20 17:17:29.296983: I tensorflow/core/common_runtime/bfc_allocator.cc:1083] InUse at 7fb237cf1100 of size 3145728 next 434\n",
      "2022-06-20 17:17:29.296989: I tensorflow/core/common_runtime/bfc_allocator.cc:1083] InUse at 7fb237ff1100 of size 9437184 next 411\n",
      "2022-06-20 17:17:29.296995: I tensorflow/core/common_runtime/bfc_allocator.cc:1083] InUse at 7fb2388f1100 of size 2359296 next 405\n",
      "2022-06-20 17:17:29.297000: I tensorflow/core/common_runtime/bfc_allocator.cc:1083] InUse at 7fb238b31100 of size 2359296 next 404\n",
      "2022-06-20 17:17:29.297006: I tensorflow/core/common_runtime/bfc_allocator.cc:1083] InUse at 7fb238d71100 of size 2359296 next 402\n",
      "2022-06-20 17:17:29.297012: I tensorflow/core/common_runtime/bfc_allocator.cc:1083] InUse at 7fb238fb1100 of size 2359296 next 385\n",
      "2022-06-20 17:17:29.297017: I tensorflow/core/common_runtime/bfc_allocator.cc:1083] InUse at 7fb2391f1100 of size 9437184 next 426\n",
      "2022-06-20 17:17:29.297023: I tensorflow/core/common_runtime/bfc_allocator.cc:1083] InUse at 7fb239af1100 of size 2359296 next 450\n",
      "2022-06-20 17:17:29.297029: I tensorflow/core/common_runtime/bfc_allocator.cc:1083] InUse at 7fb239d31100 of size 2359296 next 451\n",
      "2022-06-20 17:17:29.297035: I tensorflow/core/common_runtime/bfc_allocator.cc:1083] InUse at 7fb239f71100 of size 2359296 next 455\n",
      "2022-06-20 17:17:29.297040: I tensorflow/core/common_runtime/bfc_allocator.cc:1083] InUse at 7fb23a1b1100 of size 2359296 next 463\n",
      "2022-06-20 17:17:29.297046: I tensorflow/core/common_runtime/bfc_allocator.cc:1083] InUse at 7fb23a3f1100 of size 2359296 next 468\n",
      "2022-06-20 17:17:29.297052: I tensorflow/core/common_runtime/bfc_allocator.cc:1083] InUse at 7fb23a631100 of size 2359296 next 469\n",
      "2022-06-20 17:17:29.297058: I tensorflow/core/common_runtime/bfc_allocator.cc:1083] InUse at 7fb23a871100 of size 2359296 next 473\n",
      "2022-06-20 17:17:29.297063: I tensorflow/core/common_runtime/bfc_allocator.cc:1083] InUse at 7fb23aab1100 of size 2359296 next 466\n",
      "2022-06-20 17:17:29.297069: I tensorflow/core/common_runtime/bfc_allocator.cc:1083] InUse at 7fb23acf1100 of size 2359296 next 472\n",
      "2022-06-20 17:17:29.297075: I tensorflow/core/common_runtime/bfc_allocator.cc:1083] InUse at 7fb23af31100 of size 2359296 next 486\n",
      "2022-06-20 17:17:29.297080: I tensorflow/core/common_runtime/bfc_allocator.cc:1083] InUse at 7fb23b171100 of size 2359296 next 460\n",
      "2022-06-20 17:17:29.297086: I tensorflow/core/common_runtime/bfc_allocator.cc:1083] InUse at 7fb23b3b1100 of size 9437184 next 459\n",
      "2022-06-20 17:17:29.297092: I tensorflow/core/common_runtime/bfc_allocator.cc:1083] InUse at 7fb23bcb1100 of size 9437184 next 462\n",
      "2022-06-20 17:17:29.297097: I tensorflow/core/common_runtime/bfc_allocator.cc:1083] InUse at 7fb23c5b1100 of size 2359296 next 483\n",
      "2022-06-20 17:17:29.297103: I tensorflow/core/common_runtime/bfc_allocator.cc:1083] InUse at 7fb23c7f1100 of size 2359296 next 496\n",
      "2022-06-20 17:17:29.297109: I tensorflow/core/common_runtime/bfc_allocator.cc:1083] InUse at 7fb23ca31100 of size 2359296 next 502\n",
      "2022-06-20 17:17:29.297114: I tensorflow/core/common_runtime/bfc_allocator.cc:1083] InUse at 7fb23cc71100 of size 2359296 next 475\n",
      "2022-06-20 17:17:29.297120: I tensorflow/core/common_runtime/bfc_allocator.cc:1083] InUse at 7fb23ceb1100 of size 11188224 next 436\n",
      "2022-06-20 17:17:29.297127: I tensorflow/core/common_runtime/bfc_allocator.cc:1083] InUse at 7fb23d95c900 of size 93763584 next 439\n",
      "2022-06-20 17:17:29.297133: I tensorflow/core/common_runtime/bfc_allocator.cc:1083] InUse at 7fb2432c8100 of size 9437184 next 477\n",
      "2022-06-20 17:17:29.297139: I tensorflow/core/common_runtime/bfc_allocator.cc:1083] InUse at 7fb243bc8100 of size 2359296 next 500\n",
      "2022-06-20 17:17:29.297144: I tensorflow/core/common_runtime/bfc_allocator.cc:1083] InUse at 7fb243e08100 of size 2359296 next 516\n",
      "2022-06-20 17:17:29.297150: I tensorflow/core/common_runtime/bfc_allocator.cc:1083] InUse at 7fb244048100 of size 2359296 next 518\n",
      "2022-06-20 17:17:29.297156: I tensorflow/core/common_runtime/bfc_allocator.cc:1083] InUse at 7fb244288100 of size 2359296 next 492\n",
      "2022-06-20 17:17:29.297161: I tensorflow/core/common_runtime/bfc_allocator.cc:1083] InUse at 7fb2444c8100 of size 9437184 next 491\n",
      "2022-06-20 17:17:29.297167: I tensorflow/core/common_runtime/bfc_allocator.cc:1083] InUse at 7fb244dc8100 of size 9437184 next 494\n",
      "2022-06-20 17:17:29.297173: I tensorflow/core/common_runtime/bfc_allocator.cc:1083] InUse at 7fb2456c8100 of size 2359296 next 514\n",
      "2022-06-20 17:17:29.297178: I tensorflow/core/common_runtime/bfc_allocator.cc:1083] InUse at 7fb245908100 of size 2359296 next 527\n",
      "2022-06-20 17:17:29.297184: I tensorflow/core/common_runtime/bfc_allocator.cc:1083] InUse at 7fb245b48100 of size 2359296 next 495\n",
      "2022-06-20 17:17:29.297190: I tensorflow/core/common_runtime/bfc_allocator.cc:1083] InUse at 7fb245d88100 of size 2359296 next 506\n",
      "2022-06-20 17:17:29.297195: I tensorflow/core/common_runtime/bfc_allocator.cc:1083] InUse at 7fb245fc8100 of size 9437184 next 507\n",
      "2022-06-20 17:17:29.297201: I tensorflow/core/common_runtime/bfc_allocator.cc:1083] InUse at 7fb2468c8100 of size 9437184 next 509\n",
      "2022-06-20 17:17:29.297207: I tensorflow/core/common_runtime/bfc_allocator.cc:1083] InUse at 7fb2471c8100 of size 2359296 next 579\n",
      "2022-06-20 17:17:29.297213: I tensorflow/core/common_runtime/bfc_allocator.cc:1083] InUse at 7fb247408100 of size 2359296 next 604\n",
      "2022-06-20 17:17:29.297218: I tensorflow/core/common_runtime/bfc_allocator.cc:1083] InUse at 7fb247648100 of size 2359296 next 610\n",
      "2022-06-20 17:17:29.297224: I tensorflow/core/common_runtime/bfc_allocator.cc:1083] InUse at 7fb247888100 of size 23999232 next 552\n",
      "2022-06-20 17:17:29.297230: I tensorflow/core/common_runtime/bfc_allocator.cc:1083] InUse at 7fb248f6b400 of size 23999232 next 591\n",
      "2022-06-20 17:17:29.297236: I tensorflow/core/common_runtime/bfc_allocator.cc:1083] InUse at 7fb24a64e700 of size 9437184 next 353\n",
      "2022-06-20 17:17:29.297241: I tensorflow/core/common_runtime/bfc_allocator.cc:1083] InUse at 7fb24af4e700 of size 9437184 next 369\n",
      "2022-06-20 17:17:29.297247: I tensorflow/core/common_runtime/bfc_allocator.cc:1083] InUse at 7fb24b84e700 of size 2359296 next 352\n",
      "2022-06-20 17:17:29.297253: I tensorflow/core/common_runtime/bfc_allocator.cc:1083] InUse at 7fb24ba8e700 of size 2359296 next 356\n",
      "2022-06-20 17:17:29.297258: I tensorflow/core/common_runtime/bfc_allocator.cc:1083] InUse at 7fb24bcce700 of size 2359296 next 360\n",
      "2022-06-20 17:17:29.297264: I tensorflow/core/common_runtime/bfc_allocator.cc:1083] InUse at 7fb24bf0e700 of size 2359296 next 359\n",
      "2022-06-20 17:17:29.297270: I tensorflow/core/common_runtime/bfc_allocator.cc:1083] InUse at 7fb24c14e700 of size 9437184 next 286\n",
      "2022-06-20 17:17:29.297275: I tensorflow/core/common_runtime/bfc_allocator.cc:1083] InUse at 7fb24ca4e700 of size 9437184 next 349\n",
      "2022-06-20 17:17:29.297281: I tensorflow/core/common_runtime/bfc_allocator.cc:1083] InUse at 7fb24d34e700 of size 2359296 next 348\n",
      "2022-06-20 17:17:29.297287: I tensorflow/core/common_runtime/bfc_allocator.cc:1083] InUse at 7fb24d58e700 of size 2359296 next 330\n",
      "2022-06-20 17:17:29.297292: I tensorflow/core/common_runtime/bfc_allocator.cc:1083] InUse at 7fb24d7ce700 of size 2359296 next 347\n",
      "2022-06-20 17:17:29.297298: I tensorflow/core/common_runtime/bfc_allocator.cc:1083] InUse at 7fb24da0e700 of size 2359296 next 328\n",
      "2022-06-20 17:17:29.297304: I tensorflow/core/common_runtime/bfc_allocator.cc:1083] InUse at 7fb24dc4e700 of size 9437184 next 342\n",
      "2022-06-20 17:17:29.297310: I tensorflow/core/common_runtime/bfc_allocator.cc:1083] InUse at 7fb24e54e700 of size 9437184 next 297\n",
      "2022-06-20 17:17:29.297315: I tensorflow/core/common_runtime/bfc_allocator.cc:1083] InUse at 7fb24ee4e700 of size 3072 next 272\n",
      "2022-06-20 17:17:29.297321: I tensorflow/core/common_runtime/bfc_allocator.cc:1083] InUse at 7fb24ee4f300 of size 3072 next 334\n",
      "2022-06-20 17:17:29.297326: I tensorflow/core/common_runtime/bfc_allocator.cc:1083] InUse at 7fb24ee4ff00 of size 3072 next 302\n",
      "2022-06-20 17:17:29.297333: I tensorflow/core/common_runtime/bfc_allocator.cc:1083] InUse at 7fb24ee50b00 of size 2359296 next 332\n",
      "2022-06-20 17:17:29.297338: I tensorflow/core/common_runtime/bfc_allocator.cc:1083] InUse at 7fb24f090b00 of size 3072 next 338\n",
      "2022-06-20 17:17:29.297344: I tensorflow/core/common_runtime/bfc_allocator.cc:1083] InUse at 7fb24f091700 of size 2359296 next 335\n",
      "2022-06-20 17:17:29.297350: I tensorflow/core/common_runtime/bfc_allocator.cc:1083] InUse at 7fb24f2d1700 of size 3072 next 321\n",
      "2022-06-20 17:17:29.297356: I tensorflow/core/common_runtime/bfc_allocator.cc:1083] InUse at 7fb24f2d2300 of size 2359296 next 331\n",
      "2022-06-20 17:17:29.297361: I tensorflow/core/common_runtime/bfc_allocator.cc:1083] InUse at 7fb24f512300 of size 3072 next 316\n",
      "2022-06-20 17:17:29.297367: I tensorflow/core/common_runtime/bfc_allocator.cc:1083] InUse at 7fb24f512f00 of size 2359296 next 315\n",
      "2022-06-20 17:17:29.297373: I tensorflow/core/common_runtime/bfc_allocator.cc:1083] InUse at 7fb24f752f00 of size 3072 next 326\n",
      "2022-06-20 17:17:29.297378: I tensorflow/core/common_runtime/bfc_allocator.cc:1083] InUse at 7fb24f753b00 of size 3072 next 329\n",
      "2022-06-20 17:17:29.297384: I tensorflow/core/common_runtime/bfc_allocator.cc:1083] InUse at 7fb24f754700 of size 3072 next 327\n",
      "2022-06-20 17:17:29.297390: I tensorflow/core/common_runtime/bfc_allocator.cc:1083] InUse at 7fb24f755300 of size 9739776 next 617\n",
      "2022-06-20 17:17:29.297396: I tensorflow/core/common_runtime/bfc_allocator.cc:1083] InUse at 7fb25009f100 of size 9437184 next 619\n",
      "2022-06-20 17:17:29.297402: I tensorflow/core/common_runtime/bfc_allocator.cc:1083] InUse at 7fb25099f100 of size 2359296 next 611\n",
      "2022-06-20 17:17:29.297408: I tensorflow/core/common_runtime/bfc_allocator.cc:1083] InUse at 7fb250bdf100 of size 2359296 next 640\n",
      "2022-06-20 17:17:29.297413: I tensorflow/core/common_runtime/bfc_allocator.cc:1083] InUse at 7fb250e1f100 of size 240128 next 705\n",
      "2022-06-20 17:17:29.297419: I tensorflow/core/common_runtime/bfc_allocator.cc:1083] Free  at 7fb250e59b00 of size 204800 next 698\n",
      "2022-06-20 17:17:29.297425: I tensorflow/core/common_runtime/bfc_allocator.cc:1083] InUse at 7fb250e8bb00 of size 204800 next 692\n",
      "2022-06-20 17:17:29.297430: I tensorflow/core/common_runtime/bfc_allocator.cc:1083] InUse at 7fb250ebdb00 of size 204800 next 699\n",
      "2022-06-20 17:17:29.297436: I tensorflow/core/common_runtime/bfc_allocator.cc:1083] Free  at 7fb250eefb00 of size 718336 next 427\n",
      "2022-06-20 17:17:29.297441: I tensorflow/core/common_runtime/bfc_allocator.cc:1083] InUse at 7fb250f9f100 of size 2359296 next 425\n",
      "2022-06-20 17:17:29.297448: I tensorflow/core/common_runtime/bfc_allocator.cc:1083] InUse at 7fb2511df100 of size 3145728 next 614\n",
      "2022-06-20 17:17:29.297453: I tensorflow/core/common_runtime/bfc_allocator.cc:1083] InUse at 7fb2514df100 of size 2359296 next 624\n",
      "2022-06-20 17:17:29.297459: I tensorflow/core/common_runtime/bfc_allocator.cc:1083] InUse at 7fb25171f100 of size 2359296 next 625\n",
      "2022-06-20 17:17:29.297465: I tensorflow/core/common_runtime/bfc_allocator.cc:1083] InUse at 7fb25195f100 of size 2359296 next 633\n",
      "2022-06-20 17:17:29.297470: I tensorflow/core/common_runtime/bfc_allocator.cc:1083] InUse at 7fb251b9f100 of size 9437184 next 631\n",
      "2022-06-20 17:17:29.297476: I tensorflow/core/common_runtime/bfc_allocator.cc:1083] InUse at 7fb25249f100 of size 2359296 next 366\n",
      "2022-06-20 17:17:29.297482: I tensorflow/core/common_runtime/bfc_allocator.cc:1083] InUse at 7fb2526df100 of size 2359296 next 429\n",
      "2022-06-20 17:17:29.297487: I tensorflow/core/common_runtime/bfc_allocator.cc:1083] InUse at 7fb25291f100 of size 2359296 next 421\n",
      "2022-06-20 17:17:29.297493: I tensorflow/core/common_runtime/bfc_allocator.cc:1083] InUse at 7fb252b5f100 of size 2359296 next 635\n",
      "2022-06-20 17:17:29.297498: I tensorflow/core/common_runtime/bfc_allocator.cc:1083] InUse at 7fb252d9f100 of size 9437184 next 520\n",
      "2022-06-20 17:17:29.297504: I tensorflow/core/common_runtime/bfc_allocator.cc:1083] InUse at 7fb25369f100 of size 9437184 next 599\n",
      "2022-06-20 17:17:29.297510: I tensorflow/core/common_runtime/bfc_allocator.cc:1083] InUse at 7fb253f9f100 of size 9437184 next 524\n",
      "2022-06-20 17:17:29.297516: I tensorflow/core/common_runtime/bfc_allocator.cc:1083] InUse at 7fb25489f100 of size 9437184 next 618\n",
      "2022-06-20 17:17:29.297521: I tensorflow/core/common_runtime/bfc_allocator.cc:1083] InUse at 7fb25519f100 of size 56014848 next 637\n",
      "2022-06-20 17:17:29.297527: I tensorflow/core/common_runtime/bfc_allocator.cc:1083] InUse at 7fb25870a900 of size 93763584 next 642\n",
      "2022-06-20 17:17:29.297533: I tensorflow/core/common_runtime/bfc_allocator.cc:1083] InUse at 7fb25e076100 of size 157286400 next 829\n",
      "2022-06-20 17:17:29.297539: I tensorflow/core/common_runtime/bfc_allocator.cc:1083] InUse at 7fb267676100 of size 157286400 next 821\n",
      "2022-06-20 17:17:29.297545: I tensorflow/core/common_runtime/bfc_allocator.cc:1083] InUse at 7fb270c76100 of size 157286400 next 826\n",
      "2022-06-20 17:17:29.297551: I tensorflow/core/common_runtime/bfc_allocator.cc:1083] InUse at 7fb27a276100 of size 157286400 next 825\n",
      "2022-06-20 17:17:29.297556: I tensorflow/core/common_runtime/bfc_allocator.cc:1083] InUse at 7fb283876100 of size 157286400 next 824\n",
      "2022-06-20 17:17:29.297562: I tensorflow/core/common_runtime/bfc_allocator.cc:1083] InUse at 7fb28ce76100 of size 157286400 next 830\n",
      "2022-06-20 17:17:29.297568: I tensorflow/core/common_runtime/bfc_allocator.cc:1083] Free  at 7fb296476100 of size 157286400 next 831\n",
      "2022-06-20 17:17:29.297573: I tensorflow/core/common_runtime/bfc_allocator.cc:1083] InUse at 7fb29fa76100 of size 157286400 next 804\n",
      "2022-06-20 17:17:29.297579: I tensorflow/core/common_runtime/bfc_allocator.cc:1083] Free  at 7fb2a9076100 of size 156409600 next 18446744073709551615\n",
      "2022-06-20 17:17:29.297585: I tensorflow/core/common_runtime/bfc_allocator.cc:1088]      Summary of in-use Chunks by size: \n",
      "2022-06-20 17:17:29.297594: I tensorflow/core/common_runtime/bfc_allocator.cc:1091] 90 Chunks of size 256 totalling 22.5KiB\n",
      "2022-06-20 17:17:29.297601: I tensorflow/core/common_runtime/bfc_allocator.cc:1091] 1 Chunks of size 512 totalling 512B\n",
      "2022-06-20 17:17:29.297608: I tensorflow/core/common_runtime/bfc_allocator.cc:1091] 1 Chunks of size 1280 totalling 1.2KiB\n",
      "2022-06-20 17:17:29.297614: I tensorflow/core/common_runtime/bfc_allocator.cc:1091] 1 Chunks of size 2560 totalling 2.5KiB\n",
      "2022-06-20 17:17:29.297621: I tensorflow/core/common_runtime/bfc_allocator.cc:1091] 330 Chunks of size 3072 totalling 990.0KiB\n",
      "2022-06-20 17:17:29.297627: I tensorflow/core/common_runtime/bfc_allocator.cc:1091] 1 Chunks of size 3328 totalling 3.2KiB\n",
      "2022-06-20 17:17:29.297633: I tensorflow/core/common_runtime/bfc_allocator.cc:1091] 1 Chunks of size 3840 totalling 3.8KiB\n",
      "2022-06-20 17:17:29.297639: I tensorflow/core/common_runtime/bfc_allocator.cc:1091] 1 Chunks of size 5888 totalling 5.8KiB\n",
      "2022-06-20 17:17:29.297645: I tensorflow/core/common_runtime/bfc_allocator.cc:1091] 3 Chunks of size 6144 totalling 18.0KiB\n",
      "2022-06-20 17:17:29.297652: I tensorflow/core/common_runtime/bfc_allocator.cc:1091] 31 Chunks of size 12288 totalling 372.0KiB\n",
      "2022-06-20 17:17:29.297658: I tensorflow/core/common_runtime/bfc_allocator.cc:1091] 1 Chunks of size 12544 totalling 12.2KiB\n",
      "2022-06-20 17:17:29.297665: I tensorflow/core/common_runtime/bfc_allocator.cc:1091] 3 Chunks of size 15360 totalling 45.0KiB\n",
      "2022-06-20 17:17:29.297671: I tensorflow/core/common_runtime/bfc_allocator.cc:1091] 1 Chunks of size 21504 totalling 21.0KiB\n",
      "2022-06-20 17:17:29.297678: I tensorflow/core/common_runtime/bfc_allocator.cc:1091] 1 Chunks of size 21760 totalling 21.2KiB\n",
      "2022-06-20 17:17:29.297684: I tensorflow/core/common_runtime/bfc_allocator.cc:1091] 3 Chunks of size 24576 totalling 72.0KiB\n",
      "2022-06-20 17:17:29.297691: I tensorflow/core/common_runtime/bfc_allocator.cc:1091] 5 Chunks of size 204800 totalling 1000.0KiB\n",
      "2022-06-20 17:17:29.297698: I tensorflow/core/common_runtime/bfc_allocator.cc:1091] 2 Chunks of size 240128 totalling 469.0KiB\n",
      "2022-06-20 17:17:29.297704: I tensorflow/core/common_runtime/bfc_allocator.cc:1091] 1 Chunks of size 470016 totalling 459.0KiB\n",
      "2022-06-20 17:17:29.297710: I tensorflow/core/common_runtime/bfc_allocator.cc:1091] 1 Chunks of size 1572864 totalling 1.50MiB\n",
      "2022-06-20 17:17:29.297717: I tensorflow/core/common_runtime/bfc_allocator.cc:1091] 1 Chunks of size 1579264 totalling 1.51MiB\n",
      "2022-06-20 17:17:29.297723: I tensorflow/core/common_runtime/bfc_allocator.cc:1091] 145 Chunks of size 2359296 totalling 326.25MiB\n",
      "2022-06-20 17:17:29.297730: I tensorflow/core/common_runtime/bfc_allocator.cc:1091] 2 Chunks of size 3145728 totalling 6.00MiB\n",
      "2022-06-20 17:17:29.297736: I tensorflow/core/common_runtime/bfc_allocator.cc:1091] 1 Chunks of size 3932160 totalling 3.75MiB\n",
      "2022-06-20 17:17:29.297742: I tensorflow/core/common_runtime/bfc_allocator.cc:1091] 68 Chunks of size 9437184 totalling 612.00MiB\n",
      "2022-06-20 17:17:29.297749: I tensorflow/core/common_runtime/bfc_allocator.cc:1091] 1 Chunks of size 9739776 totalling 9.29MiB\n",
      "2022-06-20 17:17:29.297755: I tensorflow/core/common_runtime/bfc_allocator.cc:1091] 1 Chunks of size 10579968 totalling 10.09MiB\n",
      "2022-06-20 17:17:29.297762: I tensorflow/core/common_runtime/bfc_allocator.cc:1091] 1 Chunks of size 11188224 totalling 10.67MiB\n",
      "2022-06-20 17:17:29.297768: I tensorflow/core/common_runtime/bfc_allocator.cc:1091] 1 Chunks of size 14170624 totalling 13.51MiB\n",
      "2022-06-20 17:17:29.297775: I tensorflow/core/common_runtime/bfc_allocator.cc:1091] 4 Chunks of size 23999232 totalling 91.55MiB\n",
      "2022-06-20 17:17:29.297781: I tensorflow/core/common_runtime/bfc_allocator.cc:1091] 1 Chunks of size 56014848 totalling 53.42MiB\n",
      "2022-06-20 17:17:29.297788: I tensorflow/core/common_runtime/bfc_allocator.cc:1091] 2 Chunks of size 93763584 totalling 178.84MiB\n",
      "2022-06-20 17:17:29.297795: I tensorflow/core/common_runtime/bfc_allocator.cc:1091] 1 Chunks of size 143348736 totalling 136.71MiB\n",
      "2022-06-20 17:17:29.297801: I tensorflow/core/common_runtime/bfc_allocator.cc:1091] 7 Chunks of size 157286400 totalling 1.03GiB\n",
      "2022-06-20 17:17:29.297807: I tensorflow/core/common_runtime/bfc_allocator.cc:1095] Sum Total of in-use chunks: 2.45GiB\n",
      "2022-06-20 17:17:29.297813: I tensorflow/core/common_runtime/bfc_allocator.cc:1097] total_region_allocated_bytes_: 2992242688 memory_limit_: 2992242688 available bytes: 0 curr_region_allocation_bytes_: 5984485376\n",
      "2022-06-20 17:17:29.297824: I tensorflow/core/common_runtime/bfc_allocator.cc:1103] Stats: \n",
      "Limit:                      2992242688\n",
      "InUse:                      2630376704\n",
      "MaxInUse:                   2979504384\n",
      "NumAllocs:                        6471\n",
      "MaxAllocSize:                157286400\n",
      "Reserved:                            0\n",
      "PeakReserved:                        0\n",
      "LargestFreeBlock:                    0\n",
      "\n",
      "2022-06-20 17:17:29.297860: W tensorflow/core/common_runtime/bfc_allocator.cc:491] ***********************x*************************************************************____******_____\n",
      "2022-06-20 17:17:29.297895: W tensorflow/core/framework/op_kernel.cc:1745] OP_REQUIRES failed at matmul_op_impl.h:681 : RESOURCE_EXHAUSTED: OOM when allocating tensor with shape[512,12,100,100] and type float on /job:localhost/replica:0/task:0/device:GPU:0 by allocator GPU_0_bfc\n"
     ]
    },
    {
     "ename": "ResourceExhaustedError",
     "evalue": "Graph execution error:\n\nDetected at node 'model/tf_bert_model_2/bert/encoder/layer_._0/attention/self/MatMul' defined at (most recent call last):\n    File \"/usr/lib/python3.8/runpy.py\", line 194, in _run_module_as_main\n      return _run_code(code, main_globals, None,\n    File \"/usr/lib/python3.8/runpy.py\", line 87, in _run_code\n      exec(code, run_globals)\n    File \"/home/petar/jupyter/lib/python3.8/site-packages/ipykernel_launcher.py\", line 17, in <module>\n      app.launch_new_instance()\n    File \"/home/petar/jupyter/lib/python3.8/site-packages/traitlets/config/application.py\", line 976, in launch_instance\n      app.start()\n    File \"/home/petar/jupyter/lib/python3.8/site-packages/ipykernel/kernelapp.py\", line 712, in start\n      self.io_loop.start()\n    File \"/home/petar/jupyter/lib/python3.8/site-packages/tornado/platform/asyncio.py\", line 199, in start\n      self.asyncio_loop.run_forever()\n    File \"/usr/lib/python3.8/asyncio/base_events.py\", line 570, in run_forever\n      self._run_once()\n    File \"/usr/lib/python3.8/asyncio/base_events.py\", line 1859, in _run_once\n      handle._run()\n    File \"/usr/lib/python3.8/asyncio/events.py\", line 81, in _run\n      self._context.run(self._callback, *self._args)\n    File \"/home/petar/jupyter/lib/python3.8/site-packages/ipykernel/kernelbase.py\", line 510, in dispatch_queue\n      await self.process_one()\n    File \"/home/petar/jupyter/lib/python3.8/site-packages/ipykernel/kernelbase.py\", line 499, in process_one\n      await dispatch(*args)\n    File \"/home/petar/jupyter/lib/python3.8/site-packages/ipykernel/kernelbase.py\", line 406, in dispatch_shell\n      await result\n    File \"/home/petar/jupyter/lib/python3.8/site-packages/ipykernel/kernelbase.py\", line 730, in execute_request\n      reply_content = await reply_content\n    File \"/home/petar/jupyter/lib/python3.8/site-packages/ipykernel/ipkernel.py\", line 383, in do_execute\n      res = shell.run_cell(\n    File \"/home/petar/jupyter/lib/python3.8/site-packages/ipykernel/zmqshell.py\", line 528, in run_cell\n      return super().run_cell(*args, **kwargs)\n    File \"/home/petar/jupyter/lib/python3.8/site-packages/IPython/core/interactiveshell.py\", line 2881, in run_cell\n      result = self._run_cell(\n    File \"/home/petar/jupyter/lib/python3.8/site-packages/IPython/core/interactiveshell.py\", line 2936, in _run_cell\n      return runner(coro)\n    File \"/home/petar/jupyter/lib/python3.8/site-packages/IPython/core/async_helpers.py\", line 129, in _pseudo_sync_runner\n      coro.send(None)\n    File \"/home/petar/jupyter/lib/python3.8/site-packages/IPython/core/interactiveshell.py\", line 3135, in run_cell_async\n      has_raised = await self.run_ast_nodes(code_ast.body, cell_name,\n    File \"/home/petar/jupyter/lib/python3.8/site-packages/IPython/core/interactiveshell.py\", line 3338, in run_ast_nodes\n      if await self.run_code(code, result, async_=asy):\n    File \"/home/petar/jupyter/lib/python3.8/site-packages/IPython/core/interactiveshell.py\", line 3398, in run_code\n      exec(code_obj, self.user_global_ns, self.user_ns)\n    File \"/tmp/ipykernel_7125/3852371361.py\", line 1, in <cell line: 1>\n      bert_base_model1.fit([np.array(train_input_ids), np.array(train_attention_masks)], np.array(train_outputs), epochs=1)\n    File \"/home/petar/jupyter/lib/python3.8/site-packages/keras/utils/traceback_utils.py\", line 64, in error_handler\n      return fn(*args, **kwargs)\n    File \"/home/petar/jupyter/lib/python3.8/site-packages/keras/engine/training.py\", line 1409, in fit\n      tmp_logs = self.train_function(iterator)\n    File \"/home/petar/jupyter/lib/python3.8/site-packages/keras/engine/training.py\", line 1051, in train_function\n      return step_function(self, iterator)\n    File \"/home/petar/jupyter/lib/python3.8/site-packages/keras/engine/training.py\", line 1040, in step_function\n      outputs = model.distribute_strategy.run(run_step, args=(data,))\n    File \"/home/petar/jupyter/lib/python3.8/site-packages/keras/engine/training.py\", line 1030, in run_step\n      outputs = model.train_step(data)\n    File \"/home/petar/jupyter/lib/python3.8/site-packages/keras/engine/training.py\", line 889, in train_step\n      y_pred = self(x, training=True)\n    File \"/home/petar/jupyter/lib/python3.8/site-packages/keras/utils/traceback_utils.py\", line 64, in error_handler\n      return fn(*args, **kwargs)\n    File \"/home/petar/jupyter/lib/python3.8/site-packages/keras/engine/training.py\", line 490, in __call__\n      return super().__call__(*args, **kwargs)\n    File \"/home/petar/jupyter/lib/python3.8/site-packages/keras/utils/traceback_utils.py\", line 64, in error_handler\n      return fn(*args, **kwargs)\n    File \"/home/petar/jupyter/lib/python3.8/site-packages/keras/engine/base_layer.py\", line 1014, in __call__\n      outputs = call_fn(inputs, *args, **kwargs)\n    File \"/home/petar/jupyter/lib/python3.8/site-packages/keras/utils/traceback_utils.py\", line 92, in error_handler\n      return fn(*args, **kwargs)\n    File \"/home/petar/jupyter/lib/python3.8/site-packages/keras/engine/functional.py\", line 458, in call\n      return self._run_internal_graph(\n    File \"/home/petar/jupyter/lib/python3.8/site-packages/keras/engine/functional.py\", line 596, in _run_internal_graph\n      outputs = node.layer(*args, **kwargs)\n    File \"/home/petar/jupyter/lib/python3.8/site-packages/keras/utils/traceback_utils.py\", line 64, in error_handler\n      return fn(*args, **kwargs)\n    File \"/home/petar/jupyter/lib/python3.8/site-packages/keras/engine/training.py\", line 490, in __call__\n      return super().__call__(*args, **kwargs)\n    File \"/home/petar/jupyter/lib/python3.8/site-packages/keras/utils/traceback_utils.py\", line 64, in error_handler\n      return fn(*args, **kwargs)\n    File \"/home/petar/jupyter/lib/python3.8/site-packages/keras/engine/base_layer.py\", line 1014, in __call__\n      outputs = call_fn(inputs, *args, **kwargs)\n    File \"/home/petar/jupyter/lib/python3.8/site-packages/keras/utils/traceback_utils.py\", line 92, in error_handler\n      return fn(*args, **kwargs)\n    File \"/home/petar/jupyter/lib/python3.8/site-packages/transformers/modeling_tf_utils.py\", line 1078, in run_call_with_unpacked_inputs\n      arg_names = list(dict(inspect.signature(self.call).parameters).keys())\n    File \"/home/petar/jupyter/lib/python3.8/site-packages/transformers/models/bert/modeling_tf_bert.py\", line 1109, in call\n      outputs = self.bert(\n    File \"/home/petar/jupyter/lib/python3.8/site-packages/keras/utils/traceback_utils.py\", line 64, in error_handler\n      return fn(*args, **kwargs)\n    File \"/home/petar/jupyter/lib/python3.8/site-packages/keras/engine/base_layer.py\", line 1014, in __call__\n      outputs = call_fn(inputs, *args, **kwargs)\n    File \"/home/petar/jupyter/lib/python3.8/site-packages/keras/utils/traceback_utils.py\", line 92, in error_handler\n      return fn(*args, **kwargs)\n    File \"/home/petar/jupyter/lib/python3.8/site-packages/transformers/modeling_tf_utils.py\", line 1078, in run_call_with_unpacked_inputs\n      arg_names = list(dict(inspect.signature(self.call).parameters).keys())\n    File \"/home/petar/jupyter/lib/python3.8/site-packages/transformers/models/bert/modeling_tf_bert.py\", line 869, in call\n      encoder_outputs = self.encoder(\n    File \"/home/petar/jupyter/lib/python3.8/site-packages/keras/utils/traceback_utils.py\", line 64, in error_handler\n      return fn(*args, **kwargs)\n    File \"/home/petar/jupyter/lib/python3.8/site-packages/keras/engine/base_layer.py\", line 1014, in __call__\n      outputs = call_fn(inputs, *args, **kwargs)\n    File \"/home/petar/jupyter/lib/python3.8/site-packages/keras/utils/traceback_utils.py\", line 92, in error_handler\n      return fn(*args, **kwargs)\n    File \"/home/petar/jupyter/lib/python3.8/site-packages/transformers/models/bert/modeling_tf_bert.py\", line 554, in call\n      for i, layer_module in enumerate(self.layer):\n    File \"/home/petar/jupyter/lib/python3.8/site-packages/transformers/models/bert/modeling_tf_bert.py\", line 560, in call\n      layer_outputs = layer_module(\n    File \"/home/petar/jupyter/lib/python3.8/site-packages/keras/utils/traceback_utils.py\", line 64, in error_handler\n      return fn(*args, **kwargs)\n    File \"/home/petar/jupyter/lib/python3.8/site-packages/keras/engine/base_layer.py\", line 1014, in __call__\n      outputs = call_fn(inputs, *args, **kwargs)\n    File \"/home/petar/jupyter/lib/python3.8/site-packages/keras/utils/traceback_utils.py\", line 92, in error_handler\n      return fn(*args, **kwargs)\n    File \"/home/petar/jupyter/lib/python3.8/site-packages/transformers/models/bert/modeling_tf_bert.py\", line 470, in call\n      self_attention_outputs = self.attention(\n    File \"/home/petar/jupyter/lib/python3.8/site-packages/keras/utils/traceback_utils.py\", line 64, in error_handler\n      return fn(*args, **kwargs)\n    File \"/home/petar/jupyter/lib/python3.8/site-packages/keras/engine/base_layer.py\", line 1014, in __call__\n      outputs = call_fn(inputs, *args, **kwargs)\n    File \"/home/petar/jupyter/lib/python3.8/site-packages/keras/utils/traceback_utils.py\", line 92, in error_handler\n      return fn(*args, **kwargs)\n    File \"/home/petar/jupyter/lib/python3.8/site-packages/transformers/models/bert/modeling_tf_bert.py\", line 386, in call\n      self_outputs = self.self_attention(\n    File \"/home/petar/jupyter/lib/python3.8/site-packages/keras/utils/traceback_utils.py\", line 64, in error_handler\n      return fn(*args, **kwargs)\n    File \"/home/petar/jupyter/lib/python3.8/site-packages/keras/engine/base_layer.py\", line 1014, in __call__\n      outputs = call_fn(inputs, *args, **kwargs)\n    File \"/home/petar/jupyter/lib/python3.8/site-packages/keras/utils/traceback_utils.py\", line 92, in error_handler\n      return fn(*args, **kwargs)\n    File \"/home/petar/jupyter/lib/python3.8/site-packages/transformers/models/bert/modeling_tf_bert.py\", line 316, in call\n      attention_scores = tf.matmul(query_layer, key_layer, transpose_b=True)\nNode: 'model/tf_bert_model_2/bert/encoder/layer_._0/attention/self/MatMul'\nOOM when allocating tensor with shape[512,12,100,100] and type float on /job:localhost/replica:0/task:0/device:GPU:0 by allocator GPU_0_bfc\n\t [[{{node model/tf_bert_model_2/bert/encoder/layer_._0/attention/self/MatMul}}]]\nHint: If you want to see a list of allocated tensors when OOM happens, add report_tensor_allocations_upon_oom to RunOptions for current allocation info. This isn't available when running in Eager mode.\n [Op:__inference_train_function_42423]",
     "output_type": "error",
     "traceback": [
      "\u001b[0;31m---------------------------------------------------------------------------\u001b[0m",
      "\u001b[0;31mResourceExhaustedError\u001b[0m                    Traceback (most recent call last)",
      "Input \u001b[0;32mIn [76]\u001b[0m, in \u001b[0;36m<cell line: 1>\u001b[0;34m()\u001b[0m\n\u001b[0;32m----> 1\u001b[0m \u001b[43mbert_base_model1\u001b[49m\u001b[38;5;241;43m.\u001b[39;49m\u001b[43mfit\u001b[49m\u001b[43m(\u001b[49m\u001b[43m[\u001b[49m\u001b[43mnp\u001b[49m\u001b[38;5;241;43m.\u001b[39;49m\u001b[43marray\u001b[49m\u001b[43m(\u001b[49m\u001b[43mtrain_input_ids\u001b[49m\u001b[43m)\u001b[49m\u001b[43m,\u001b[49m\u001b[43m \u001b[49m\u001b[43mnp\u001b[49m\u001b[38;5;241;43m.\u001b[39;49m\u001b[43marray\u001b[49m\u001b[43m(\u001b[49m\u001b[43mtrain_attention_masks\u001b[49m\u001b[43m)\u001b[49m\u001b[43m]\u001b[49m\u001b[43m,\u001b[49m\u001b[43m \u001b[49m\u001b[43mnp\u001b[49m\u001b[38;5;241;43m.\u001b[39;49m\u001b[43marray\u001b[49m\u001b[43m(\u001b[49m\u001b[43mtrain_outputs\u001b[49m\u001b[43m)\u001b[49m\u001b[43m,\u001b[49m\u001b[43m \u001b[49m\u001b[43mepochs\u001b[49m\u001b[38;5;241;43m=\u001b[39;49m\u001b[38;5;241;43m1\u001b[39;49m\u001b[43m,\u001b[49m\u001b[43m \u001b[49m\u001b[43mbatch_size\u001b[49m\u001b[38;5;241;43m=\u001b[39;49m\u001b[38;5;241;43m512\u001b[39;49m\u001b[43m,\u001b[49m\u001b[43m \u001b[49m\u001b[43mverbose\u001b[49m\u001b[38;5;241;43m=\u001b[39;49m\u001b[38;5;241;43m2\u001b[39;49m\u001b[43m,\u001b[49m\u001b[43m \u001b[49m\u001b[43muse_multiprocessing\u001b[49m\u001b[38;5;241;43m=\u001b[39;49m\u001b[38;5;28;43;01mTrue\u001b[39;49;00m\u001b[43m)\u001b[49m\n",
      "File \u001b[0;32m/home/petar/jupyter/lib/python3.8/site-packages/keras/utils/traceback_utils.py:67\u001b[0m, in \u001b[0;36mfilter_traceback.<locals>.error_handler\u001b[0;34m(*args, **kwargs)\u001b[0m\n\u001b[1;32m     65\u001b[0m \u001b[38;5;28;01mexcept\u001b[39;00m \u001b[38;5;167;01mException\u001b[39;00m \u001b[38;5;28;01mas\u001b[39;00m e:  \u001b[38;5;66;03m# pylint: disable=broad-except\u001b[39;00m\n\u001b[1;32m     66\u001b[0m   filtered_tb \u001b[38;5;241m=\u001b[39m _process_traceback_frames(e\u001b[38;5;241m.\u001b[39m__traceback__)\n\u001b[0;32m---> 67\u001b[0m   \u001b[38;5;28;01mraise\u001b[39;00m e\u001b[38;5;241m.\u001b[39mwith_traceback(filtered_tb) \u001b[38;5;28;01mfrom\u001b[39;00m \u001b[38;5;28mNone\u001b[39m\n\u001b[1;32m     68\u001b[0m \u001b[38;5;28;01mfinally\u001b[39;00m:\n\u001b[1;32m     69\u001b[0m   \u001b[38;5;28;01mdel\u001b[39;00m filtered_tb\n",
      "File \u001b[0;32m/home/petar/jupyter/lib/python3.8/site-packages/tensorflow/python/eager/execute.py:54\u001b[0m, in \u001b[0;36mquick_execute\u001b[0;34m(op_name, num_outputs, inputs, attrs, ctx, name)\u001b[0m\n\u001b[1;32m     52\u001b[0m \u001b[38;5;28;01mtry\u001b[39;00m:\n\u001b[1;32m     53\u001b[0m   ctx\u001b[38;5;241m.\u001b[39mensure_initialized()\n\u001b[0;32m---> 54\u001b[0m   tensors \u001b[38;5;241m=\u001b[39m pywrap_tfe\u001b[38;5;241m.\u001b[39mTFE_Py_Execute(ctx\u001b[38;5;241m.\u001b[39m_handle, device_name, op_name,\n\u001b[1;32m     55\u001b[0m                                       inputs, attrs, num_outputs)\n\u001b[1;32m     56\u001b[0m \u001b[38;5;28;01mexcept\u001b[39;00m core\u001b[38;5;241m.\u001b[39m_NotOkStatusException \u001b[38;5;28;01mas\u001b[39;00m e:\n\u001b[1;32m     57\u001b[0m   \u001b[38;5;28;01mif\u001b[39;00m name \u001b[38;5;129;01mis\u001b[39;00m \u001b[38;5;129;01mnot\u001b[39;00m \u001b[38;5;28;01mNone\u001b[39;00m:\n",
      "\u001b[0;31mResourceExhaustedError\u001b[0m: Graph execution error:\n\nDetected at node 'model/tf_bert_model_2/bert/encoder/layer_._0/attention/self/MatMul' defined at (most recent call last):\n    File \"/usr/lib/python3.8/runpy.py\", line 194, in _run_module_as_main\n      return _run_code(code, main_globals, None,\n    File \"/usr/lib/python3.8/runpy.py\", line 87, in _run_code\n      exec(code, run_globals)\n    File \"/home/petar/jupyter/lib/python3.8/site-packages/ipykernel_launcher.py\", line 17, in <module>\n      app.launch_new_instance()\n    File \"/home/petar/jupyter/lib/python3.8/site-packages/traitlets/config/application.py\", line 976, in launch_instance\n      app.start()\n    File \"/home/petar/jupyter/lib/python3.8/site-packages/ipykernel/kernelapp.py\", line 712, in start\n      self.io_loop.start()\n    File \"/home/petar/jupyter/lib/python3.8/site-packages/tornado/platform/asyncio.py\", line 199, in start\n      self.asyncio_loop.run_forever()\n    File \"/usr/lib/python3.8/asyncio/base_events.py\", line 570, in run_forever\n      self._run_once()\n    File \"/usr/lib/python3.8/asyncio/base_events.py\", line 1859, in _run_once\n      handle._run()\n    File \"/usr/lib/python3.8/asyncio/events.py\", line 81, in _run\n      self._context.run(self._callback, *self._args)\n    File \"/home/petar/jupyter/lib/python3.8/site-packages/ipykernel/kernelbase.py\", line 510, in dispatch_queue\n      await self.process_one()\n    File \"/home/petar/jupyter/lib/python3.8/site-packages/ipykernel/kernelbase.py\", line 499, in process_one\n      await dispatch(*args)\n    File \"/home/petar/jupyter/lib/python3.8/site-packages/ipykernel/kernelbase.py\", line 406, in dispatch_shell\n      await result\n    File \"/home/petar/jupyter/lib/python3.8/site-packages/ipykernel/kernelbase.py\", line 730, in execute_request\n      reply_content = await reply_content\n    File \"/home/petar/jupyter/lib/python3.8/site-packages/ipykernel/ipkernel.py\", line 383, in do_execute\n      res = shell.run_cell(\n    File \"/home/petar/jupyter/lib/python3.8/site-packages/ipykernel/zmqshell.py\", line 528, in run_cell\n      return super().run_cell(*args, **kwargs)\n    File \"/home/petar/jupyter/lib/python3.8/site-packages/IPython/core/interactiveshell.py\", line 2881, in run_cell\n      result = self._run_cell(\n    File \"/home/petar/jupyter/lib/python3.8/site-packages/IPython/core/interactiveshell.py\", line 2936, in _run_cell\n      return runner(coro)\n    File \"/home/petar/jupyter/lib/python3.8/site-packages/IPython/core/async_helpers.py\", line 129, in _pseudo_sync_runner\n      coro.send(None)\n    File \"/home/petar/jupyter/lib/python3.8/site-packages/IPython/core/interactiveshell.py\", line 3135, in run_cell_async\n      has_raised = await self.run_ast_nodes(code_ast.body, cell_name,\n    File \"/home/petar/jupyter/lib/python3.8/site-packages/IPython/core/interactiveshell.py\", line 3338, in run_ast_nodes\n      if await self.run_code(code, result, async_=asy):\n    File \"/home/petar/jupyter/lib/python3.8/site-packages/IPython/core/interactiveshell.py\", line 3398, in run_code\n      exec(code_obj, self.user_global_ns, self.user_ns)\n    File \"/tmp/ipykernel_7125/3852371361.py\", line 1, in <cell line: 1>\n      bert_base_model1.fit([np.array(train_input_ids), np.array(train_attention_masks)], np.array(train_outputs), epochs=1)\n    File \"/home/petar/jupyter/lib/python3.8/site-packages/keras/utils/traceback_utils.py\", line 64, in error_handler\n      return fn(*args, **kwargs)\n    File \"/home/petar/jupyter/lib/python3.8/site-packages/keras/engine/training.py\", line 1409, in fit\n      tmp_logs = self.train_function(iterator)\n    File \"/home/petar/jupyter/lib/python3.8/site-packages/keras/engine/training.py\", line 1051, in train_function\n      return step_function(self, iterator)\n    File \"/home/petar/jupyter/lib/python3.8/site-packages/keras/engine/training.py\", line 1040, in step_function\n      outputs = model.distribute_strategy.run(run_step, args=(data,))\n    File \"/home/petar/jupyter/lib/python3.8/site-packages/keras/engine/training.py\", line 1030, in run_step\n      outputs = model.train_step(data)\n    File \"/home/petar/jupyter/lib/python3.8/site-packages/keras/engine/training.py\", line 889, in train_step\n      y_pred = self(x, training=True)\n    File \"/home/petar/jupyter/lib/python3.8/site-packages/keras/utils/traceback_utils.py\", line 64, in error_handler\n      return fn(*args, **kwargs)\n    File \"/home/petar/jupyter/lib/python3.8/site-packages/keras/engine/training.py\", line 490, in __call__\n      return super().__call__(*args, **kwargs)\n    File \"/home/petar/jupyter/lib/python3.8/site-packages/keras/utils/traceback_utils.py\", line 64, in error_handler\n      return fn(*args, **kwargs)\n    File \"/home/petar/jupyter/lib/python3.8/site-packages/keras/engine/base_layer.py\", line 1014, in __call__\n      outputs = call_fn(inputs, *args, **kwargs)\n    File \"/home/petar/jupyter/lib/python3.8/site-packages/keras/utils/traceback_utils.py\", line 92, in error_handler\n      return fn(*args, **kwargs)\n    File \"/home/petar/jupyter/lib/python3.8/site-packages/keras/engine/functional.py\", line 458, in call\n      return self._run_internal_graph(\n    File \"/home/petar/jupyter/lib/python3.8/site-packages/keras/engine/functional.py\", line 596, in _run_internal_graph\n      outputs = node.layer(*args, **kwargs)\n    File \"/home/petar/jupyter/lib/python3.8/site-packages/keras/utils/traceback_utils.py\", line 64, in error_handler\n      return fn(*args, **kwargs)\n    File \"/home/petar/jupyter/lib/python3.8/site-packages/keras/engine/training.py\", line 490, in __call__\n      return super().__call__(*args, **kwargs)\n    File \"/home/petar/jupyter/lib/python3.8/site-packages/keras/utils/traceback_utils.py\", line 64, in error_handler\n      return fn(*args, **kwargs)\n    File \"/home/petar/jupyter/lib/python3.8/site-packages/keras/engine/base_layer.py\", line 1014, in __call__\n      outputs = call_fn(inputs, *args, **kwargs)\n    File \"/home/petar/jupyter/lib/python3.8/site-packages/keras/utils/traceback_utils.py\", line 92, in error_handler\n      return fn(*args, **kwargs)\n    File \"/home/petar/jupyter/lib/python3.8/site-packages/transformers/modeling_tf_utils.py\", line 1078, in run_call_with_unpacked_inputs\n      arg_names = list(dict(inspect.signature(self.call).parameters).keys())\n    File \"/home/petar/jupyter/lib/python3.8/site-packages/transformers/models/bert/modeling_tf_bert.py\", line 1109, in call\n      outputs = self.bert(\n    File \"/home/petar/jupyter/lib/python3.8/site-packages/keras/utils/traceback_utils.py\", line 64, in error_handler\n      return fn(*args, **kwargs)\n    File \"/home/petar/jupyter/lib/python3.8/site-packages/keras/engine/base_layer.py\", line 1014, in __call__\n      outputs = call_fn(inputs, *args, **kwargs)\n    File \"/home/petar/jupyter/lib/python3.8/site-packages/keras/utils/traceback_utils.py\", line 92, in error_handler\n      return fn(*args, **kwargs)\n    File \"/home/petar/jupyter/lib/python3.8/site-packages/transformers/modeling_tf_utils.py\", line 1078, in run_call_with_unpacked_inputs\n      arg_names = list(dict(inspect.signature(self.call).parameters).keys())\n    File \"/home/petar/jupyter/lib/python3.8/site-packages/transformers/models/bert/modeling_tf_bert.py\", line 869, in call\n      encoder_outputs = self.encoder(\n    File \"/home/petar/jupyter/lib/python3.8/site-packages/keras/utils/traceback_utils.py\", line 64, in error_handler\n      return fn(*args, **kwargs)\n    File \"/home/petar/jupyter/lib/python3.8/site-packages/keras/engine/base_layer.py\", line 1014, in __call__\n      outputs = call_fn(inputs, *args, **kwargs)\n    File \"/home/petar/jupyter/lib/python3.8/site-packages/keras/utils/traceback_utils.py\", line 92, in error_handler\n      return fn(*args, **kwargs)\n    File \"/home/petar/jupyter/lib/python3.8/site-packages/transformers/models/bert/modeling_tf_bert.py\", line 554, in call\n      for i, layer_module in enumerate(self.layer):\n    File \"/home/petar/jupyter/lib/python3.8/site-packages/transformers/models/bert/modeling_tf_bert.py\", line 560, in call\n      layer_outputs = layer_module(\n    File \"/home/petar/jupyter/lib/python3.8/site-packages/keras/utils/traceback_utils.py\", line 64, in error_handler\n      return fn(*args, **kwargs)\n    File \"/home/petar/jupyter/lib/python3.8/site-packages/keras/engine/base_layer.py\", line 1014, in __call__\n      outputs = call_fn(inputs, *args, **kwargs)\n    File \"/home/petar/jupyter/lib/python3.8/site-packages/keras/utils/traceback_utils.py\", line 92, in error_handler\n      return fn(*args, **kwargs)\n    File \"/home/petar/jupyter/lib/python3.8/site-packages/transformers/models/bert/modeling_tf_bert.py\", line 470, in call\n      self_attention_outputs = self.attention(\n    File \"/home/petar/jupyter/lib/python3.8/site-packages/keras/utils/traceback_utils.py\", line 64, in error_handler\n      return fn(*args, **kwargs)\n    File \"/home/petar/jupyter/lib/python3.8/site-packages/keras/engine/base_layer.py\", line 1014, in __call__\n      outputs = call_fn(inputs, *args, **kwargs)\n    File \"/home/petar/jupyter/lib/python3.8/site-packages/keras/utils/traceback_utils.py\", line 92, in error_handler\n      return fn(*args, **kwargs)\n    File \"/home/petar/jupyter/lib/python3.8/site-packages/transformers/models/bert/modeling_tf_bert.py\", line 386, in call\n      self_outputs = self.self_attention(\n    File \"/home/petar/jupyter/lib/python3.8/site-packages/keras/utils/traceback_utils.py\", line 64, in error_handler\n      return fn(*args, **kwargs)\n    File \"/home/petar/jupyter/lib/python3.8/site-packages/keras/engine/base_layer.py\", line 1014, in __call__\n      outputs = call_fn(inputs, *args, **kwargs)\n    File \"/home/petar/jupyter/lib/python3.8/site-packages/keras/utils/traceback_utils.py\", line 92, in error_handler\n      return fn(*args, **kwargs)\n    File \"/home/petar/jupyter/lib/python3.8/site-packages/transformers/models/bert/modeling_tf_bert.py\", line 316, in call\n      attention_scores = tf.matmul(query_layer, key_layer, transpose_b=True)\nNode: 'model/tf_bert_model_2/bert/encoder/layer_._0/attention/self/MatMul'\nOOM when allocating tensor with shape[512,12,100,100] and type float on /job:localhost/replica:0/task:0/device:GPU:0 by allocator GPU_0_bfc\n\t [[{{node model/tf_bert_model_2/bert/encoder/layer_._0/attention/self/MatMul}}]]\nHint: If you want to see a list of allocated tensors when OOM happens, add report_tensor_allocations_upon_oom to RunOptions for current allocation info. This isn't available when running in Eager mode.\n [Op:__inference_train_function_42423]"
     ]
    }
   ],
   "source": [
    "bert_base_model1.fit([np.array(train_input_ids), np.array(train_attention_masks)], np.array(train_outputs), epochs=1, batch_size=512, verbose=2, use_multiprocessing=True)"
   ]
  },
  {
   "cell_type": "code",
   "execution_count": null,
   "id": "391bff94",
   "metadata": {},
   "outputs": [],
   "source": []
  },
  {
   "cell_type": "code",
   "execution_count": null,
   "id": "d42081c7",
   "metadata": {},
   "outputs": [],
   "source": []
  },
  {
   "cell_type": "code",
   "execution_count": null,
   "id": "df8866ae",
   "metadata": {},
   "outputs": [],
   "source": []
  },
  {
   "cell_type": "code",
   "execution_count": null,
   "id": "38d49de3",
   "metadata": {},
   "outputs": [],
   "source": []
  },
  {
   "cell_type": "code",
   "execution_count": null,
   "id": "34c887b5",
   "metadata": {},
   "outputs": [],
   "source": []
  },
  {
   "cell_type": "code",
   "execution_count": null,
   "id": "0e0dd038",
   "metadata": {},
   "outputs": [],
   "source": []
  },
  {
   "cell_type": "code",
   "execution_count": null,
   "id": "e6671fb4",
   "metadata": {},
   "outputs": [],
   "source": []
  },
  {
   "cell_type": "code",
   "execution_count": null,
   "id": "c6df4798",
   "metadata": {},
   "outputs": [],
   "source": []
  },
  {
   "cell_type": "code",
   "execution_count": null,
   "id": "e8f3d39f",
   "metadata": {},
   "outputs": [],
   "source": []
  },
  {
   "cell_type": "code",
   "execution_count": null,
   "id": "3c4d4d46",
   "metadata": {},
   "outputs": [],
   "source": []
  },
  {
   "cell_type": "code",
   "execution_count": null,
   "id": "951fb368",
   "metadata": {},
   "outputs": [],
   "source": []
  }
 ],
 "metadata": {
  "kernelspec": {
   "display_name": "Python 3 (ipykernel)",
   "language": "python",
   "name": "python3"
  },
  "language_info": {
   "codemirror_mode": {
    "name": "ipython",
    "version": 3
   },
   "file_extension": ".py",
   "mimetype": "text/x-python",
   "name": "python",
   "nbconvert_exporter": "python",
   "pygments_lexer": "ipython3",
   "version": "3.8.10"
  }
 },
 "nbformat": 4,
 "nbformat_minor": 5
}
